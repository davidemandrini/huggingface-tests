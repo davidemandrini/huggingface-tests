{
  "cells": [
    {
      "cell_type": "markdown",
      "metadata": {
        "id": "view-in-github",
        "colab_type": "text"
      },
      "source": [
        "<a href=\"https://colab.research.google.com/github/davidemandrini/huggingface-tests/blob/main/transformers_doc/en/pytorch/audio_classification.ipynb\" target=\"_parent\"><img src=\"https://colab.research.google.com/assets/colab-badge.svg\" alt=\"Open In Colab\"/></a>"
      ]
    },
    {
      "cell_type": "code",
      "execution_count": 1,
      "metadata": {
        "colab": {
          "base_uri": "https://localhost:8080/"
        },
        "id": "ldKOxeo8fOse",
        "outputId": "76746d58-3003-46cc-8fb9-bc14d9e3dc1e"
      },
      "outputs": [
        {
          "output_type": "stream",
          "name": "stdout",
          "text": [
            "Requirement already satisfied: transformers in /usr/local/lib/python3.11/dist-packages (4.48.3)\n",
            "Collecting datasets\n",
            "  Downloading datasets-3.3.2-py3-none-any.whl.metadata (19 kB)\n",
            "Requirement already satisfied: filelock in /usr/local/lib/python3.11/dist-packages (from transformers) (3.17.0)\n",
            "Requirement already satisfied: huggingface-hub<1.0,>=0.24.0 in /usr/local/lib/python3.11/dist-packages (from transformers) (0.28.1)\n",
            "Requirement already satisfied: numpy>=1.17 in /usr/local/lib/python3.11/dist-packages (from transformers) (1.26.4)\n",
            "Requirement already satisfied: packaging>=20.0 in /usr/local/lib/python3.11/dist-packages (from transformers) (24.2)\n",
            "Requirement already satisfied: pyyaml>=5.1 in /usr/local/lib/python3.11/dist-packages (from transformers) (6.0.2)\n",
            "Requirement already satisfied: regex!=2019.12.17 in /usr/local/lib/python3.11/dist-packages (from transformers) (2024.11.6)\n",
            "Requirement already satisfied: requests in /usr/local/lib/python3.11/dist-packages (from transformers) (2.32.3)\n",
            "Requirement already satisfied: tokenizers<0.22,>=0.21 in /usr/local/lib/python3.11/dist-packages (from transformers) (0.21.0)\n",
            "Requirement already satisfied: safetensors>=0.4.1 in /usr/local/lib/python3.11/dist-packages (from transformers) (0.5.2)\n",
            "Requirement already satisfied: tqdm>=4.27 in /usr/local/lib/python3.11/dist-packages (from transformers) (4.67.1)\n",
            "Requirement already satisfied: pyarrow>=15.0.0 in /usr/local/lib/python3.11/dist-packages (from datasets) (18.1.0)\n",
            "Collecting dill<0.3.9,>=0.3.0 (from datasets)\n",
            "  Downloading dill-0.3.8-py3-none-any.whl.metadata (10 kB)\n",
            "Requirement already satisfied: pandas in /usr/local/lib/python3.11/dist-packages (from datasets) (2.2.2)\n",
            "Collecting xxhash (from datasets)\n",
            "  Downloading xxhash-3.5.0-cp311-cp311-manylinux_2_17_x86_64.manylinux2014_x86_64.whl.metadata (12 kB)\n",
            "Collecting multiprocess<0.70.17 (from datasets)\n",
            "  Downloading multiprocess-0.70.16-py311-none-any.whl.metadata (7.2 kB)\n",
            "Requirement already satisfied: fsspec<=2024.12.0,>=2023.1.0 in /usr/local/lib/python3.11/dist-packages (from fsspec[http]<=2024.12.0,>=2023.1.0->datasets) (2024.10.0)\n",
            "Requirement already satisfied: aiohttp in /usr/local/lib/python3.11/dist-packages (from datasets) (3.11.12)\n",
            "Requirement already satisfied: aiohappyeyeballs>=2.3.0 in /usr/local/lib/python3.11/dist-packages (from aiohttp->datasets) (2.4.6)\n",
            "Requirement already satisfied: aiosignal>=1.1.2 in /usr/local/lib/python3.11/dist-packages (from aiohttp->datasets) (1.3.2)\n",
            "Requirement already satisfied: attrs>=17.3.0 in /usr/local/lib/python3.11/dist-packages (from aiohttp->datasets) (25.1.0)\n",
            "Requirement already satisfied: frozenlist>=1.1.1 in /usr/local/lib/python3.11/dist-packages (from aiohttp->datasets) (1.5.0)\n",
            "Requirement already satisfied: multidict<7.0,>=4.5 in /usr/local/lib/python3.11/dist-packages (from aiohttp->datasets) (6.1.0)\n",
            "Requirement already satisfied: propcache>=0.2.0 in /usr/local/lib/python3.11/dist-packages (from aiohttp->datasets) (0.3.0)\n",
            "Requirement already satisfied: yarl<2.0,>=1.17.0 in /usr/local/lib/python3.11/dist-packages (from aiohttp->datasets) (1.18.3)\n",
            "Requirement already satisfied: typing-extensions>=3.7.4.3 in /usr/local/lib/python3.11/dist-packages (from huggingface-hub<1.0,>=0.24.0->transformers) (4.12.2)\n",
            "Requirement already satisfied: charset-normalizer<4,>=2 in /usr/local/lib/python3.11/dist-packages (from requests->transformers) (3.4.1)\n",
            "Requirement already satisfied: idna<4,>=2.5 in /usr/local/lib/python3.11/dist-packages (from requests->transformers) (3.10)\n",
            "Requirement already satisfied: urllib3<3,>=1.21.1 in /usr/local/lib/python3.11/dist-packages (from requests->transformers) (2.3.0)\n",
            "Requirement already satisfied: certifi>=2017.4.17 in /usr/local/lib/python3.11/dist-packages (from requests->transformers) (2025.1.31)\n",
            "Requirement already satisfied: python-dateutil>=2.8.2 in /usr/local/lib/python3.11/dist-packages (from pandas->datasets) (2.8.2)\n",
            "Requirement already satisfied: pytz>=2020.1 in /usr/local/lib/python3.11/dist-packages (from pandas->datasets) (2025.1)\n",
            "Requirement already satisfied: tzdata>=2022.7 in /usr/local/lib/python3.11/dist-packages (from pandas->datasets) (2025.1)\n",
            "Requirement already satisfied: six>=1.5 in /usr/local/lib/python3.11/dist-packages (from python-dateutil>=2.8.2->pandas->datasets) (1.17.0)\n",
            "Downloading datasets-3.3.2-py3-none-any.whl (485 kB)\n",
            "\u001b[2K   \u001b[90m━━━━━━━━━━━━━━━━━━━━━━━━━━━━━━━━━━━━━━━━\u001b[0m \u001b[32m485.4/485.4 kB\u001b[0m \u001b[31m8.5 MB/s\u001b[0m eta \u001b[36m0:00:00\u001b[0m\n",
            "\u001b[?25hDownloading dill-0.3.8-py3-none-any.whl (116 kB)\n",
            "\u001b[2K   \u001b[90m━━━━━━━━━━━━━━━━━━━━━━━━━━━━━━━━━━━━━━━━\u001b[0m \u001b[32m116.3/116.3 kB\u001b[0m \u001b[31m9.0 MB/s\u001b[0m eta \u001b[36m0:00:00\u001b[0m\n",
            "\u001b[?25hDownloading multiprocess-0.70.16-py311-none-any.whl (143 kB)\n",
            "\u001b[2K   \u001b[90m━━━━━━━━━━━━━━━━━━━━━━━━━━━━━━━━━━━━━━━━\u001b[0m \u001b[32m143.5/143.5 kB\u001b[0m \u001b[31m11.0 MB/s\u001b[0m eta \u001b[36m0:00:00\u001b[0m\n",
            "\u001b[?25hDownloading xxhash-3.5.0-cp311-cp311-manylinux_2_17_x86_64.manylinux2014_x86_64.whl (194 kB)\n",
            "\u001b[2K   \u001b[90m━━━━━━━━━━━━━━━━━━━━━━━━━━━━━━━━━━━━━━━━\u001b[0m \u001b[32m194.8/194.8 kB\u001b[0m \u001b[31m16.5 MB/s\u001b[0m eta \u001b[36m0:00:00\u001b[0m\n",
            "\u001b[?25hInstalling collected packages: xxhash, dill, multiprocess, datasets\n",
            "Successfully installed datasets-3.3.2 dill-0.3.8 multiprocess-0.70.16 xxhash-3.5.0\n"
          ]
        }
      ],
      "source": [
        "# Transformers installation\n",
        "! pip install transformers datasets\n",
        "# To install from source instead of the last release, comment the command above and uncomment the following one.\n",
        "# ! pip install git+https://github.com/huggingface/transformers.git"
      ]
    },
    {
      "cell_type": "markdown",
      "metadata": {
        "id": "3B3c-59lfOsg"
      },
      "source": [
        "# Audio classification"
      ]
    },
    {
      "cell_type": "code",
      "execution_count": null,
      "metadata": {
        "cellView": "form",
        "hide_input": true,
        "id": "zg2YeX7bfOsh",
        "outputId": "d481cb73-b281-4d0b-c720-4f3d60072df2"
      },
      "outputs": [
        {
          "data": {
            "text/html": [
              "<iframe width=\"560\" height=\"315\" src=\"https://www.youtube.com/embed/KWwzcmG98Ds?rel=0&amp;controls=0&amp;showinfo=0\" frameborder=\"0\" allowfullscreen></iframe>"
            ],
            "text/plain": [
              "<IPython.core.display.HTML object>"
            ]
          },
          "execution_count": null,
          "metadata": {},
          "output_type": "execute_result"
        }
      ],
      "source": [
        "#@title\n",
        "from IPython.display import HTML\n",
        "\n",
        "HTML('<iframe width=\"560\" height=\"315\" src=\"https://www.youtube.com/embed/KWwzcmG98Ds?rel=0&amp;controls=0&amp;showinfo=0\" frameborder=\"0\" allowfullscreen></iframe>')"
      ]
    },
    {
      "cell_type": "markdown",
      "metadata": {
        "id": "aCpXw4eufOsh"
      },
      "source": [
        "Audio classification - just like with text - assigns a class label output from the input data. The only difference is instead of text inputs, you have raw audio waveforms. Some practical applications of audio classification include identifying speaker intent, language classification, and even animal species by their sounds.\n",
        "\n",
        "This guide will show you how to:\n",
        "\n",
        "1. Finetune [Wav2Vec2](https://huggingface.co/facebook/wav2vec2-base) on the [MInDS-14](https://huggingface.co/datasets/PolyAI/minds14) dataset to classify speaker intent.\n",
        "2. Use your finetuned model for inference.\n",
        "\n",
        "<Tip>\n",
        "The task illustrated in this tutorial is supported by the following model architectures:\n",
        "\n",
        "<!--This tip is automatically generated by `make fix-copies`, do not fill manually!-->\n",
        "\n",
        "[Audio Spectrogram Transformer](https://huggingface.co/docs/transformers/main/en/tasks/../model_doc/audio-spectrogram-transformer), [Data2VecAudio](https://huggingface.co/docs/transformers/main/en/tasks/../model_doc/data2vec-audio), [Hubert](https://huggingface.co/docs/transformers/main/en/tasks/../model_doc/hubert), [SEW](https://huggingface.co/docs/transformers/main/en/tasks/../model_doc/sew), [SEW-D](https://huggingface.co/docs/transformers/main/en/tasks/../model_doc/sew-d), [UniSpeech](https://huggingface.co/docs/transformers/main/en/tasks/../model_doc/unispeech), [UniSpeechSat](https://huggingface.co/docs/transformers/main/en/tasks/../model_doc/unispeech-sat), [Wav2Vec2](https://huggingface.co/docs/transformers/main/en/tasks/../model_doc/wav2vec2), [Wav2Vec2-Conformer](https://huggingface.co/docs/transformers/main/en/tasks/../model_doc/wav2vec2-conformer), [WavLM](https://huggingface.co/docs/transformers/main/en/tasks/../model_doc/wavlm), [Whisper](https://huggingface.co/docs/transformers/main/en/tasks/../model_doc/whisper)\n",
        "\n",
        "<!--End of the generated tip-->\n",
        "\n",
        "</Tip>\n",
        "\n",
        "Before you begin, make sure you have all the necessary libraries installed:\n",
        "\n",
        "```bash\n",
        "pip install transformers datasets evaluate\n",
        "```\n",
        "\n",
        "We encourage you to login to your Hugging Face account so you can upload and share your model with the community. When prompted, enter your token to login:"
      ]
    },
    {
      "cell_type": "code",
      "execution_count": 65,
      "metadata": {
        "colab": {
          "base_uri": "https://localhost:8080/",
          "height": 17,
          "referenced_widgets": [
            "b4da00cd12fc41b58369ce01f7bbd59a",
            "eb99321944a242d68bab50404391c773",
            "9f315e109558428194e964575f642432",
            "c02bd543af214f7d8a9446660b2cd309",
            "49f91ff150ea4d1493b7bfbfe436c448",
            "fe37d10619114d44a9ece5e78673f269",
            "9ac47e3bc44a4cfd9712031b8bfd2ab6",
            "e74407d274dc47e48dca39655df02bd2",
            "e1d69c661807473ab707a453f6102418",
            "5c9a557c08e249a9a566151843b930f2",
            "549b32eb97b94ea8afbaaeda6615a305",
            "015f50134d344a9e98c5fb2414eab03e",
            "b884d8637d8546d9b4263905c274a8be",
            "a55461233ea0420f89b83aee42fe8215",
            "f4329497e4224a4bb8b6ab131aec251e",
            "7ffc67a6224c4c28a61d7d9c734fa10e",
            "e1ec0a0ec6564fdd8febedb0b8514445",
            "0ac4e13d05b2431e8b47e219c7102ac8",
            "a0cb983d5dde47f397c239e8accfda1f",
            "a488af989cf241a4841863e00e535fb8"
          ]
        },
        "id": "RIAZUzx4fOsi",
        "outputId": "cda73bd4-7e9f-4cc0-d338-1bf48b2d7068"
      },
      "outputs": [
        {
          "output_type": "display_data",
          "data": {
            "text/plain": [
              "VBox(children=(HTML(value='<center> <img\\nsrc=https://huggingface.co/front/assets/huggingface_logo-noborder.sv…"
            ],
            "application/vnd.jupyter.widget-view+json": {
              "version_major": 2,
              "version_minor": 0,
              "model_id": "b4da00cd12fc41b58369ce01f7bbd59a"
            }
          },
          "metadata": {}
        }
      ],
      "source": [
        "from huggingface_hub import notebook_login\n",
        "\n",
        "notebook_login()"
      ]
    },
    {
      "cell_type": "markdown",
      "metadata": {
        "id": "CZSdrjI8fOsi"
      },
      "source": [
        "## Load MInDS-14 dataset"
      ]
    },
    {
      "cell_type": "markdown",
      "metadata": {
        "id": "-sg0jQyUfOsi"
      },
      "source": [
        "Start by loading the MInDS-14 dataset from the 🤗 Datasets library:"
      ]
    },
    {
      "cell_type": "code",
      "execution_count": 46,
      "metadata": {
        "id": "qczD3NYKfOsi"
      },
      "outputs": [],
      "source": [
        "from datasets import load_dataset, Audio\n",
        "\n",
        "minds = load_dataset(\"PolyAI/minds14\", name=\"en-US\", split=\"train\")"
      ]
    },
    {
      "cell_type": "markdown",
      "metadata": {
        "id": "FUfNC7TxfOsi"
      },
      "source": [
        "Split the dataset's `train` split into a smaller train and test set with the [train_test_split](https://huggingface.co/docs/datasets/main/en/package_reference/main_classes#datasets.Dataset.train_test_split) method. This'll give you a chance to experiment and make sure everything works before spending more time on the full dataset."
      ]
    },
    {
      "cell_type": "code",
      "execution_count": 47,
      "metadata": {
        "id": "4T_a2gOHfOsi"
      },
      "outputs": [],
      "source": [
        "minds = minds.train_test_split(test_size=0.2)"
      ]
    },
    {
      "cell_type": "markdown",
      "metadata": {
        "id": "sbWB0-rcfOsj"
      },
      "source": [
        "Then take a look at the dataset:"
      ]
    },
    {
      "cell_type": "code",
      "execution_count": 48,
      "metadata": {
        "colab": {
          "base_uri": "https://localhost:8080/"
        },
        "id": "1lru7KlbfOsj",
        "outputId": "c25029de-e2dc-409a-f82d-fefe293a569c"
      },
      "outputs": [
        {
          "output_type": "execute_result",
          "data": {
            "text/plain": [
              "DatasetDict({\n",
              "    train: Dataset({\n",
              "        features: ['path', 'audio', 'transcription', 'english_transcription', 'intent_class', 'lang_id'],\n",
              "        num_rows: 450\n",
              "    })\n",
              "    test: Dataset({\n",
              "        features: ['path', 'audio', 'transcription', 'english_transcription', 'intent_class', 'lang_id'],\n",
              "        num_rows: 113\n",
              "    })\n",
              "})"
            ]
          },
          "metadata": {},
          "execution_count": 48
        }
      ],
      "source": [
        "minds"
      ]
    },
    {
      "cell_type": "markdown",
      "metadata": {
        "id": "SqnjQ_tffOsj"
      },
      "source": [
        "While the dataset contains a lot of useful information, like `lang_id` and `english_transcription`, you'll focus on the `audio` and `intent_class` in this guide. Remove the other columns with the [remove_columns](https://huggingface.co/docs/datasets/main/en/package_reference/main_classes#datasets.Dataset.remove_columns) method:"
      ]
    },
    {
      "cell_type": "code",
      "execution_count": 49,
      "metadata": {
        "id": "YQdgZh4zfOsj"
      },
      "outputs": [],
      "source": [
        "minds = minds.remove_columns([\"path\", \"transcription\", \"english_transcription\", \"lang_id\"])"
      ]
    },
    {
      "cell_type": "markdown",
      "metadata": {
        "id": "CEqFCbW8fOsj"
      },
      "source": [
        "Take a look at an example now:"
      ]
    },
    {
      "cell_type": "code",
      "execution_count": 50,
      "metadata": {
        "colab": {
          "base_uri": "https://localhost:8080/"
        },
        "id": "w0hVo_MKfOsj",
        "outputId": "9662d308-a3bc-47bb-c416-d0149465ed36"
      },
      "outputs": [
        {
          "output_type": "execute_result",
          "data": {
            "text/plain": [
              "{'audio': {'path': '/root/.cache/huggingface/datasets/downloads/extracted/f9018fd3747971e77d59e6c5da3fdf9d5bb914c495e16c23e1fe47c921d76a7a/en-US~DIRECT_DEBIT/602ba1b605f96973d6794404.wav',\n",
              "  'array': array([ 0.        ,  0.        ,  0.        , ..., -0.00195312,\n",
              "         -0.00341797, -0.00402832]),\n",
              "  'sampling_rate': 8000},\n",
              " 'intent_class': 8}"
            ]
          },
          "metadata": {},
          "execution_count": 50
        }
      ],
      "source": [
        "minds[\"train\"][0]"
      ]
    },
    {
      "cell_type": "markdown",
      "metadata": {
        "id": "HGKF8aRVfOsj"
      },
      "source": [
        "There are two fields:\n",
        "\n",
        "- `audio`: a 1-dimensional `array` of the speech signal that must be called to load and resample the audio file.\n",
        "- `intent_class`: represents the class id of the speaker's intent.\n",
        "\n",
        "To make it easier for the model to get the label name from the label id, create a dictionary that maps the label name to an integer and vice versa:"
      ]
    },
    {
      "cell_type": "code",
      "execution_count": 8,
      "metadata": {
        "id": "CBtPRuRRfOsj"
      },
      "outputs": [],
      "source": [
        "labels = minds[\"train\"].features[\"intent_class\"].names\n",
        "label2id, id2label = dict(), dict()\n",
        "for i, label in enumerate(labels):\n",
        "    label2id[label] = str(i)\n",
        "    id2label[str(i)] = label"
      ]
    },
    {
      "cell_type": "code",
      "source": [
        "id2label"
      ],
      "metadata": {
        "colab": {
          "base_uri": "https://localhost:8080/"
        },
        "id": "tzjarSt9gJQe",
        "outputId": "f0ea64eb-0d4b-4cc8-92c4-3297eba3bb12"
      },
      "execution_count": 10,
      "outputs": [
        {
          "output_type": "execute_result",
          "data": {
            "text/plain": [
              "{'0': 'abroad',\n",
              " '1': 'address',\n",
              " '2': 'app_error',\n",
              " '3': 'atm_limit',\n",
              " '4': 'balance',\n",
              " '5': 'business_loan',\n",
              " '6': 'card_issues',\n",
              " '7': 'cash_deposit',\n",
              " '8': 'direct_debit',\n",
              " '9': 'freeze',\n",
              " '10': 'high_value_payment',\n",
              " '11': 'joint_account',\n",
              " '12': 'latest_transactions',\n",
              " '13': 'pay_bill'}"
            ]
          },
          "metadata": {},
          "execution_count": 10
        }
      ]
    },
    {
      "cell_type": "markdown",
      "metadata": {
        "id": "eBSFb8uWfOsj"
      },
      "source": [
        "Now you can convert the label id to a label name:"
      ]
    },
    {
      "cell_type": "code",
      "execution_count": 9,
      "metadata": {
        "colab": {
          "base_uri": "https://localhost:8080/",
          "height": 35
        },
        "id": "aXT2jhF7fOsj",
        "outputId": "adc50a50-02db-4421-8cd9-eea9162b2374"
      },
      "outputs": [
        {
          "output_type": "execute_result",
          "data": {
            "text/plain": [
              "'app_error'"
            ],
            "application/vnd.google.colaboratory.intrinsic+json": {
              "type": "string"
            }
          },
          "metadata": {},
          "execution_count": 9
        }
      ],
      "source": [
        "id2label[str(2)]"
      ]
    },
    {
      "cell_type": "markdown",
      "metadata": {
        "id": "bb-BEzy5fOsj"
      },
      "source": [
        "## Preprocess"
      ]
    },
    {
      "cell_type": "markdown",
      "metadata": {
        "id": "qX6coxnwfOsj"
      },
      "source": [
        "The next step is to load a Wav2Vec2 feature extractor to process the audio signal:"
      ]
    },
    {
      "cell_type": "code",
      "execution_count": 11,
      "metadata": {
        "colab": {
          "base_uri": "https://localhost:8080/",
          "height": 187,
          "referenced_widgets": [
            "b09a18aef8c345f28d4d73514aa4824f",
            "a9647d9eca3842499acedcd214acedd5",
            "ef04fe962776480fae07e3c81202b88f",
            "3cdaabf4d2674c4f81cd8e45a71c3243",
            "844423b1b6cf4ad8b20396b2668b09b9",
            "7f80932572304bc1b70a872fb05aa45e",
            "3a49e0a6a2184b52bb16e3826d0ba4cf",
            "0c2dbf73924f4e02b31e0eeb242bffda",
            "bbb9cd5e962644d3aa01efc3f630d9fd",
            "1975d892913a4207b1ce8d217ff6f1bb",
            "c71b6960875840e8b7e9cba9f8635367",
            "29bb994fdf50443fb4733a800e218993",
            "6a0080e680db4963a2299655847a9a92",
            "6740598dee6044bbad0d8782dfb8c9e2",
            "f2cf0c101d4d4e22b700a9fe92a036c1",
            "f2296b8380fa44299a555afc38ff6483",
            "ec1a12f5ae224e5cb3959b5f6387644d",
            "1ee538ab54f64479ba20bfc25379baf1",
            "df9a58a3cebc42588a8d27c2fb9fc8aa",
            "b8d3aa6ada2b46fc88f8cc316c4aa410",
            "fa83208462bf40f29838990159adc840",
            "d7ff47cb1e8c450abbba1fd450515ae6",
            "057fd2c0650942228659817689cbf7b8",
            "3d846623a9b849a0afe4be02a03ef068",
            "6fad2f61f08142c6b493afc95419b518",
            "7ac88a6676434fa090abb4adbc2d7010",
            "b2b47ff9759c47dc9313debccedebea4",
            "cc5f6804929049f7b6e9503b752e0ff6",
            "996ae7f8d2424ecda7a4ef4eea66332d",
            "158b26ceb1d44c638f516dd16b4ed1ee",
            "da5114b0eebc4ef78e8ff6c29a0ac694",
            "e3c85be3d9554d57a0f117c76ab0d8dc",
            "e389586a2c5346bdba0c102ef780d179"
          ]
        },
        "id": "VIlsOn5WfOsj",
        "outputId": "40c6e93f-10eb-4f2f-e248-24b4a061b258"
      },
      "outputs": [
        {
          "output_type": "stream",
          "name": "stderr",
          "text": [
            "The cache for model files in Transformers v4.22.0 has been updated. Migrating your old cache. This is a one-time only operation. You can interrupt this and resume the migration later on by calling `transformers.utils.move_cache()`.\n"
          ]
        },
        {
          "output_type": "display_data",
          "data": {
            "text/plain": [
              "0it [00:00, ?it/s]"
            ],
            "application/vnd.jupyter.widget-view+json": {
              "version_major": 2,
              "version_minor": 0,
              "model_id": "b09a18aef8c345f28d4d73514aa4824f"
            }
          },
          "metadata": {}
        },
        {
          "output_type": "display_data",
          "data": {
            "text/plain": [
              "preprocessor_config.json:   0%|          | 0.00/159 [00:00<?, ?B/s]"
            ],
            "application/vnd.jupyter.widget-view+json": {
              "version_major": 2,
              "version_minor": 0,
              "model_id": "29bb994fdf50443fb4733a800e218993"
            }
          },
          "metadata": {}
        },
        {
          "output_type": "display_data",
          "data": {
            "text/plain": [
              "config.json:   0%|          | 0.00/1.84k [00:00<?, ?B/s]"
            ],
            "application/vnd.jupyter.widget-view+json": {
              "version_major": 2,
              "version_minor": 0,
              "model_id": "057fd2c0650942228659817689cbf7b8"
            }
          },
          "metadata": {}
        },
        {
          "output_type": "stream",
          "name": "stderr",
          "text": [
            "/usr/local/lib/python3.11/dist-packages/transformers/configuration_utils.py:312: UserWarning: Passing `gradient_checkpointing` to a config initialization is deprecated and will be removed in v5 Transformers. Using `model.gradient_checkpointing_enable()` instead, or if you are using the `Trainer` API, pass `gradient_checkpointing=True` in your `TrainingArguments`.\n",
            "  warnings.warn(\n"
          ]
        }
      ],
      "source": [
        "from transformers import AutoFeatureExtractor\n",
        "\n",
        "feature_extractor = AutoFeatureExtractor.from_pretrained(\"facebook/wav2vec2-base\")"
      ]
    },
    {
      "cell_type": "code",
      "source": [
        "help(feature_extractor)"
      ],
      "metadata": {
        "colab": {
          "base_uri": "https://localhost:8080/"
        },
        "id": "UhY2Xr8NkDoo",
        "outputId": "29736dd0-8c93-49ea-e324-b2b343fee2bc"
      },
      "execution_count": 58,
      "outputs": [
        {
          "output_type": "stream",
          "name": "stdout",
          "text": [
            "Help on Wav2Vec2FeatureExtractor in module transformers.models.wav2vec2.feature_extraction_wav2vec2 object:\n",
            "\n",
            "class Wav2Vec2FeatureExtractor(transformers.feature_extraction_sequence_utils.SequenceFeatureExtractor)\n",
            " |  Wav2Vec2FeatureExtractor(feature_size=1, sampling_rate=16000, padding_value=0.0, return_attention_mask=False, do_normalize=True, **kwargs)\n",
            " |  \n",
            " |  Constructs a Wav2Vec2 feature extractor.\n",
            " |  \n",
            " |  This feature extractor inherits from [`~feature_extraction_sequence_utils.SequenceFeatureExtractor`] which contains\n",
            " |  most of the main methods. Users should refer to this superclass for more information regarding those methods.\n",
            " |  \n",
            " |  Args:\n",
            " |      feature_size (`int`, *optional*, defaults to 1):\n",
            " |          The feature dimension of the extracted features.\n",
            " |      sampling_rate (`int`, *optional*, defaults to 16000):\n",
            " |          The sampling rate at which the audio files should be digitalized expressed in hertz (Hz).\n",
            " |      padding_value (`float`, *optional*, defaults to 0.0):\n",
            " |          The value that is used to fill the padding values.\n",
            " |      do_normalize (`bool`, *optional*, defaults to `True`):\n",
            " |          Whether or not to zero-mean unit-variance normalize the input. Normalizing can help to significantly\n",
            " |          improve the performance for some models, *e.g.*,\n",
            " |          [wav2vec2-lv60](https://huggingface.co/models?search=lv60).\n",
            " |      return_attention_mask (`bool`, *optional*, defaults to `False`):\n",
            " |          Whether or not [`~Wav2Vec2FeatureExtractor.__call__`] should return `attention_mask`.\n",
            " |  \n",
            " |          <Tip>\n",
            " |  \n",
            " |          Wav2Vec2 models that have set `config.feat_extract_norm == \"group\"`, such as\n",
            " |          [wav2vec2-base](https://huggingface.co/facebook/wav2vec2-base-960h), have **not** been trained using\n",
            " |          `attention_mask`. For such models, `input_values` should simply be padded with 0 and no `attention_mask`\n",
            " |          should be passed.\n",
            " |  \n",
            " |          For Wav2Vec2 models that have set `config.feat_extract_norm == \"layer\"`, such as\n",
            " |          [wav2vec2-lv60](https://huggingface.co/facebook/wav2vec2-large-960h-lv60-self), `attention_mask` should be\n",
            " |          passed for batched inference.\n",
            " |  \n",
            " |          </Tip>\n",
            " |  \n",
            " |  Method resolution order:\n",
            " |      Wav2Vec2FeatureExtractor\n",
            " |      transformers.feature_extraction_sequence_utils.SequenceFeatureExtractor\n",
            " |      transformers.feature_extraction_utils.FeatureExtractionMixin\n",
            " |      transformers.utils.hub.PushToHubMixin\n",
            " |      builtins.object\n",
            " |  \n",
            " |  Methods defined here:\n",
            " |  \n",
            " |  __call__(self, raw_speech: Union[numpy.ndarray, List[float], List[numpy.ndarray], List[List[float]]], padding: Union[bool, str, transformers.utils.generic.PaddingStrategy] = False, max_length: Optional[int] = None, truncation: bool = False, pad_to_multiple_of: Optional[int] = None, return_attention_mask: Optional[bool] = None, return_tensors: Union[str, transformers.utils.generic.TensorType, NoneType] = None, sampling_rate: Optional[int] = None, **kwargs) -> transformers.feature_extraction_utils.BatchFeature\n",
            " |      Main method to featurize and prepare for the model one or several sequence(s).\n",
            " |      \n",
            " |      Args:\n",
            " |          raw_speech (`np.ndarray`, `List[float]`, `List[np.ndarray]`, `List[List[float]]`):\n",
            " |              The sequence or batch of sequences to be padded. Each sequence can be a numpy array, a list of float\n",
            " |              values, a list of numpy arrays or a list of list of float values. Must be mono channel audio, not\n",
            " |              stereo, i.e. single float per timestep.\n",
            " |          padding (`bool`, `str` or [`~utils.PaddingStrategy`], *optional*, defaults to `False`):\n",
            " |              Select a strategy to pad the returned sequences (according to the model's padding side and padding\n",
            " |              index) among:\n",
            " |      \n",
            " |              - `True` or `'longest'`: Pad to the longest sequence in the batch (or no padding if only a single\n",
            " |                sequence if provided).\n",
            " |              - `'max_length'`: Pad to a maximum length specified with the argument `max_length` or to the maximum\n",
            " |                acceptable input length for the model if that argument is not provided.\n",
            " |              - `False` or `'do_not_pad'` (default): No padding (i.e., can output a batch with sequences of different\n",
            " |                lengths).\n",
            " |          max_length (`int`, *optional*):\n",
            " |              Maximum length of the returned list and optionally padding length (see above).\n",
            " |          truncation (`bool`):\n",
            " |              Activates truncation to cut input sequences longer than *max_length* to *max_length*.\n",
            " |          pad_to_multiple_of (`int`, *optional*):\n",
            " |              If set will pad the sequence to a multiple of the provided value.\n",
            " |      \n",
            " |              This is especially useful to enable the use of Tensor Cores on NVIDIA hardware with compute capability\n",
            " |              `>= 7.5` (Volta), or on TPUs which benefit from having sequence lengths be a multiple of 128.\n",
            " |          return_attention_mask (`bool`, *optional*):\n",
            " |              Whether to return the attention mask. If left to the default, will return the attention mask according\n",
            " |              to the specific feature_extractor's default.\n",
            " |      \n",
            " |              [What are attention masks?](../glossary#attention-mask)\n",
            " |      \n",
            " |              <Tip>\n",
            " |      \n",
            " |              Wav2Vec2 models that have set `config.feat_extract_norm == \"group\"`, such as\n",
            " |              [wav2vec2-base](https://huggingface.co/facebook/wav2vec2-base-960h), have **not** been trained using\n",
            " |              `attention_mask`. For such models, `input_values` should simply be padded with 0 and no\n",
            " |              `attention_mask` should be passed.\n",
            " |      \n",
            " |              For Wav2Vec2 models that have set `config.feat_extract_norm == \"layer\"`, such as\n",
            " |              [wav2vec2-lv60](https://huggingface.co/facebook/wav2vec2-large-960h-lv60-self), `attention_mask` should\n",
            " |              be passed for batched inference.\n",
            " |      \n",
            " |              </Tip>\n",
            " |      \n",
            " |          return_tensors (`str` or [`~utils.TensorType`], *optional*):\n",
            " |              If set, will return tensors instead of list of python integers. Acceptable values are:\n",
            " |      \n",
            " |              - `'tf'`: Return TensorFlow `tf.constant` objects.\n",
            " |              - `'pt'`: Return PyTorch `torch.Tensor` objects.\n",
            " |              - `'np'`: Return Numpy `np.ndarray` objects.\n",
            " |          sampling_rate (`int`, *optional*):\n",
            " |              The sampling rate at which the `raw_speech` input was sampled. It is strongly recommended to pass\n",
            " |              `sampling_rate` at the forward call to prevent silent errors.\n",
            " |          padding_value (`float`, *optional*, defaults to 0.0):\n",
            " |  \n",
            " |  __init__(self, feature_size=1, sampling_rate=16000, padding_value=0.0, return_attention_mask=False, do_normalize=True, **kwargs)\n",
            " |      Set elements of `kwargs` as attributes.\n",
            " |  \n",
            " |  ----------------------------------------------------------------------\n",
            " |  Static methods defined here:\n",
            " |  \n",
            " |  zero_mean_unit_var_norm(input_values: List[numpy.ndarray], attention_mask: List[numpy.ndarray], padding_value: float = 0.0) -> List[numpy.ndarray]\n",
            " |      Every array in the list is normalized to have zero mean and unit variance\n",
            " |  \n",
            " |  ----------------------------------------------------------------------\n",
            " |  Data and other attributes defined here:\n",
            " |  \n",
            " |  __slotnames__ = []\n",
            " |  \n",
            " |  model_input_names = ['input_values', 'attention_mask']\n",
            " |  \n",
            " |  ----------------------------------------------------------------------\n",
            " |  Methods inherited from transformers.feature_extraction_sequence_utils.SequenceFeatureExtractor:\n",
            " |  \n",
            " |  pad(self, processed_features: Union[transformers.feature_extraction_utils.BatchFeature, List[transformers.feature_extraction_utils.BatchFeature], Dict[str, transformers.feature_extraction_utils.BatchFeature], Dict[str, List[transformers.feature_extraction_utils.BatchFeature]], List[Dict[str, transformers.feature_extraction_utils.BatchFeature]]], padding: Union[bool, str, transformers.utils.generic.PaddingStrategy] = True, max_length: Optional[int] = None, truncation: bool = False, pad_to_multiple_of: Optional[int] = None, return_attention_mask: Optional[bool] = None, return_tensors: Union[str, transformers.utils.generic.TensorType, NoneType] = None) -> transformers.feature_extraction_utils.BatchFeature\n",
            " |      Pad input values / input vectors or a batch of input values / input vectors up to predefined length or to the\n",
            " |      max sequence length in the batch.\n",
            " |      \n",
            " |      Padding side (left/right) padding values are defined at the feature extractor level (with `self.padding_side`,\n",
            " |      `self.padding_value`)\n",
            " |      \n",
            " |      <Tip>\n",
            " |      \n",
            " |      If the `processed_features` passed are dictionary of numpy arrays, PyTorch tensors or TensorFlow tensors, the\n",
            " |      result will use the same type unless you provide a different tensor type with `return_tensors`. In the case of\n",
            " |      PyTorch tensors, you will lose the specific device of your tensors however.\n",
            " |      \n",
            " |      </Tip>\n",
            " |      \n",
            " |      Args:\n",
            " |          processed_features ([`BatchFeature`], list of [`BatchFeature`], `Dict[str, List[float]]`, `Dict[str, List[List[float]]` or `List[Dict[str, List[float]]]`):\n",
            " |              Processed inputs. Can represent one input ([`BatchFeature`] or `Dict[str, List[float]]`) or a batch of\n",
            " |              input values / vectors (list of [`BatchFeature`], *Dict[str, List[List[float]]]* or *List[Dict[str,\n",
            " |              List[float]]]*) so you can use this method during preprocessing as well as in a PyTorch Dataloader\n",
            " |              collate function.\n",
            " |      \n",
            " |              Instead of `List[float]` you can have tensors (numpy arrays, PyTorch tensors or TensorFlow tensors),\n",
            " |              see the note above for the return type.\n",
            " |          padding (`bool`, `str` or [`~utils.PaddingStrategy`], *optional*, defaults to `True`):\n",
            " |              Select a strategy to pad the returned sequences (according to the model's padding side and padding\n",
            " |              index) among:\n",
            " |      \n",
            " |              - `True` or `'longest'`: Pad to the longest sequence in the batch (or no padding if only a single\n",
            " |                sequence if provided).\n",
            " |              - `'max_length'`: Pad to a maximum length specified with the argument `max_length` or to the maximum\n",
            " |                acceptable input length for the model if that argument is not provided.\n",
            " |              - `False` or `'do_not_pad'` (default): No padding (i.e., can output a batch with sequences of different\n",
            " |                lengths).\n",
            " |          max_length (`int`, *optional*):\n",
            " |              Maximum length of the returned list and optionally padding length (see above).\n",
            " |          truncation (`bool`):\n",
            " |              Activates truncation to cut input sequences longer than `max_length` to `max_length`.\n",
            " |          pad_to_multiple_of (`int`, *optional*):\n",
            " |              If set will pad the sequence to a multiple of the provided value.\n",
            " |      \n",
            " |              This is especially useful to enable the use of Tensor Cores on NVIDIA hardware with compute capability\n",
            " |              `>= 7.5` (Volta), or on TPUs which benefit from having sequence lengths be a multiple of 128.\n",
            " |          return_attention_mask (`bool`, *optional*):\n",
            " |              Whether to return the attention mask. If left to the default, will return the attention mask according\n",
            " |              to the specific feature_extractor's default.\n",
            " |      \n",
            " |              [What are attention masks?](../glossary#attention-mask)\n",
            " |          return_tensors (`str` or [`~utils.TensorType`], *optional*):\n",
            " |              If set, will return tensors instead of list of python integers. Acceptable values are:\n",
            " |      \n",
            " |              - `'tf'`: Return TensorFlow `tf.constant` objects.\n",
            " |              - `'pt'`: Return PyTorch `torch.Tensor` objects.\n",
            " |              - `'np'`: Return Numpy `np.ndarray` objects.\n",
            " |  \n",
            " |  ----------------------------------------------------------------------\n",
            " |  Methods inherited from transformers.feature_extraction_utils.FeatureExtractionMixin:\n",
            " |  \n",
            " |  __repr__(self)\n",
            " |      Return repr(self).\n",
            " |  \n",
            " |  push_to_hub(self, repo_id: str, use_temp_dir: Optional[bool] = None, commit_message: Optional[str] = None, private: Optional[bool] = None, token: Union[bool, str, NoneType] = None, max_shard_size: Union[int, str, NoneType] = '5GB', create_pr: bool = False, safe_serialization: bool = True, revision: str = None, commit_description: str = None, tags: Optional[List[str]] = None, **deprecated_kwargs) -> str from transformers.utils.hub.PushToHubMixin\n",
            " |      Upload the feature extractor file to the 🤗 Model Hub.\n",
            " |      \n",
            " |      Parameters:\n",
            " |          repo_id (`str`):\n",
            " |              The name of the repository you want to push your feature extractor to. It should contain your organization name\n",
            " |              when pushing to a given organization.\n",
            " |          use_temp_dir (`bool`, *optional*):\n",
            " |              Whether or not to use a temporary directory to store the files saved before they are pushed to the Hub.\n",
            " |              Will default to `True` if there is no directory named like `repo_id`, `False` otherwise.\n",
            " |          commit_message (`str`, *optional*):\n",
            " |              Message to commit while pushing. Will default to `\"Upload feature extractor\"`.\n",
            " |          private (`bool`, *optional*):\n",
            " |              Whether to make the repo private. If `None` (default), the repo will be public unless the organization's default is private. This value is ignored if the repo already exists.\n",
            " |          token (`bool` or `str`, *optional*):\n",
            " |              The token to use as HTTP bearer authorization for remote files. If `True`, will use the token generated\n",
            " |              when running `huggingface-cli login` (stored in `~/.huggingface`). Will default to `True` if `repo_url`\n",
            " |              is not specified.\n",
            " |          max_shard_size (`int` or `str`, *optional*, defaults to `\"5GB\"`):\n",
            " |              Only applicable for models. The maximum size for a checkpoint before being sharded. Checkpoints shard\n",
            " |              will then be each of size lower than this size. If expressed as a string, needs to be digits followed\n",
            " |              by a unit (like `\"5MB\"`). We default it to `\"5GB\"` so that users can easily load models on free-tier\n",
            " |              Google Colab instances without any CPU OOM issues.\n",
            " |          create_pr (`bool`, *optional*, defaults to `False`):\n",
            " |              Whether or not to create a PR with the uploaded files or directly commit.\n",
            " |          safe_serialization (`bool`, *optional*, defaults to `True`):\n",
            " |              Whether or not to convert the model weights in safetensors format for safer serialization.\n",
            " |          revision (`str`, *optional*):\n",
            " |              Branch to push the uploaded files to.\n",
            " |          commit_description (`str`, *optional*):\n",
            " |              The description of the commit that will be created\n",
            " |          tags (`List[str]`, *optional*):\n",
            " |              List of tags to push on the Hub.\n",
            " |      \n",
            " |      Examples:\n",
            " |      \n",
            " |      ```python\n",
            " |      from transformers import AutoFeatureExtractor\n",
            " |      \n",
            " |      feature extractor = AutoFeatureExtractor.from_pretrained(\"google-bert/bert-base-cased\")\n",
            " |      \n",
            " |      # Push the feature extractor to your namespace with the name \"my-finetuned-bert\".\n",
            " |      feature extractor.push_to_hub(\"my-finetuned-bert\")\n",
            " |      \n",
            " |      # Push the feature extractor to an organization with the name \"my-finetuned-bert\".\n",
            " |      feature extractor.push_to_hub(\"huggingface/my-finetuned-bert\")\n",
            " |      ```\n",
            " |  \n",
            " |  save_pretrained(self, save_directory: Union[str, os.PathLike], push_to_hub: bool = False, **kwargs)\n",
            " |      Save a feature_extractor object to the directory `save_directory`, so that it can be re-loaded using the\n",
            " |      [`~feature_extraction_utils.FeatureExtractionMixin.from_pretrained`] class method.\n",
            " |      \n",
            " |      Args:\n",
            " |          save_directory (`str` or `os.PathLike`):\n",
            " |              Directory where the feature extractor JSON file will be saved (will be created if it does not exist).\n",
            " |          push_to_hub (`bool`, *optional*, defaults to `False`):\n",
            " |              Whether or not to push your model to the Hugging Face model hub after saving it. You can specify the\n",
            " |              repository you want to push to with `repo_id` (will default to the name of `save_directory` in your\n",
            " |              namespace).\n",
            " |          kwargs (`Dict[str, Any]`, *optional*):\n",
            " |              Additional key word arguments passed along to the [`~utils.PushToHubMixin.push_to_hub`] method.\n",
            " |  \n",
            " |  to_dict(self) -> Dict[str, Any]\n",
            " |      Serializes this instance to a Python dictionary. Returns:\n",
            " |          `Dict[str, Any]`: Dictionary of all the attributes that make up this configuration instance.\n",
            " |  \n",
            " |  to_json_file(self, json_file_path: Union[str, os.PathLike])\n",
            " |      Save this instance to a JSON file.\n",
            " |      \n",
            " |      Args:\n",
            " |          json_file_path (`str` or `os.PathLike`):\n",
            " |              Path to the JSON file in which this feature_extractor instance's parameters will be saved.\n",
            " |  \n",
            " |  to_json_string(self) -> str\n",
            " |      Serializes this instance to a JSON string.\n",
            " |      \n",
            " |      Returns:\n",
            " |          `str`: String containing all the attributes that make up this feature_extractor instance in JSON format.\n",
            " |  \n",
            " |  ----------------------------------------------------------------------\n",
            " |  Class methods inherited from transformers.feature_extraction_utils.FeatureExtractionMixin:\n",
            " |  \n",
            " |  from_dict(feature_extractor_dict: Dict[str, Any], **kwargs) -> ForwardRef('SequenceFeatureExtractor')\n",
            " |      Instantiates a type of [`~feature_extraction_utils.FeatureExtractionMixin`] from a Python dictionary of\n",
            " |      parameters.\n",
            " |      \n",
            " |      Args:\n",
            " |          feature_extractor_dict (`Dict[str, Any]`):\n",
            " |              Dictionary that will be used to instantiate the feature extractor object. Such a dictionary can be\n",
            " |              retrieved from a pretrained checkpoint by leveraging the\n",
            " |              [`~feature_extraction_utils.FeatureExtractionMixin.to_dict`] method.\n",
            " |          kwargs (`Dict[str, Any]`):\n",
            " |              Additional parameters from which to initialize the feature extractor object.\n",
            " |      \n",
            " |      Returns:\n",
            " |          [`~feature_extraction_utils.FeatureExtractionMixin`]: The feature extractor object instantiated from those\n",
            " |          parameters.\n",
            " |  \n",
            " |  from_json_file(json_file: Union[str, os.PathLike]) -> ForwardRef('SequenceFeatureExtractor')\n",
            " |      Instantiates a feature extractor of type [`~feature_extraction_utils.FeatureExtractionMixin`] from the path to\n",
            " |      a JSON file of parameters.\n",
            " |      \n",
            " |      Args:\n",
            " |          json_file (`str` or `os.PathLike`):\n",
            " |              Path to the JSON file containing the parameters.\n",
            " |      \n",
            " |      Returns:\n",
            " |          A feature extractor of type [`~feature_extraction_utils.FeatureExtractionMixin`]: The feature_extractor\n",
            " |          object instantiated from that JSON file.\n",
            " |  \n",
            " |  from_pretrained(pretrained_model_name_or_path: Union[str, os.PathLike], cache_dir: Union[str, os.PathLike, NoneType] = None, force_download: bool = False, local_files_only: bool = False, token: Union[bool, str, NoneType] = None, revision: str = 'main', **kwargs)\n",
            " |      Instantiate a type of [`~feature_extraction_utils.FeatureExtractionMixin`] from a feature extractor, *e.g.* a\n",
            " |      derived class of [`SequenceFeatureExtractor`].\n",
            " |      \n",
            " |      Args:\n",
            " |          pretrained_model_name_or_path (`str` or `os.PathLike`):\n",
            " |              This can be either:\n",
            " |      \n",
            " |              - a string, the *model id* of a pretrained feature_extractor hosted inside a model repo on\n",
            " |                huggingface.co.\n",
            " |              - a path to a *directory* containing a feature extractor file saved using the\n",
            " |                [`~feature_extraction_utils.FeatureExtractionMixin.save_pretrained`] method, e.g.,\n",
            " |                `./my_model_directory/`.\n",
            " |              - a path or url to a saved feature extractor JSON *file*, e.g.,\n",
            " |                `./my_model_directory/preprocessor_config.json`.\n",
            " |          cache_dir (`str` or `os.PathLike`, *optional*):\n",
            " |              Path to a directory in which a downloaded pretrained model feature extractor should be cached if the\n",
            " |              standard cache should not be used.\n",
            " |          force_download (`bool`, *optional*, defaults to `False`):\n",
            " |              Whether or not to force to (re-)download the feature extractor files and override the cached versions\n",
            " |              if they exist.\n",
            " |          resume_download:\n",
            " |              Deprecated and ignored. All downloads are now resumed by default when possible.\n",
            " |              Will be removed in v5 of Transformers.\n",
            " |          proxies (`Dict[str, str]`, *optional*):\n",
            " |              A dictionary of proxy servers to use by protocol or endpoint, e.g., `{'http': 'foo.bar:3128',\n",
            " |              'http://hostname': 'foo.bar:4012'}.` The proxies are used on each request.\n",
            " |          token (`str` or `bool`, *optional*):\n",
            " |              The token to use as HTTP bearer authorization for remote files. If `True`, or not specified, will use\n",
            " |              the token generated when running `huggingface-cli login` (stored in `~/.huggingface`).\n",
            " |          revision (`str`, *optional*, defaults to `\"main\"`):\n",
            " |              The specific model version to use. It can be a branch name, a tag name, or a commit id, since we use a\n",
            " |              git-based system for storing models and other artifacts on huggingface.co, so `revision` can be any\n",
            " |              identifier allowed by git.\n",
            " |      \n",
            " |      \n",
            " |              <Tip>\n",
            " |      \n",
            " |              To test a pull request you made on the Hub, you can pass `revision=\"refs/pr/<pr_number>\"`.\n",
            " |      \n",
            " |              </Tip>\n",
            " |      \n",
            " |          return_unused_kwargs (`bool`, *optional*, defaults to `False`):\n",
            " |              If `False`, then this function returns just the final feature extractor object. If `True`, then this\n",
            " |              functions returns a `Tuple(feature_extractor, unused_kwargs)` where *unused_kwargs* is a dictionary\n",
            " |              consisting of the key/value pairs whose keys are not feature extractor attributes: i.e., the part of\n",
            " |              `kwargs` which has not been used to update `feature_extractor` and is otherwise ignored.\n",
            " |          kwargs (`Dict[str, Any]`, *optional*):\n",
            " |              The values in kwargs of any keys which are feature extractor attributes will be used to override the\n",
            " |              loaded values. Behavior concerning key/value pairs whose keys are *not* feature extractor attributes is\n",
            " |              controlled by the `return_unused_kwargs` keyword parameter.\n",
            " |      \n",
            " |      Returns:\n",
            " |          A feature extractor of type [`~feature_extraction_utils.FeatureExtractionMixin`].\n",
            " |      \n",
            " |      Examples:\n",
            " |      \n",
            " |      ```python\n",
            " |      # We can't instantiate directly the base class *FeatureExtractionMixin* nor *SequenceFeatureExtractor* so let's show the examples on a\n",
            " |      # derived class: *Wav2Vec2FeatureExtractor*\n",
            " |      feature_extractor = Wav2Vec2FeatureExtractor.from_pretrained(\n",
            " |          \"facebook/wav2vec2-base-960h\"\n",
            " |      )  # Download feature_extraction_config from huggingface.co and cache.\n",
            " |      feature_extractor = Wav2Vec2FeatureExtractor.from_pretrained(\n",
            " |          \"./test/saved_model/\"\n",
            " |      )  # E.g. feature_extractor (or model) was saved using *save_pretrained('./test/saved_model/')*\n",
            " |      feature_extractor = Wav2Vec2FeatureExtractor.from_pretrained(\"./test/saved_model/preprocessor_config.json\")\n",
            " |      feature_extractor = Wav2Vec2FeatureExtractor.from_pretrained(\n",
            " |          \"facebook/wav2vec2-base-960h\", return_attention_mask=False, foo=False\n",
            " |      )\n",
            " |      assert feature_extractor.return_attention_mask is False\n",
            " |      feature_extractor, unused_kwargs = Wav2Vec2FeatureExtractor.from_pretrained(\n",
            " |          \"facebook/wav2vec2-base-960h\", return_attention_mask=False, foo=False, return_unused_kwargs=True\n",
            " |      )\n",
            " |      assert feature_extractor.return_attention_mask is False\n",
            " |      assert unused_kwargs == {\"foo\": False}\n",
            " |      ```\n",
            " |  \n",
            " |  get_feature_extractor_dict(pretrained_model_name_or_path: Union[str, os.PathLike], **kwargs) -> Tuple[Dict[str, Any], Dict[str, Any]]\n",
            " |      From a `pretrained_model_name_or_path`, resolve to a dictionary of parameters, to be used for instantiating a\n",
            " |      feature extractor of type [`~feature_extraction_utils.FeatureExtractionMixin`] using `from_dict`.\n",
            " |      \n",
            " |      Parameters:\n",
            " |          pretrained_model_name_or_path (`str` or `os.PathLike`):\n",
            " |              The identifier of the pre-trained checkpoint from which we want the dictionary of parameters.\n",
            " |      \n",
            " |      Returns:\n",
            " |          `Tuple[Dict, Dict]`: The dictionary(ies) that will be used to instantiate the feature extractor object.\n",
            " |  \n",
            " |  register_for_auto_class(auto_class='AutoFeatureExtractor')\n",
            " |      Register this class with a given auto class. This should only be used for custom feature extractors as the ones\n",
            " |      in the library are already mapped with `AutoFeatureExtractor`.\n",
            " |      \n",
            " |      <Tip warning={true}>\n",
            " |      \n",
            " |      This API is experimental and may have some slight breaking changes in the next releases.\n",
            " |      \n",
            " |      </Tip>\n",
            " |      \n",
            " |      Args:\n",
            " |          auto_class (`str` or `type`, *optional*, defaults to `\"AutoFeatureExtractor\"`):\n",
            " |              The auto class to register this new feature extractor with.\n",
            " |  \n",
            " |  ----------------------------------------------------------------------\n",
            " |  Data descriptors inherited from transformers.utils.hub.PushToHubMixin:\n",
            " |  \n",
            " |  __dict__\n",
            " |      dictionary for instance variables\n",
            " |  \n",
            " |  __weakref__\n",
            " |      list of weak references to the object\n",
            "\n"
          ]
        }
      ]
    },
    {
      "cell_type": "markdown",
      "metadata": {
        "id": "f3sG1wd4fOsk"
      },
      "source": [
        "The MInDS-14 dataset has a sampling rate of 8000khz (you can find this information in it's [dataset card](https://huggingface.co/datasets/PolyAI/minds14)), which means you'll need to resample the dataset to 16000kHz to use the pretrained Wav2Vec2 model:"
      ]
    },
    {
      "cell_type": "code",
      "execution_count": 12,
      "metadata": {
        "colab": {
          "base_uri": "https://localhost:8080/"
        },
        "id": "Db0QB8qQfOsk",
        "outputId": "71e46e4d-7c1b-42ab-edb1-b1fa8b8a18b2"
      },
      "outputs": [
        {
          "output_type": "execute_result",
          "data": {
            "text/plain": [
              "{'audio': {'path': '/root/.cache/huggingface/datasets/downloads/extracted/f9018fd3747971e77d59e6c5da3fdf9d5bb914c495e16c23e1fe47c921d76a7a/en-US~FREEZE/602baf3cbb1e6d0fbce922b3.wav',\n",
              "  'array': array([-1.04710853e-05, -6.59661600e-06,  1.07920905e-05, ...,\n",
              "          1.70174520e-04,  3.45064291e-05, -6.10546049e-05]),\n",
              "  'sampling_rate': 16000},\n",
              " 'intent_class': 9}"
            ]
          },
          "metadata": {},
          "execution_count": 12
        }
      ],
      "source": [
        "minds = minds.cast_column(\"audio\", Audio(sampling_rate=16_000))\n",
        "minds[\"train\"][0]"
      ]
    },
    {
      "cell_type": "markdown",
      "metadata": {
        "id": "aaFT1cfLfOsk"
      },
      "source": [
        "Now create a preprocessing function that:\n",
        "\n",
        "1. Calls the `audio` column to load, and if necessary, resample the audio file.\n",
        "2. Checks if the sampling rate of the audio file matches the sampling rate of the audio data a model was pretrained with. You can find this information in the Wav2Vec2 [model card](https://huggingface.co/facebook/wav2vec2-base).\n",
        "3. Set a maximum input length to batch longer inputs without truncating them."
      ]
    },
    {
      "cell_type": "code",
      "execution_count": 14,
      "metadata": {
        "id": "3xAI58eEfOsk"
      },
      "outputs": [],
      "source": [
        "def preprocess_function(examples):\n",
        "    audio_arrays = [x[\"array\"] for x in examples[\"audio\"]]\n",
        "    inputs = feature_extractor(\n",
        "        audio_arrays, sampling_rate=feature_extractor.sampling_rate, max_length=16000, truncation=True\n",
        "    )\n",
        "    return inputs"
      ]
    },
    {
      "cell_type": "markdown",
      "metadata": {
        "id": "k1gCIRWFfOsk"
      },
      "source": [
        "To apply the preprocessing function over the entire dataset, use 🤗 Datasets [map](https://huggingface.co/docs/datasets/main/en/package_reference/main_classes#datasets.Dataset.map) function. You can speed up `map` by setting `batched=True` to process multiple elements of the dataset at once. Remove the columns you don't need, and rename `intent_class` to `label` because that's the name the model expects:"
      ]
    },
    {
      "cell_type": "code",
      "execution_count": 15,
      "metadata": {
        "colab": {
          "base_uri": "https://localhost:8080/",
          "height": 81,
          "referenced_widgets": [
            "5a279690e357479dbfa0d3b07aef3a5a",
            "5c2097aa52404b3b9436cdf4181fa008",
            "040a29e7c2c6417ca8c6a6b2fc3b3fc4",
            "cb7e25f1b581447e9d2e37886f1fb8e9",
            "ddbe5790d07446ed897e501b0d58faff",
            "7b71a3f4d2a944909b7447a99efe0af8",
            "ac8eacf9aea343f2bd8c10bd92ce82f9",
            "418621bb7a974b859284a85ba50d4fb0",
            "6c38385bd017447fb3172803fe68cbc0",
            "823359aa686f4e95bab72772598f7468",
            "4b1c11259e214232b091f6d982e66387",
            "3083edb26e3b4fc1a02606dbf97d6f64",
            "cfd7b6d3b769422791b5f90f978ab45b",
            "b65bae614bdf47f184bc8fdd0e09bc52",
            "65d9852684bd4134bb0cd5a6af962f3e",
            "f1a0f05ed30f4a549606607ffb3e1c0c",
            "b82be843e8264e2995e08f48466d0c83",
            "fa5f5c2b294947eaa37456caf9e90b7d",
            "6c2891fb2e0846a28734c5f4972511f4",
            "f2d95ccc261c40e1b6c30956340a6b41",
            "7c98bc6541804e108301f173f3372121",
            "0d14eb2f8591478bb5d7778efb4f36ed"
          ]
        },
        "id": "zHgQ21lwfOsk",
        "outputId": "356987f6-e493-4d53-8397-cec5f51c88ee"
      },
      "outputs": [
        {
          "output_type": "display_data",
          "data": {
            "text/plain": [
              "Map:   0%|          | 0/450 [00:00<?, ? examples/s]"
            ],
            "application/vnd.jupyter.widget-view+json": {
              "version_major": 2,
              "version_minor": 0,
              "model_id": "5a279690e357479dbfa0d3b07aef3a5a"
            }
          },
          "metadata": {}
        },
        {
          "output_type": "display_data",
          "data": {
            "text/plain": [
              "Map:   0%|          | 0/113 [00:00<?, ? examples/s]"
            ],
            "application/vnd.jupyter.widget-view+json": {
              "version_major": 2,
              "version_minor": 0,
              "model_id": "3083edb26e3b4fc1a02606dbf97d6f64"
            }
          },
          "metadata": {}
        }
      ],
      "source": [
        "encoded_minds = minds.map(preprocess_function, remove_columns=\"audio\", batched=True)\n",
        "encoded_minds = encoded_minds.rename_column(\"intent_class\", \"label\")"
      ]
    },
    {
      "cell_type": "code",
      "source": [
        "one_training_sample = encoded_minds[\"train\"].take(1).to_dict()"
      ],
      "metadata": {
        "id": "YfjEaXm2g9pB"
      },
      "execution_count": 25,
      "outputs": []
    },
    {
      "cell_type": "code",
      "source": [
        "print(len(one_training_sample['input_values'][0]))"
      ],
      "metadata": {
        "colab": {
          "base_uri": "https://localhost:8080/"
        },
        "id": "bilKTOLOiZK6",
        "outputId": "2ff017e6-d127-4261-acf3-dd878342ad45"
      },
      "execution_count": 27,
      "outputs": [
        {
          "output_type": "stream",
          "name": "stdout",
          "text": [
            "16000\n"
          ]
        }
      ]
    },
    {
      "cell_type": "code",
      "source": [
        "# It seems that we have samples of 1 second? Let's check\n",
        "\n",
        "minds[\"train\"][0][\"audio\"][\"array\"].shape[0] / minds[\"train\"][0][\"audio\"][\"sampling_rate\"]"
      ],
      "metadata": {
        "colab": {
          "base_uri": "https://localhost:8080/"
        },
        "id": "XDD7bcXEicHt",
        "outputId": "d79be9cf-73f7-4682-f06d-8a234db2af1f"
      },
      "execution_count": 57,
      "outputs": [
        {
          "output_type": "execute_result",
          "data": {
            "text/plain": [
              "11.349375"
            ]
          },
          "metadata": {},
          "execution_count": 57
        }
      ]
    },
    {
      "cell_type": "code",
      "source": [
        "# We decided to only keep 1s of audio when in the \"preprocess_function\" we call \"feature_extractor\" with \"max_length=16000\" (with the sample rate being the same value)\n",
        "\n",
        "# Is the audio only truncated or what? Let's check\n",
        "\n",
        "# Original samples are at 8khz, training samples have been converted at 16khz, we need to consider that"
      ],
      "metadata": {
        "id": "9imKghNDkYkA"
      },
      "execution_count": 80,
      "outputs": []
    },
    {
      "cell_type": "code",
      "source": [
        "minds[\"train\"][0][\"audio\"][\"array\"][:20]"
      ],
      "metadata": {
        "id": "YxwZoZ6vqm_v",
        "outputId": "c5ce0e5e-b563-4ffa-8fac-f463d0c50cac",
        "colab": {
          "base_uri": "https://localhost:8080/"
        }
      },
      "execution_count": 75,
      "outputs": [
        {
          "output_type": "execute_result",
          "data": {
            "text/plain": [
              "array([ 0.        ,  0.        ,  0.        ,  0.        , -0.00024414,\n",
              "       -0.00024414,  0.        ,  0.        ,  0.        ,  0.        ,\n",
              "        0.        ,  0.        ,  0.00024414,  0.        ,  0.        ,\n",
              "        0.        ,  0.        ,  0.        ,  0.00024414,  0.        ])"
            ]
          },
          "metadata": {},
          "execution_count": 75
        }
      ]
    },
    {
      "cell_type": "code",
      "source": [
        "one_training_sample['input_values'][0][:10]"
      ],
      "metadata": {
        "id": "zE93SoLoq2Q3",
        "outputId": "596b4cd4-1cc2-4cd5-8f72-b96f2b07d791",
        "colab": {
          "base_uri": "https://localhost:8080/"
        }
      },
      "execution_count": 79,
      "outputs": [
        {
          "output_type": "execute_result",
          "data": {
            "text/plain": [
              "[-0.00213496177457273,\n",
              " -0.0012041054433211684,\n",
              " 0.0029735988937318325,\n",
              " 0.002521916525438428,\n",
              " -0.0022522436920553446,\n",
              " -0.0024198039900511503,\n",
              " 0.0030127244535833597,\n",
              " 0.003986692521721125,\n",
              " -0.002205288503319025,\n",
              " -0.004261879250407219]"
            ]
          },
          "metadata": {},
          "execution_count": 79
        }
      ]
    },
    {
      "cell_type": "code",
      "source": [
        "from matplotlib.pyplot import plot"
      ],
      "metadata": {
        "id": "B5FHhUW5riY-"
      },
      "execution_count": 82,
      "outputs": []
    },
    {
      "cell_type": "code",
      "source": [
        "# 1 second is 8000 samples here\n",
        "plot(minds[\"train\"][0][\"audio\"][\"array\"][:8000])"
      ],
      "metadata": {
        "id": "Td2RZXySrnaD",
        "outputId": "80a7c4a9-111d-4fa9-be71-ffec97ad84b5",
        "colab": {
          "base_uri": "https://localhost:8080/",
          "height": 448
        }
      },
      "execution_count": 92,
      "outputs": [
        {
          "output_type": "execute_result",
          "data": {
            "text/plain": [
              "[<matplotlib.lines.Line2D at 0x7a23ed2d0790>]"
            ]
          },
          "metadata": {},
          "execution_count": 92
        },
        {
          "output_type": "display_data",
          "data": {
            "text/plain": [
              "<Figure size 640x480 with 1 Axes>"
            ],
            "image/png": "[encoded data removed]"
          },
          "metadata": {}
        }
      ]
    },
    {
      "cell_type": "code",
      "source": [
        "# 1 second here is 16000 samples\n",
        "plot(one_training_sample['input_values'][0][:16000])"
      ],
      "metadata": {
        "id": "NrRrI4sDrujN",
        "outputId": "c42195ad-c504-4f97-cef4-cc3b3a8a3dda",
        "colab": {
          "base_uri": "https://localhost:8080/",
          "height": 448
        }
      },
      "execution_count": 93,
      "outputs": [
        {
          "output_type": "execute_result",
          "data": {
            "text/plain": [
              "[<matplotlib.lines.Line2D at 0x7a23ec5dff50>]"
            ]
          },
          "metadata": {},
          "execution_count": 93
        },
        {
          "output_type": "display_data",
          "data": {
            "text/plain": [
              "<Figure size 640x480 with 1 Axes>"
            ],
            "image/png": "[encoded data removed]"
          },
          "metadata": {}
        }
      ]
    },
    {
      "cell_type": "code",
      "source": [
        "# Let's listen to the sample\n",
        "from IPython.display import Audio\n",
        "\n",
        "Audio(data=minds[\"train\"][0][\"audio\"][\"array\"], rate=8000)"
      ],
      "metadata": {
        "id": "j8IwZqLesK_5",
        "outputId": "f251d2cd-57d9-478e-e49b-200ae13da006",
        "colab": {
          "base_uri": "https://localhost:8080/",
          "height": 75
        }
      },
      "execution_count": 95,
      "outputs": [
        {
          "output_type": "execute_result",
          "data": {
            "text/plain": [
              "<IPython.lib.display.Audio object>"
            ],
            "text/html": [
              "\n",
              "                <audio  controls=\"controls\" >\n",
              "                    <source src=\"data:audio/wav;base64,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\" type=\"audio/wav\" />\n",
              "                    Your browser does not support the audio element.\n",
              "                </audio>\n",
              "              "
            ]
          },
          "metadata": {},
          "execution_count": 95
        }
      ]
    },
    {
      "cell_type": "code",
      "source": [
        "Audio(data=one_training_sample['input_values'][0], rate=16000)"
      ],
      "metadata": {
        "id": "JNgZYg2zsKzr",
        "outputId": "6f82f5ed-6514-45fe-83e7-1a6f070343e2",
        "colab": {
          "base_uri": "https://localhost:8080/",
          "height": 75
        }
      },
      "execution_count": 96,
      "outputs": [
        {
          "output_type": "execute_result",
          "data": {
            "text/plain": [
              "<IPython.lib.display.Audio object>"
            ],
            "text/html": [
              "\n",
              "                <audio  controls=\"controls\" >\n",
              "                    <source src=\"data:audio/wav;base64,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\" type=\"audio/wav\" />\n",
              "                    Your browser does not support the audio element.\n",
              "                </audio>\n",
              "              "
            ]
          },
          "metadata": {},
          "execution_count": 96
        }
      ]
    },
    {
      "cell_type": "code",
      "source": [
        "# Let's apply the feature_extractor to the raw_audio with no lenght duration\n",
        "Audio(\n",
        "    data=feature_extractor(minds[\"train\"][0][\"audio\"][\"array\"], sampling_rate=feature_extractor.sampling_rate)[\"input_values\"][0],\n",
        "    rate=16000\n",
        ")"
      ],
      "metadata": {
        "id": "F5lQczuSstXz",
        "outputId": "1114a6e3-b08c-4c51-acd0-9994ab4469ce",
        "colab": {
          "base_uri": "https://localhost:8080/",
          "height": 75
        }
      },
      "execution_count": 103,
      "outputs": [
        {
          "output_type": "execute_result",
          "data": {
            "text/plain": [
              "<IPython.lib.display.Audio object>"
            ],
            "text/html": [
              "\n",
              "                <audio  controls=\"controls\" >\n",
              "                    <source src=\"data:audio/wav;base64,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\" type=\"audio/wav\" />\n",
              "                    Your browser does not support the audio element.\n",
              "                </audio>\n",
              "              "
            ]
          },
          "metadata": {},
          "execution_count": 103
        }
      ]
    },
    {
      "cell_type": "code",
      "source": [
        "plot(feature_extractor(minds[\"train\"][0][\"audio\"][\"array\"], sampling_rate=feature_extractor.sampling_rate)[\"input_values\"][0])"
      ],
      "metadata": {
        "id": "fVOdQ1fYtJH4",
        "outputId": "4d9d349d-7987-4860-f4ce-ebef2d49364e",
        "colab": {
          "base_uri": "https://localhost:8080/",
          "height": 448
        }
      },
      "execution_count": 104,
      "outputs": [
        {
          "output_type": "execute_result",
          "data": {
            "text/plain": [
              "[<matplotlib.lines.Line2D at 0x7a23eb15b950>]"
            ]
          },
          "metadata": {},
          "execution_count": 104
        },
        {
          "output_type": "display_data",
          "data": {
            "text/plain": [
              "<Figure size 640x480 with 1 Axes>"
            ],
            "image/png": "[encoded data removed]"
          },
          "metadata": {}
        }
      ]
    },
    {
      "cell_type": "code",
      "source": [
        "plot(minds[\"train\"][0][\"audio\"][\"array\"])"
      ],
      "metadata": {
        "id": "n__Mjw1wtPk6",
        "outputId": "04337b0d-064f-4711-d7b3-2e3a379ec11a",
        "colab": {
          "base_uri": "https://localhost:8080/",
          "height": 448
        }
      },
      "execution_count": 105,
      "outputs": [
        {
          "output_type": "execute_result",
          "data": {
            "text/plain": [
              "[<matplotlib.lines.Line2D at 0x7a23eb0d0350>]"
            ]
          },
          "metadata": {},
          "execution_count": 105
        },
        {
          "output_type": "display_data",
          "data": {
            "text/plain": [
              "<Figure size 640x480 with 1 Axes>"
            ],
            "image/png": "[encoded data removed]"
          },
          "metadata": {}
        }
      ]
    },
    {
      "cell_type": "markdown",
      "metadata": {
        "id": "PzenHmmSfOsk"
      },
      "source": [
        "## Evaluate"
      ]
    },
    {
      "cell_type": "markdown",
      "metadata": {
        "id": "BeEOnn3IfOsk"
      },
      "source": [
        "Including a metric during training is often helpful for evaluating your model's performance. You can quickly load a evaluation method with the 🤗 [Evaluate](https://huggingface.co/docs/evaluate/index) library. For this task, load the [accuracy](https://huggingface.co/spaces/evaluate-metric/accuracy) metric (see the 🤗 Evaluate [quick tour](https://huggingface.co/docs/evaluate/a_quick_tour) to learn more about how to load and compute a metric):"
      ]
    },
    {
      "cell_type": "code",
      "source": [
        "!pip install evaluate"
      ],
      "metadata": {
        "colab": {
          "base_uri": "https://localhost:8080/"
        },
        "id": "nhsFAESQktS5",
        "outputId": "29708518-ef94-431b-a952-bd0fbdab25fc"
      },
      "execution_count": 60,
      "outputs": [
        {
          "output_type": "stream",
          "name": "stdout",
          "text": [
            "Collecting evaluate\n",
            "  Downloading evaluate-0.4.3-py3-none-any.whl.metadata (9.2 kB)\n",
            "Requirement already satisfied: datasets>=2.0.0 in /usr/local/lib/python3.11/dist-packages (from evaluate) (3.3.2)\n",
            "Requirement already satisfied: numpy>=1.17 in /usr/local/lib/python3.11/dist-packages (from evaluate) (1.26.4)\n",
            "Requirement already satisfied: dill in /usr/local/lib/python3.11/dist-packages (from evaluate) (0.3.8)\n",
            "Requirement already satisfied: pandas in /usr/local/lib/python3.11/dist-packages (from evaluate) (2.2.2)\n",
            "Requirement already satisfied: requests>=2.19.0 in /usr/local/lib/python3.11/dist-packages (from evaluate) (2.32.3)\n",
            "Requirement already satisfied: tqdm>=4.62.1 in /usr/local/lib/python3.11/dist-packages (from evaluate) (4.67.1)\n",
            "Requirement already satisfied: xxhash in /usr/local/lib/python3.11/dist-packages (from evaluate) (3.5.0)\n",
            "Requirement already satisfied: multiprocess in /usr/local/lib/python3.11/dist-packages (from evaluate) (0.70.16)\n",
            "Requirement already satisfied: fsspec>=2021.05.0 in /usr/local/lib/python3.11/dist-packages (from fsspec[http]>=2021.05.0->evaluate) (2024.10.0)\n",
            "Requirement already satisfied: huggingface-hub>=0.7.0 in /usr/local/lib/python3.11/dist-packages (from evaluate) (0.28.1)\n",
            "Requirement already satisfied: packaging in /usr/local/lib/python3.11/dist-packages (from evaluate) (24.2)\n",
            "Requirement already satisfied: filelock in /usr/local/lib/python3.11/dist-packages (from datasets>=2.0.0->evaluate) (3.17.0)\n",
            "Requirement already satisfied: pyarrow>=15.0.0 in /usr/local/lib/python3.11/dist-packages (from datasets>=2.0.0->evaluate) (18.1.0)\n",
            "Requirement already satisfied: aiohttp in /usr/local/lib/python3.11/dist-packages (from datasets>=2.0.0->evaluate) (3.11.12)\n",
            "Requirement already satisfied: pyyaml>=5.1 in /usr/local/lib/python3.11/dist-packages (from datasets>=2.0.0->evaluate) (6.0.2)\n",
            "Requirement already satisfied: typing-extensions>=3.7.4.3 in /usr/local/lib/python3.11/dist-packages (from huggingface-hub>=0.7.0->evaluate) (4.12.2)\n",
            "Requirement already satisfied: charset-normalizer<4,>=2 in /usr/local/lib/python3.11/dist-packages (from requests>=2.19.0->evaluate) (3.4.1)\n",
            "Requirement already satisfied: idna<4,>=2.5 in /usr/local/lib/python3.11/dist-packages (from requests>=2.19.0->evaluate) (3.10)\n",
            "Requirement already satisfied: urllib3<3,>=1.21.1 in /usr/local/lib/python3.11/dist-packages (from requests>=2.19.0->evaluate) (2.3.0)\n",
            "Requirement already satisfied: certifi>=2017.4.17 in /usr/local/lib/python3.11/dist-packages (from requests>=2.19.0->evaluate) (2025.1.31)\n",
            "Requirement already satisfied: python-dateutil>=2.8.2 in /usr/local/lib/python3.11/dist-packages (from pandas->evaluate) (2.8.2)\n",
            "Requirement already satisfied: pytz>=2020.1 in /usr/local/lib/python3.11/dist-packages (from pandas->evaluate) (2025.1)\n",
            "Requirement already satisfied: tzdata>=2022.7 in /usr/local/lib/python3.11/dist-packages (from pandas->evaluate) (2025.1)\n",
            "Requirement already satisfied: aiohappyeyeballs>=2.3.0 in /usr/local/lib/python3.11/dist-packages (from aiohttp->datasets>=2.0.0->evaluate) (2.4.6)\n",
            "Requirement already satisfied: aiosignal>=1.1.2 in /usr/local/lib/python3.11/dist-packages (from aiohttp->datasets>=2.0.0->evaluate) (1.3.2)\n",
            "Requirement already satisfied: attrs>=17.3.0 in /usr/local/lib/python3.11/dist-packages (from aiohttp->datasets>=2.0.0->evaluate) (25.1.0)\n",
            "Requirement already satisfied: frozenlist>=1.1.1 in /usr/local/lib/python3.11/dist-packages (from aiohttp->datasets>=2.0.0->evaluate) (1.5.0)\n",
            "Requirement already satisfied: multidict<7.0,>=4.5 in /usr/local/lib/python3.11/dist-packages (from aiohttp->datasets>=2.0.0->evaluate) (6.1.0)\n",
            "Requirement already satisfied: propcache>=0.2.0 in /usr/local/lib/python3.11/dist-packages (from aiohttp->datasets>=2.0.0->evaluate) (0.3.0)\n",
            "Requirement already satisfied: yarl<2.0,>=1.17.0 in /usr/local/lib/python3.11/dist-packages (from aiohttp->datasets>=2.0.0->evaluate) (1.18.3)\n",
            "Requirement already satisfied: six>=1.5 in /usr/local/lib/python3.11/dist-packages (from python-dateutil>=2.8.2->pandas->evaluate) (1.17.0)\n",
            "Downloading evaluate-0.4.3-py3-none-any.whl (84 kB)\n",
            "\u001b[2K   \u001b[90m━━━━━━━━━━━━━━━━━━━━━━━━━━━━━━━━━━━━━━━━\u001b[0m \u001b[32m84.0/84.0 kB\u001b[0m \u001b[31m2.0 MB/s\u001b[0m eta \u001b[36m0:00:00\u001b[0m\n",
            "\u001b[?25hInstalling collected packages: evaluate\n",
            "Successfully installed evaluate-0.4.3\n"
          ]
        }
      ]
    },
    {
      "cell_type": "code",
      "execution_count": 61,
      "metadata": {
        "colab": {
          "base_uri": "https://localhost:8080/",
          "height": 49,
          "referenced_widgets": [
            "3f8d299af9b84eff911bc1d7e7f3ee5c",
            "0e38951b02a4421491ff28c6baa10050",
            "1a19760441e34ea4b7d03b4fc5b07959",
            "85f6bd14a18b4078a58385bd31854b14",
            "ef838cfa85e54fb1b7257aedd8f8fc46",
            "776155baa9284a7b8977dfa89278c802",
            "31a4efd7b43048518a2616e9e5e4279c",
            "8a4ec93e2a314160a937879d3a25ddcc",
            "6123e5f1eb054cdd950c782a32f8c11e",
            "0abecc4e387c4d03a711f488c08ced8d",
            "ce005c0a40b3469d9848c91ee748c782"
          ]
        },
        "id": "16i0In-HfOsk",
        "outputId": "893ae95d-fb98-4e19-d52a-1cfaeb72c0ad"
      },
      "outputs": [
        {
          "output_type": "display_data",
          "data": {
            "text/plain": [
              "Downloading builder script:   0%|          | 0.00/4.20k [00:00<?, ?B/s]"
            ],
            "application/vnd.jupyter.widget-view+json": {
              "version_major": 2,
              "version_minor": 0,
              "model_id": "3f8d299af9b84eff911bc1d7e7f3ee5c"
            }
          },
          "metadata": {}
        }
      ],
      "source": [
        "import evaluate\n",
        "\n",
        "accuracy = evaluate.load(\"accuracy\")"
      ]
    },
    {
      "cell_type": "markdown",
      "metadata": {
        "id": "yL1FMKvmfOsk"
      },
      "source": [
        "Then create a function that passes your predictions and labels to [compute](https://huggingface.co/docs/evaluate/main/en/package_reference/main_classes#evaluate.EvaluationModule.compute) to calculate the accuracy:"
      ]
    },
    {
      "cell_type": "code",
      "execution_count": 62,
      "metadata": {
        "id": "1om7AAu9fOsk"
      },
      "outputs": [],
      "source": [
        "import numpy as np\n",
        "\n",
        "\n",
        "def compute_metrics(eval_pred):\n",
        "    predictions = np.argmax(eval_pred.predictions, axis=1)\n",
        "    return accuracy.compute(predictions=predictions, references=eval_pred.label_ids)"
      ]
    },
    {
      "cell_type": "markdown",
      "metadata": {
        "id": "cYCFYI3ufOsk"
      },
      "source": [
        "Your `compute_metrics` function is ready to go now, and you'll return to it when you setup your training."
      ]
    },
    {
      "cell_type": "markdown",
      "metadata": {
        "id": "ayZzNYs9fOsk"
      },
      "source": [
        "## Train"
      ]
    },
    {
      "cell_type": "markdown",
      "metadata": {
        "id": "GZ9LBgCvfOsk"
      },
      "source": [
        "<Tip>\n",
        "\n",
        "If you aren't familiar with finetuning a model with the [Trainer](https://huggingface.co/docs/transformers/main/en/main_classes/trainer#transformers.Trainer), take a look at the basic tutorial [here](https://huggingface.co/docs/transformers/main/en/tasks/../training#train-with-pytorch-trainer)!\n",
        "\n",
        "</Tip>\n",
        "\n",
        "You're ready to start training your model now! Load Wav2Vec2 with [AutoModelForAudioClassification](https://huggingface.co/docs/transformers/main/en/model_doc/auto#transformers.AutoModelForAudioClassification) along with the number of expected labels, and the label mappings:"
      ]
    },
    {
      "cell_type": "code",
      "execution_count": 63,
      "metadata": {
        "colab": {
          "base_uri": "https://localhost:8080/",
          "height": 140,
          "referenced_widgets": [
            "1e3f52283f0046469072f1d5daa44bf7",
            "2db4364f408b4e7897fd454edeb927b7",
            "02f6e981081541da8ed8b4d3ba3eab01",
            "39058a23fd604f08bb75385f88a5834b",
            "8ad64a4267ab4e2b8620124148ded2be",
            "29daa7d7edd847eca5c738adbaaaf18d",
            "982050812c754a5f882cf00ed0ddc748",
            "de45aed268ef4fc9b892f03746b9a2fc",
            "8fb571b6cb2849c785202dffaf85ce01",
            "677698fdd8c7473da5d90bcaa7bec358",
            "e4cc116a52884bfbb06052520ff1f457"
          ]
        },
        "id": "rM10b800fOsk",
        "outputId": "0156b64a-caaf-4318-b0cc-01e90d32bd5e"
      },
      "outputs": [
        {
          "output_type": "stream",
          "name": "stderr",
          "text": [
            "/usr/local/lib/python3.11/dist-packages/transformers/configuration_utils.py:312: UserWarning: Passing `gradient_checkpointing` to a config initialization is deprecated and will be removed in v5 Transformers. Using `model.gradient_checkpointing_enable()` instead, or if you are using the `Trainer` API, pass `gradient_checkpointing=True` in your `TrainingArguments`.\n",
            "  warnings.warn(\n"
          ]
        },
        {
          "output_type": "display_data",
          "data": {
            "text/plain": [
              "pytorch_model.bin:   0%|          | 0.00/380M [00:00<?, ?B/s]"
            ],
            "application/vnd.jupyter.widget-view+json": {
              "version_major": 2,
              "version_minor": 0,
              "model_id": "1e3f52283f0046469072f1d5daa44bf7"
            }
          },
          "metadata": {}
        },
        {
          "output_type": "stream",
          "name": "stderr",
          "text": [
            "Some weights of Wav2Vec2ForSequenceClassification were not initialized from the model checkpoint at facebook/wav2vec2-base and are newly initialized: ['classifier.bias', 'classifier.weight', 'projector.bias', 'projector.weight']\n",
            "You should probably TRAIN this model on a down-stream task to be able to use it for predictions and inference.\n"
          ]
        }
      ],
      "source": [
        "from transformers import AutoModelForAudioClassification, TrainingArguments, Trainer\n",
        "\n",
        "num_labels = len(id2label)\n",
        "model = AutoModelForAudioClassification.from_pretrained(\n",
        "    \"facebook/wav2vec2-base\", num_labels=num_labels, label2id=label2id, id2label=id2label\n",
        ")"
      ]
    },
    {
      "cell_type": "code",
      "source": [
        "# Test the model output before fine tuning\n",
        "import torch"
      ],
      "metadata": {
        "id": "VbZ2iYcOpwUV"
      },
      "execution_count": 69,
      "outputs": []
    },
    {
      "cell_type": "code",
      "source": [
        "sampling_rate = 16000\n",
        "inputs = feature_extractor(minds[\"train\"][0][\"audio\"][\"array\"], sampling_rate=sampling_rate, return_tensors=\"pt\")"
      ],
      "metadata": {
        "id": "6HOgwMrrp7kf"
      },
      "execution_count": 107,
      "outputs": []
    },
    {
      "cell_type": "code",
      "source": [
        "inputs"
      ],
      "metadata": {
        "id": "pPU-Tx63t95e",
        "outputId": "d8c954c8-2a46-424e-faf6-ab1c21b11bfa",
        "colab": {
          "base_uri": "https://localhost:8080/"
        }
      },
      "execution_count": 109,
      "outputs": [
        {
          "output_type": "execute_result",
          "data": {
            "text/plain": [
              "{'input_values': tensor([[-0.0001, -0.0001, -0.0001,  ..., -0.0173, -0.0302, -0.0356]])}"
            ]
          },
          "metadata": {},
          "execution_count": 109
        }
      ]
    },
    {
      "cell_type": "code",
      "source": [
        "inputs[\"input_values\"].shape"
      ],
      "metadata": {
        "id": "6U3-bKb0t_e0",
        "outputId": "0647d506-b402-4c3a-c73a-38f016368c64",
        "colab": {
          "base_uri": "https://localhost:8080/"
        }
      },
      "execution_count": 111,
      "outputs": [
        {
          "output_type": "execute_result",
          "data": {
            "text/plain": [
              "torch.Size([1, 90795])"
            ]
          },
          "metadata": {},
          "execution_count": 111
        }
      ]
    },
    {
      "cell_type": "code",
      "source": [
        "with torch.no_grad():\n",
        "  res = model(**inputs)\n",
        "res"
      ],
      "metadata": {
        "id": "W70aXtemp7an",
        "outputId": "dc1f50b8-fa8c-409f-ffce-dbe774e860cd",
        "colab": {
          "base_uri": "https://localhost:8080/"
        }
      },
      "execution_count": 125,
      "outputs": [
        {
          "output_type": "stream",
          "name": "stderr",
          "text": [
            "/usr/local/lib/python3.11/dist-packages/torch/utils/checkpoint.py:87: UserWarning: None of the inputs have requires_grad=True. Gradients will be None\n",
            "  warnings.warn(\n"
          ]
        },
        {
          "output_type": "execute_result",
          "data": {
            "text/plain": [
              "SequenceClassifierOutput(loss=None, logits=tensor([[-0.0042, -0.0563,  0.0228, -0.0121, -0.0087,  0.0183,  0.0373, -0.0064,\n",
              "          0.0012, -0.0068, -0.0225,  0.0673, -0.0204, -0.0147]]), hidden_states=None, attentions=None)"
            ]
          },
          "metadata": {},
          "execution_count": 125
        }
      ]
    },
    {
      "cell_type": "code",
      "source": [
        "res.logits.shape"
      ],
      "metadata": {
        "id": "19JpYtRyt8-6",
        "outputId": "1311bc98-bca2-494e-e554-5fa74f87ab99",
        "colab": {
          "base_uri": "https://localhost:8080/"
        }
      },
      "execution_count": 115,
      "outputs": [
        {
          "output_type": "execute_result",
          "data": {
            "text/plain": [
              "torch.Size([1, 14])"
            ]
          },
          "metadata": {},
          "execution_count": 115
        }
      ]
    },
    {
      "cell_type": "code",
      "source": [
        "size_of_first_example_from_before = 11.349375"
      ],
      "metadata": {
        "id": "5lPnZBYyuK4j"
      },
      "execution_count": 121,
      "outputs": []
    },
    {
      "cell_type": "code",
      "source": [
        "size_of_first_example_from_before / 14"
      ],
      "metadata": {
        "id": "jlgZ3NgEuoqF",
        "outputId": "f03ee66a-e268-4282-df71-2eda23fed45b",
        "colab": {
          "base_uri": "https://localhost:8080/"
        }
      },
      "execution_count": 123,
      "outputs": [
        {
          "output_type": "execute_result",
          "data": {
            "text/plain": [
              "0.8106696428571428"
            ]
          },
          "metadata": {},
          "execution_count": 123
        }
      ]
    },
    {
      "cell_type": "code",
      "source": [],
      "metadata": {
        "id": "jING0bZ4vh_u"
      },
      "execution_count": 124,
      "outputs": []
    },
    {
      "cell_type": "markdown",
      "metadata": {
        "id": "SDBSkgKbfOsk"
      },
      "source": [
        "At this point, only three steps remain:\n",
        "\n",
        "1. Define your training hyperparameters in [TrainingArguments](https://huggingface.co/docs/transformers/main/en/main_classes/trainer#transformers.TrainingArguments). The only required parameter is `output_dir` which specifies where to save your model. You'll push this model to the Hub by setting `push_to_hub=True` (you need to be signed in to Hugging Face to upload your model). At the end of each epoch, the [Trainer](https://huggingface.co/docs/transformers/main/en/main_classes/trainer#transformers.Trainer) will evaluate the accuracy and save the training checkpoint.\n",
        "2. Pass the training arguments to [Trainer](https://huggingface.co/docs/transformers/main/en/main_classes/trainer#transformers.Trainer) along with the model, dataset, tokenizer, data collator, and `compute_metrics` function.\n",
        "3. Call [train()](https://huggingface.co/docs/transformers/main/en/main_classes/trainer#transformers.Trainer.train) to finetune your model."
      ]
    },
    {
      "cell_type": "code",
      "execution_count": 66,
      "metadata": {
        "colab": {
          "base_uri": "https://localhost:8080/",
          "height": 793
        },
        "id": "UCtMFRFsfOso",
        "outputId": "8925b8be-b952-4e69-d1d8-80e3087f8a39"
      },
      "outputs": [
        {
          "output_type": "stream",
          "name": "stderr",
          "text": [
            "/usr/local/lib/python3.11/dist-packages/transformers/training_args.py:1575: FutureWarning: `evaluation_strategy` is deprecated and will be removed in version 4.46 of 🤗 Transformers. Use `eval_strategy` instead\n",
            "  warnings.warn(\n",
            "<ipython-input-66-9cda9791ae95>:17: FutureWarning: `tokenizer` is deprecated and will be removed in version 5.0.0 for `Trainer.__init__`. Use `processing_class` instead.\n",
            "  trainer = Trainer(\n",
            "\u001b[34m\u001b[1mwandb\u001b[0m: \u001b[33mWARNING\u001b[0m The `run_name` is currently set to the same value as `TrainingArguments.output_dir`. If this was not intended, please specify a different run name by setting the `TrainingArguments.run_name` parameter.\n",
            "\u001b[34m\u001b[1mwandb\u001b[0m: Using wandb-core as the SDK backend.  Please refer to https://wandb.me/wandb-core for more information.\n"
          ]
        },
        {
          "output_type": "display_data",
          "data": {
            "text/plain": [
              "<IPython.core.display.Javascript object>"
            ],
            "application/javascript": [
              "\n",
              "        window._wandbApiKey = new Promise((resolve, reject) => {\n",
              "            function loadScript(url) {\n",
              "            return new Promise(function(resolve, reject) {\n",
              "                let newScript = document.createElement(\"script\");\n",
              "                newScript.onerror = reject;\n",
              "                newScript.onload = resolve;\n",
              "                document.body.appendChild(newScript);\n",
              "                newScript.src = url;\n",
              "            });\n",
              "            }\n",
              "            loadScript(\"https://cdn.jsdelivr.net/npm/postmate/build/postmate.min.js\").then(() => {\n",
              "            const iframe = document.createElement('iframe')\n",
              "            iframe.style.cssText = \"width:0;height:0;border:none\"\n",
              "            document.body.appendChild(iframe)\n",
              "            const handshake = new Postmate({\n",
              "                container: iframe,\n",
              "                url: 'https://wandb.ai/authorize'\n",
              "            });\n",
              "            const timeout = setTimeout(() => reject(\"Couldn't auto authenticate\"), 5000)\n",
              "            handshake.then(function(child) {\n",
              "                child.on('authorize', data => {\n",
              "                    clearTimeout(timeout)\n",
              "                    resolve(data)\n",
              "                });\n",
              "            });\n",
              "            })\n",
              "        });\n",
              "    "
            ]
          },
          "metadata": {}
        },
        {
          "output_type": "stream",
          "name": "stderr",
          "text": [
            "\u001b[34m\u001b[1mwandb\u001b[0m: Logging into wandb.ai. (Learn how to deploy a W&B server locally: https://wandb.me/wandb-server)\n",
            "\u001b[34m\u001b[1mwandb\u001b[0m: You can find your API key in your browser here: https://wandb.ai/authorize\n",
            "wandb: Paste an API key from your profile and hit enter:"
          ]
        },
        {
          "name": "stdout",
          "output_type": "stream",
          "text": [
            " ··········\n"
          ]
        },
        {
          "output_type": "stream",
          "name": "stderr",
          "text": [
            "\u001b[34m\u001b[1mwandb\u001b[0m: \u001b[33mWARNING\u001b[0m If you're specifying your api key in code, ensure this code is not shared publicly.\n",
            "\u001b[34m\u001b[1mwandb\u001b[0m: \u001b[33mWARNING\u001b[0m Consider setting the WANDB_API_KEY environment variable, or running `wandb login` from the command line.\n",
            "\u001b[34m\u001b[1mwandb\u001b[0m: No netrc file found, creating one.\n",
            "\u001b[34m\u001b[1mwandb\u001b[0m: Appending key for api.wandb.ai to your netrc file: /root/.netrc\n",
            "\u001b[34m\u001b[1mwandb\u001b[0m: Currently logged in as: \u001b[33mdavide-mandrini\u001b[0m (\u001b[33mdavide-mandrini-it\u001b[0m) to \u001b[32mhttps://api.wandb.ai\u001b[0m. Use \u001b[1m`wandb login --relogin`\u001b[0m to force relogin\n"
          ]
        },
        {
          "output_type": "display_data",
          "data": {
            "text/plain": [
              "<IPython.core.display.HTML object>"
            ],
            "text/html": [
              "Tracking run with wandb version 0.19.7"
            ]
          },
          "metadata": {}
        },
        {
          "output_type": "display_data",
          "data": {
            "text/plain": [
              "<IPython.core.display.HTML object>"
            ],
            "text/html": [
              "Run data is saved locally in <code>/content/wandb/run-20250227_133204-numhhlem</code>"
            ]
          },
          "metadata": {}
        },
        {
          "output_type": "display_data",
          "data": {
            "text/plain": [
              "<IPython.core.display.HTML object>"
            ],
            "text/html": [
              "Syncing run <strong><a href='https://wandb.ai/davide-mandrini-it/huggingface/runs/numhhlem' target=\"_blank\">my_awesome_mind_model</a></strong> to <a href='https://wandb.ai/davide-mandrini-it/huggingface' target=\"_blank\">Weights & Biases</a> (<a href='https://wandb.me/developer-guide' target=\"_blank\">docs</a>)<br>"
            ]
          },
          "metadata": {}
        },
        {
          "output_type": "display_data",
          "data": {
            "text/plain": [
              "<IPython.core.display.HTML object>"
            ],
            "text/html": [
              " View project at <a href='https://wandb.ai/davide-mandrini-it/huggingface' target=\"_blank\">https://wandb.ai/davide-mandrini-it/huggingface</a>"
            ]
          },
          "metadata": {}
        },
        {
          "output_type": "display_data",
          "data": {
            "text/plain": [
              "<IPython.core.display.HTML object>"
            ],
            "text/html": [
              " View run at <a href='https://wandb.ai/davide-mandrini-it/huggingface/runs/numhhlem' target=\"_blank\">https://wandb.ai/davide-mandrini-it/huggingface/runs/numhhlem</a>"
            ]
          },
          "metadata": {}
        },
        {
          "output_type": "display_data",
          "data": {
            "text/plain": [
              "<IPython.core.display.HTML object>"
            ],
            "text/html": [
              "\n",
              "    <div>\n",
              "      \n",
              "      <progress value='6' max='30' style='width:300px; height:20px; vertical-align: middle;'></progress>\n",
              "      [ 6/30 08:47 < 52:42, 0.01 it/s, Epoch 1.53/10]\n",
              "    </div>\n",
              "    <table border=\"1\" class=\"dataframe\">\n",
              "  <thead>\n",
              " <tr style=\"text-align: left;\">\n",
              "      <th>Epoch</th>\n",
              "      <th>Training Loss</th>\n",
              "      <th>Validation Loss</th>\n",
              "      <th>Accuracy</th>\n",
              "    </tr>\n",
              "  </thead>\n",
              "  <tbody>\n",
              "    <tr>\n",
              "      <td>0</td>\n",
              "      <td>No log</td>\n",
              "      <td>2.636156</td>\n",
              "      <td>0.070796</td>\n",
              "    </tr>\n",
              "  </tbody>\n",
              "</table><p>"
            ]
          },
          "metadata": {}
        },
        {
          "output_type": "error",
          "ename": "KeyboardInterrupt",
          "evalue": "",
          "traceback": [
            "\u001b[0;31m---------------------------------------------------------------------------\u001b[0m",
            "\u001b[0;31mKeyboardInterrupt\u001b[0m                         Traceback (most recent call last)",
            "\u001b[0;32m<ipython-input-66-9cda9791ae95>\u001b[0m in \u001b[0;36m<cell line: 0>\u001b[0;34m()\u001b[0m\n\u001b[1;32m     24\u001b[0m )\n\u001b[1;32m     25\u001b[0m \u001b[0;34m\u001b[0m\u001b[0m\n\u001b[0;32m---> 26\u001b[0;31m \u001b[0mtrainer\u001b[0m\u001b[0;34m.\u001b[0m\u001b[0mtrain\u001b[0m\u001b[0;34m(\u001b[0m\u001b[0;34m)\u001b[0m\u001b[0;34m\u001b[0m\u001b[0;34m\u001b[0m\u001b[0m\n\u001b[0m",
            "\u001b[0;32m/usr/local/lib/python3.11/dist-packages/transformers/trainer.py\u001b[0m in \u001b[0;36mtrain\u001b[0;34m(self, resume_from_checkpoint, trial, ignore_keys_for_eval, **kwargs)\u001b[0m\n\u001b[1;32m   2160\u001b[0m                 \u001b[0;31m# Disable progress bars when uploading models during checkpoints to avoid polluting stdout\u001b[0m\u001b[0;34m\u001b[0m\u001b[0;34m\u001b[0m\u001b[0m\n\u001b[1;32m   2161\u001b[0m                 \u001b[0mhf_hub_utils\u001b[0m\u001b[0;34m.\u001b[0m\u001b[0mdisable_progress_bars\u001b[0m\u001b[0;34m(\u001b[0m\u001b[0;34m)\u001b[0m\u001b[0;34m\u001b[0m\u001b[0;34m\u001b[0m\u001b[0m\n\u001b[0;32m-> 2162\u001b[0;31m                 return inner_training_loop(\n\u001b[0m\u001b[1;32m   2163\u001b[0m                     \u001b[0margs\u001b[0m\u001b[0;34m=\u001b[0m\u001b[0margs\u001b[0m\u001b[0;34m,\u001b[0m\u001b[0;34m\u001b[0m\u001b[0;34m\u001b[0m\u001b[0m\n\u001b[1;32m   2164\u001b[0m                     \u001b[0mresume_from_checkpoint\u001b[0m\u001b[0;34m=\u001b[0m\u001b[0mresume_from_checkpoint\u001b[0m\u001b[0;34m,\u001b[0m\u001b[0;34m\u001b[0m\u001b[0;34m\u001b[0m\u001b[0m\n",
            "\u001b[0;32m/usr/local/lib/python3.11/dist-packages/transformers/trainer.py\u001b[0m in \u001b[0;36m_inner_training_loop\u001b[0;34m(self, batch_size, args, resume_from_checkpoint, trial, ignore_keys_for_eval)\u001b[0m\n\u001b[1;32m   2529\u001b[0m                     )\n\u001b[1;32m   2530\u001b[0m                     \u001b[0;32mwith\u001b[0m \u001b[0mcontext\u001b[0m\u001b[0;34m(\u001b[0m\u001b[0;34m)\u001b[0m\u001b[0;34m:\u001b[0m\u001b[0;34m\u001b[0m\u001b[0;34m\u001b[0m\u001b[0m\n\u001b[0;32m-> 2531\u001b[0;31m                         \u001b[0mtr_loss_step\u001b[0m \u001b[0;34m=\u001b[0m \u001b[0mself\u001b[0m\u001b[0;34m.\u001b[0m\u001b[0mtraining_step\u001b[0m\u001b[0;34m(\u001b[0m\u001b[0mmodel\u001b[0m\u001b[0;34m,\u001b[0m \u001b[0minputs\u001b[0m\u001b[0;34m,\u001b[0m \u001b[0mnum_items_in_batch\u001b[0m\u001b[0;34m)\u001b[0m\u001b[0;34m\u001b[0m\u001b[0;34m\u001b[0m\u001b[0m\n\u001b[0m\u001b[1;32m   2532\u001b[0m \u001b[0;34m\u001b[0m\u001b[0m\n\u001b[1;32m   2533\u001b[0m                     if (\n",
            "\u001b[0;32m/usr/local/lib/python3.11/dist-packages/transformers/trainer.py\u001b[0m in \u001b[0;36mtraining_step\u001b[0;34m(***failed resolving arguments***)\u001b[0m\n\u001b[1;32m   3710\u001b[0m                 \u001b[0mloss\u001b[0m \u001b[0;34m=\u001b[0m \u001b[0mloss\u001b[0m \u001b[0;34m/\u001b[0m \u001b[0mself\u001b[0m\u001b[0;34m.\u001b[0m\u001b[0margs\u001b[0m\u001b[0;34m.\u001b[0m\u001b[0mgradient_accumulation_steps\u001b[0m\u001b[0;34m\u001b[0m\u001b[0;34m\u001b[0m\u001b[0m\n\u001b[1;32m   3711\u001b[0m \u001b[0;34m\u001b[0m\u001b[0m\n\u001b[0;32m-> 3712\u001b[0;31m             \u001b[0mself\u001b[0m\u001b[0;34m.\u001b[0m\u001b[0maccelerator\u001b[0m\u001b[0;34m.\u001b[0m\u001b[0mbackward\u001b[0m\u001b[0;34m(\u001b[0m\u001b[0mloss\u001b[0m\u001b[0;34m,\u001b[0m \u001b[0;34m**\u001b[0m\u001b[0mkwargs\u001b[0m\u001b[0;34m)\u001b[0m\u001b[0;34m\u001b[0m\u001b[0;34m\u001b[0m\u001b[0m\n\u001b[0m\u001b[1;32m   3713\u001b[0m \u001b[0;34m\u001b[0m\u001b[0m\n\u001b[1;32m   3714\u001b[0m             \u001b[0;32mreturn\u001b[0m \u001b[0mloss\u001b[0m\u001b[0;34m.\u001b[0m\u001b[0mdetach\u001b[0m\u001b[0;34m(\u001b[0m\u001b[0;34m)\u001b[0m\u001b[0;34m\u001b[0m\u001b[0;34m\u001b[0m\u001b[0m\n",
            "\u001b[0;32m/usr/local/lib/python3.11/dist-packages/accelerate/accelerator.py\u001b[0m in \u001b[0;36mbackward\u001b[0;34m(self, loss, **kwargs)\u001b[0m\n\u001b[1;32m   2244\u001b[0m             \u001b[0mself\u001b[0m\u001b[0;34m.\u001b[0m\u001b[0mlomo_backward\u001b[0m\u001b[0;34m(\u001b[0m\u001b[0mloss\u001b[0m\u001b[0;34m,\u001b[0m \u001b[0mlearning_rate\u001b[0m\u001b[0;34m)\u001b[0m\u001b[0;34m\u001b[0m\u001b[0;34m\u001b[0m\u001b[0m\n\u001b[1;32m   2245\u001b[0m         \u001b[0;32melse\u001b[0m\u001b[0;34m:\u001b[0m\u001b[0;34m\u001b[0m\u001b[0;34m\u001b[0m\u001b[0m\n\u001b[0;32m-> 2246\u001b[0;31m             \u001b[0mloss\u001b[0m\u001b[0;34m.\u001b[0m\u001b[0mbackward\u001b[0m\u001b[0;34m(\u001b[0m\u001b[0;34m**\u001b[0m\u001b[0mkwargs\u001b[0m\u001b[0;34m)\u001b[0m\u001b[0;34m\u001b[0m\u001b[0;34m\u001b[0m\u001b[0m\n\u001b[0m\u001b[1;32m   2247\u001b[0m \u001b[0;34m\u001b[0m\u001b[0m\n\u001b[1;32m   2248\u001b[0m     \u001b[0;32mdef\u001b[0m \u001b[0mset_trigger\u001b[0m\u001b[0;34m(\u001b[0m\u001b[0mself\u001b[0m\u001b[0;34m)\u001b[0m\u001b[0;34m:\u001b[0m\u001b[0;34m\u001b[0m\u001b[0;34m\u001b[0m\u001b[0m\n",
            "\u001b[0;32m/usr/local/lib/python3.11/dist-packages/torch/_tensor.py\u001b[0m in \u001b[0;36mbackward\u001b[0;34m(self, gradient, retain_graph, create_graph, inputs)\u001b[0m\n\u001b[1;32m    579\u001b[0m                 \u001b[0minputs\u001b[0m\u001b[0;34m=\u001b[0m\u001b[0minputs\u001b[0m\u001b[0;34m,\u001b[0m\u001b[0;34m\u001b[0m\u001b[0;34m\u001b[0m\u001b[0m\n\u001b[1;32m    580\u001b[0m             )\n\u001b[0;32m--> 581\u001b[0;31m         torch.autograd.backward(\n\u001b[0m\u001b[1;32m    582\u001b[0m             \u001b[0mself\u001b[0m\u001b[0;34m,\u001b[0m \u001b[0mgradient\u001b[0m\u001b[0;34m,\u001b[0m \u001b[0mretain_graph\u001b[0m\u001b[0;34m,\u001b[0m \u001b[0mcreate_graph\u001b[0m\u001b[0;34m,\u001b[0m \u001b[0minputs\u001b[0m\u001b[0;34m=\u001b[0m\u001b[0minputs\u001b[0m\u001b[0;34m\u001b[0m\u001b[0;34m\u001b[0m\u001b[0m\n\u001b[1;32m    583\u001b[0m         )\n",
            "\u001b[0;32m/usr/local/lib/python3.11/dist-packages/torch/autograd/__init__.py\u001b[0m in \u001b[0;36mbackward\u001b[0;34m(tensors, grad_tensors, retain_graph, create_graph, grad_variables, inputs)\u001b[0m\n\u001b[1;32m    345\u001b[0m     \u001b[0;31m# some Python versions print out the first line of a multi-line function\u001b[0m\u001b[0;34m\u001b[0m\u001b[0;34m\u001b[0m\u001b[0m\n\u001b[1;32m    346\u001b[0m     \u001b[0;31m# calls in the traceback and some print out the last line\u001b[0m\u001b[0;34m\u001b[0m\u001b[0;34m\u001b[0m\u001b[0m\n\u001b[0;32m--> 347\u001b[0;31m     _engine_run_backward(\n\u001b[0m\u001b[1;32m    348\u001b[0m         \u001b[0mtensors\u001b[0m\u001b[0;34m,\u001b[0m\u001b[0;34m\u001b[0m\u001b[0;34m\u001b[0m\u001b[0m\n\u001b[1;32m    349\u001b[0m         \u001b[0mgrad_tensors_\u001b[0m\u001b[0;34m,\u001b[0m\u001b[0;34m\u001b[0m\u001b[0;34m\u001b[0m\u001b[0m\n",
            "\u001b[0;32m/usr/local/lib/python3.11/dist-packages/torch/autograd/graph.py\u001b[0m in \u001b[0;36m_engine_run_backward\u001b[0;34m(t_outputs, *args, **kwargs)\u001b[0m\n\u001b[1;32m    823\u001b[0m         \u001b[0munregister_hooks\u001b[0m \u001b[0;34m=\u001b[0m \u001b[0m_register_logging_hooks_on_whole_graph\u001b[0m\u001b[0;34m(\u001b[0m\u001b[0mt_outputs\u001b[0m\u001b[0;34m)\u001b[0m\u001b[0;34m\u001b[0m\u001b[0;34m\u001b[0m\u001b[0m\n\u001b[1;32m    824\u001b[0m     \u001b[0;32mtry\u001b[0m\u001b[0;34m:\u001b[0m\u001b[0;34m\u001b[0m\u001b[0;34m\u001b[0m\u001b[0m\n\u001b[0;32m--> 825\u001b[0;31m         return Variable._execution_engine.run_backward(  # Calls into the C++ engine to run the backward pass\n\u001b[0m\u001b[1;32m    826\u001b[0m             \u001b[0mt_outputs\u001b[0m\u001b[0;34m,\u001b[0m \u001b[0;34m*\u001b[0m\u001b[0margs\u001b[0m\u001b[0;34m,\u001b[0m \u001b[0;34m**\u001b[0m\u001b[0mkwargs\u001b[0m\u001b[0;34m\u001b[0m\u001b[0;34m\u001b[0m\u001b[0m\n\u001b[1;32m    827\u001b[0m         )  # Calls into the C++ engine to run the backward pass\n",
            "\u001b[0;32m/usr/local/lib/python3.11/dist-packages/torch/autograd/function.py\u001b[0m in \u001b[0;36mapply\u001b[0;34m(self, *args)\u001b[0m\n\u001b[1;32m    290\u001b[0m     \"\"\"\n\u001b[1;32m    291\u001b[0m \u001b[0;34m\u001b[0m\u001b[0m\n\u001b[0;32m--> 292\u001b[0;31m     \u001b[0;32mdef\u001b[0m \u001b[0mapply\u001b[0m\u001b[0;34m(\u001b[0m\u001b[0mself\u001b[0m\u001b[0;34m,\u001b[0m \u001b[0;34m*\u001b[0m\u001b[0margs\u001b[0m\u001b[0;34m)\u001b[0m\u001b[0;34m:\u001b[0m\u001b[0;34m\u001b[0m\u001b[0;34m\u001b[0m\u001b[0m\n\u001b[0m\u001b[1;32m    293\u001b[0m         r\"\"\"\n\u001b[1;32m    294\u001b[0m         \u001b[0mApply\u001b[0m \u001b[0mmethod\u001b[0m \u001b[0mused\u001b[0m \u001b[0mwhen\u001b[0m \u001b[0mexecuting\u001b[0m \u001b[0mthis\u001b[0m \u001b[0mNode\u001b[0m \u001b[0mduring\u001b[0m \u001b[0mthe\u001b[0m \u001b[0mbackward\u001b[0m\u001b[0;34m\u001b[0m\u001b[0;34m\u001b[0m\u001b[0m\n",
            "\u001b[0;31mKeyboardInterrupt\u001b[0m: "
          ]
        }
      ],
      "source": [
        "training_args = TrainingArguments(\n",
        "    output_dir=\"my_awesome_mind_model\",\n",
        "    evaluation_strategy=\"epoch\",\n",
        "    save_strategy=\"epoch\",\n",
        "    learning_rate=3e-5,\n",
        "    per_device_train_batch_size=32,\n",
        "    gradient_accumulation_steps=4,\n",
        "    per_device_eval_batch_size=32,\n",
        "    num_train_epochs=10,\n",
        "    warmup_ratio=0.1,\n",
        "    logging_steps=10,\n",
        "    load_best_model_at_end=True,\n",
        "    metric_for_best_model=\"accuracy\",\n",
        "    push_to_hub=True,\n",
        ")\n",
        "\n",
        "trainer = Trainer(\n",
        "    model=model,\n",
        "    args=training_args,\n",
        "    train_dataset=encoded_minds[\"train\"],\n",
        "    eval_dataset=encoded_minds[\"test\"],\n",
        "    tokenizer=feature_extractor,\n",
        "    compute_metrics=compute_metrics,\n",
        ")\n",
        "\n",
        "trainer.train()"
      ]
    },
    {
      "cell_type": "markdown",
      "metadata": {
        "id": "ooOGx6vCfOso"
      },
      "source": [
        "Once training is completed, share your model to the Hub with the [push_to_hub()](https://huggingface.co/docs/transformers/main/en/main_classes/trainer#transformers.Trainer.push_to_hub) method so everyone can use your model:"
      ]
    },
    {
      "cell_type": "code",
      "execution_count": null,
      "metadata": {
        "id": "6ewD6nWofOso"
      },
      "outputs": [],
      "source": [
        "trainer.push_to_hub()"
      ]
    },
    {
      "cell_type": "markdown",
      "metadata": {
        "id": "6A5oOYAZfOsp"
      },
      "source": [
        "<Tip>\n",
        "\n",
        "For a more in-depth example of how to finetune a model for audio classification, take a look at the corresponding [PyTorch notebook](https://colab.research.google.com/github/huggingface/notebooks/blob/main/examples/audio_classification.ipynb).\n",
        "\n",
        "</Tip>"
      ]
    },
    {
      "cell_type": "markdown",
      "metadata": {
        "id": "poG2FMs4fOsp"
      },
      "source": [
        "## Inference"
      ]
    },
    {
      "cell_type": "markdown",
      "metadata": {
        "id": "aGzoLqQxfOsp"
      },
      "source": [
        "Great, now that you've finetuned a model, you can use it for inference!\n",
        "\n",
        "Load an audio file you'd like to run inference on. Remember to resample the sampling rate of the audio file to match the sampling rate of the model if you need to!"
      ]
    },
    {
      "cell_type": "code",
      "execution_count": null,
      "metadata": {
        "id": "O_G1zJ6cfOsp"
      },
      "outputs": [],
      "source": [
        "from datasets import load_dataset, Audio\n",
        "\n",
        "dataset = load_dataset(\"PolyAI/minds14\", name=\"en-US\", split=\"train\")\n",
        "dataset = dataset.cast_column(\"audio\", Audio(sampling_rate=16000))\n",
        "sampling_rate = dataset.features[\"audio\"].sampling_rate\n",
        "audio_file = dataset[0][\"audio\"][\"path\"]"
      ]
    },
    {
      "cell_type": "markdown",
      "metadata": {
        "id": "Zq1vF-D1fOsp"
      },
      "source": [
        "The simplest way to try out your finetuned model for inference is to use it in a [pipeline()](https://huggingface.co/docs/transformers/main/en/main_classes/pipelines#transformers.pipeline). Instantiate a `pipeline` for audio classification with your model, and pass your audio file to it:"
      ]
    },
    {
      "cell_type": "code",
      "execution_count": null,
      "metadata": {
        "id": "M9gBtv5sfOsp",
        "outputId": "9b373a24-bcf9-463b-b9dd-c23c2d2db147"
      },
      "outputs": [
        {
          "data": {
            "text/plain": [
              "[\n",
              "    {'score': 0.09766869246959686, 'label': 'cash_deposit'},\n",
              "    {'score': 0.07998877018690109, 'label': 'app_error'},\n",
              "    {'score': 0.0781070664525032, 'label': 'joint_account'},\n",
              "    {'score': 0.07667109370231628, 'label': 'pay_bill'},\n",
              "    {'score': 0.0755252093076706, 'label': 'balance'}\n",
              "]"
            ]
          },
          "execution_count": null,
          "metadata": {},
          "output_type": "execute_result"
        }
      ],
      "source": [
        "from transformers import pipeline\n",
        "\n",
        "classifier = pipeline(\"audio-classification\", model=\"stevhliu/my_awesome_minds_model\")\n",
        "classifier(audio_file)"
      ]
    },
    {
      "cell_type": "markdown",
      "metadata": {
        "id": "-XeTBpH3fOsp"
      },
      "source": [
        "You can also manually replicate the results of the `pipeline` if you'd like:\n",
        "\n",
        "Load a feature extractor to preprocess the audio file and return the `input` as PyTorch tensors:"
      ]
    },
    {
      "cell_type": "code",
      "execution_count": null,
      "metadata": {
        "id": "I0Lx40DwfOsp"
      },
      "outputs": [],
      "source": [
        "from transformers import AutoFeatureExtractor\n",
        "\n",
        "feature_extractor = AutoFeatureExtractor.from_pretrained(\"stevhliu/my_awesome_minds_model\")\n",
        "inputs = feature_extractor(dataset[0][\"audio\"][\"array\"], sampling_rate=sampling_rate, return_tensors=\"pt\")"
      ]
    },
    {
      "cell_type": "markdown",
      "metadata": {
        "id": "LEur-pDHfOsp"
      },
      "source": [
        "Pass your inputs to the model and return the logits:"
      ]
    },
    {
      "cell_type": "code",
      "execution_count": null,
      "metadata": {
        "id": "DcntaJ_NfOsp"
      },
      "outputs": [],
      "source": [
        "from transformers import AutoModelForAudioClassification\n",
        "\n",
        "model = AutoModelForAudioClassification.from_pretrained(\"stevhliu/my_awesome_minds_model\")\n",
        "with torch.no_grad():\n",
        "    logits = model(**inputs).logits"
      ]
    },
    {
      "cell_type": "markdown",
      "metadata": {
        "id": "R2_k2z4ofOsp"
      },
      "source": [
        "Get the class with the highest probability, and use the model's `id2label` mapping to convert it to a label:"
      ]
    },
    {
      "cell_type": "code",
      "execution_count": null,
      "metadata": {
        "id": "Hc60YqK9fOsp",
        "outputId": "f9bf835d-af09-463d-e4b8-df04075356e8"
      },
      "outputs": [
        {
          "data": {
            "text/plain": [
              "'cash_deposit'"
            ]
          },
          "execution_count": null,
          "metadata": {},
          "output_type": "execute_result"
        }
      ],
      "source": [
        "import torch\n",
        "\n",
        "predicted_class_ids = torch.argmax(logits).item()\n",
        "predicted_label = model.config.id2label[predicted_class_ids]\n",
        "predicted_label"
      ]
    }
  ],
  "metadata": {
    "colab": {
      "provenance": [],
      "include_colab_link": true
    },
    "language_info": {
      "name": "python"
    },
    "kernelspec": {
      "name": "python3",
      "display_name": "Python 3"
    },
    "widgets": {
      "application/vnd.jupyter.widget-state+json": {
        "b4da00cd12fc41b58369ce01f7bbd59a": {
          "model_module": "@jupyter-widgets/controls",
          "model_name": "VBoxModel",
          "model_module_version": "1.5.0",
          "state": {
            "_dom_classes": [],
            "_model_module": "@jupyter-widgets/controls",
            "_model_module_version": "1.5.0",
            "_model_name": "VBoxModel",
            "_view_count": null,
            "_view_module": "@jupyter-widgets/controls",
            "_view_module_version": "1.5.0",
            "_view_name": "VBoxView",
            "box_style": "",
            "children": [],
            "layout": "IPY_MODEL_9ac47e3bc44a4cfd9712031b8bfd2ab6"
          }
        },
        "eb99321944a242d68bab50404391c773": {
          "model_module": "@jupyter-widgets/controls",
          "model_name": "HTMLModel",
          "model_module_version": "1.5.0",
          "state": {
            "_dom_classes": [],
            "_model_module": "@jupyter-widgets/controls",
            "_model_module_version": "1.5.0",
            "_model_name": "HTMLModel",
            "_view_count": null,
            "_view_module": "@jupyter-widgets/controls",
            "_view_module_version": "1.5.0",
            "_view_name": "HTMLView",
            "description": "",
            "description_tooltip": null,
            "layout": "IPY_MODEL_e74407d274dc47e48dca39655df02bd2",
            "placeholder": "​",
            "style": "IPY_MODEL_e1d69c661807473ab707a453f6102418",
            "value": "<center> <img\nsrc=https://huggingface.co/front/assets/huggingface_logo-noborder.svg\nalt='Hugging Face'> <br> Copy a token from <a\nhref=\"https://huggingface.co/settings/tokens\" target=\"_blank\">your Hugging Face\ntokens page</a> and paste it below. <br> Immediately click login after copying\nyour token or it might be stored in plain text in this notebook file. </center>"
          }
        },
        "9f315e109558428194e964575f642432": {
          "model_module": "@jupyter-widgets/controls",
          "model_name": "PasswordModel",
          "model_module_version": "1.5.0",
          "state": {
            "_dom_classes": [],
            "_model_module": "@jupyter-widgets/controls",
            "_model_module_version": "1.5.0",
            "_model_name": "PasswordModel",
            "_view_count": null,
            "_view_module": "@jupyter-widgets/controls",
            "_view_module_version": "1.5.0",
            "_view_name": "PasswordView",
            "continuous_update": true,
            "description": "Token:",
            "description_tooltip": null,
            "disabled": false,
            "layout": "IPY_MODEL_5c9a557c08e249a9a566151843b930f2",
            "placeholder": "​",
            "style": "IPY_MODEL_549b32eb97b94ea8afbaaeda6615a305",
            "value": ""
          }
        },
        "c02bd543af214f7d8a9446660b2cd309": {
          "model_module": "@jupyter-widgets/controls",
          "model_name": "CheckboxModel",
          "model_module_version": "1.5.0",
          "state": {
            "_dom_classes": [],
            "_model_module": "@jupyter-widgets/controls",
            "_model_module_version": "1.5.0",
            "_model_name": "CheckboxModel",
            "_view_count": null,
            "_view_module": "@jupyter-widgets/controls",
            "_view_module_version": "1.5.0",
            "_view_name": "CheckboxView",
            "description": "Add token as git credential?",
            "description_tooltip": null,
            "disabled": false,
            "indent": true,
            "layout": "IPY_MODEL_015f50134d344a9e98c5fb2414eab03e",
            "style": "IPY_MODEL_b884d8637d8546d9b4263905c274a8be",
            "value": true
          }
        },
        "49f91ff150ea4d1493b7bfbfe436c448": {
          "model_module": "@jupyter-widgets/controls",
          "model_name": "ButtonModel",
          "model_module_version": "1.5.0",
          "state": {
            "_dom_classes": [],
            "_model_module": "@jupyter-widgets/controls",
            "_model_module_version": "1.5.0",
            "_model_name": "ButtonModel",
            "_view_count": null,
            "_view_module": "@jupyter-widgets/controls",
            "_view_module_version": "1.5.0",
            "_view_name": "ButtonView",
            "button_style": "",
            "description": "Login",
            "disabled": false,
            "icon": "",
            "layout": "IPY_MODEL_a55461233ea0420f89b83aee42fe8215",
            "style": "IPY_MODEL_f4329497e4224a4bb8b6ab131aec251e",
            "tooltip": ""
          }
        },
        "fe37d10619114d44a9ece5e78673f269": {
          "model_module": "@jupyter-widgets/controls",
          "model_name": "HTMLModel",
          "model_module_version": "1.5.0",
          "state": {
            "_dom_classes": [],
            "_model_module": "@jupyter-widgets/controls",
            "_model_module_version": "1.5.0",
            "_model_name": "HTMLModel",
            "_view_count": null,
            "_view_module": "@jupyter-widgets/controls",
            "_view_module_version": "1.5.0",
            "_view_name": "HTMLView",
            "description": "",
            "description_tooltip": null,
            "layout": "IPY_MODEL_7ffc67a6224c4c28a61d7d9c734fa10e",
            "placeholder": "​",
            "style": "IPY_MODEL_e1ec0a0ec6564fdd8febedb0b8514445",
            "value": "\n<b>Pro Tip:</b> If you don't already have one, you can create a dedicated\n'notebooks' token with 'write' access, that you can then easily reuse for all\nnotebooks. </center>"
          }
        },
        "9ac47e3bc44a4cfd9712031b8bfd2ab6": {
          "model_module": "@jupyter-widgets/base",
          "model_name": "LayoutModel",
          "model_module_version": "1.2.0",
          "state": {
            "_model_module": "@jupyter-widgets/base",
            "_model_module_version": "1.2.0",
            "_model_name": "LayoutModel",
            "_view_count": null,
            "_view_module": "@jupyter-widgets/base",
            "_view_module_version": "1.2.0",
            "_view_name": "LayoutView",
            "align_content": null,
            "align_items": "center",
            "align_self": null,
            "border": null,
            "bottom": null,
            "display": "flex",
            "flex": null,
            "flex_flow": "column",
            "grid_area": null,
            "grid_auto_columns": null,
            "grid_auto_flow": null,
            "grid_auto_rows": null,
            "grid_column": null,
            "grid_gap": null,
            "grid_row": null,
            "grid_template_areas": null,
            "grid_template_columns": null,
            "grid_template_rows": null,
            "height": null,
            "justify_content": null,
            "justify_items": null,
            "left": null,
            "margin": null,
            "max_height": null,
            "max_width": null,
            "min_height": null,
            "min_width": null,
            "object_fit": null,
            "object_position": null,
            "order": null,
            "overflow": null,
            "overflow_x": null,
            "overflow_y": null,
            "padding": null,
            "right": null,
            "top": null,
            "visibility": null,
            "width": "50%"
          }
        },
        "e74407d274dc47e48dca39655df02bd2": {
          "model_module": "@jupyter-widgets/base",
          "model_name": "LayoutModel",
          "model_module_version": "1.2.0",
          "state": {
            "_model_module": "@jupyter-widgets/base",
            "_model_module_version": "1.2.0",
            "_model_name": "LayoutModel",
            "_view_count": null,
            "_view_module": "@jupyter-widgets/base",
            "_view_module_version": "1.2.0",
            "_view_name": "LayoutView",
            "align_content": null,
            "align_items": null,
            "align_self": null,
            "border": null,
            "bottom": null,
            "display": null,
            "flex": null,
            "flex_flow": null,
            "grid_area": null,
            "grid_auto_columns": null,
            "grid_auto_flow": null,
            "grid_auto_rows": null,
            "grid_column": null,
            "grid_gap": null,
            "grid_row": null,
            "grid_template_areas": null,
            "grid_template_columns": null,
            "grid_template_rows": null,
            "height": null,
            "justify_content": null,
            "justify_items": null,
            "left": null,
            "margin": null,
            "max_height": null,
            "max_width": null,
            "min_height": null,
            "min_width": null,
            "object_fit": null,
            "object_position": null,
            "order": null,
            "overflow": null,
            "overflow_x": null,
            "overflow_y": null,
            "padding": null,
            "right": null,
            "top": null,
            "visibility": null,
            "width": null
          }
        },
        "e1d69c661807473ab707a453f6102418": {
          "model_module": "@jupyter-widgets/controls",
          "model_name": "DescriptionStyleModel",
          "model_module_version": "1.5.0",
          "state": {
            "_model_module": "@jupyter-widgets/controls",
            "_model_module_version": "1.5.0",
            "_model_name": "DescriptionStyleModel",
            "_view_count": null,
            "_view_module": "@jupyter-widgets/base",
            "_view_module_version": "1.2.0",
            "_view_name": "StyleView",
            "description_width": ""
          }
        },
        "5c9a557c08e249a9a566151843b930f2": {
          "model_module": "@jupyter-widgets/base",
          "model_name": "LayoutModel",
          "model_module_version": "1.2.0",
          "state": {
            "_model_module": "@jupyter-widgets/base",
            "_model_module_version": "1.2.0",
            "_model_name": "LayoutModel",
            "_view_count": null,
            "_view_module": "@jupyter-widgets/base",
            "_view_module_version": "1.2.0",
            "_view_name": "LayoutView",
            "align_content": null,
            "align_items": null,
            "align_self": null,
            "border": null,
            "bottom": null,
            "display": null,
            "flex": null,
            "flex_flow": null,
            "grid_area": null,
            "grid_auto_columns": null,
            "grid_auto_flow": null,
            "grid_auto_rows": null,
            "grid_column": null,
            "grid_gap": null,
            "grid_row": null,
            "grid_template_areas": null,
            "grid_template_columns": null,
            "grid_template_rows": null,
            "height": null,
            "justify_content": null,
            "justify_items": null,
            "left": null,
            "margin": null,
            "max_height": null,
            "max_width": null,
            "min_height": null,
            "min_width": null,
            "object_fit": null,
            "object_position": null,
            "order": null,
            "overflow": null,
            "overflow_x": null,
            "overflow_y": null,
            "padding": null,
            "right": null,
            "top": null,
            "visibility": null,
            "width": null
          }
        },
        "549b32eb97b94ea8afbaaeda6615a305": {
          "model_module": "@jupyter-widgets/controls",
          "model_name": "DescriptionStyleModel",
          "model_module_version": "1.5.0",
          "state": {
            "_model_module": "@jupyter-widgets/controls",
            "_model_module_version": "1.5.0",
            "_model_name": "DescriptionStyleModel",
            "_view_count": null,
            "_view_module": "@jupyter-widgets/base",
            "_view_module_version": "1.2.0",
            "_view_name": "StyleView",
            "description_width": ""
          }
        },
        "015f50134d344a9e98c5fb2414eab03e": {
          "model_module": "@jupyter-widgets/base",
          "model_name": "LayoutModel",
          "model_module_version": "1.2.0",
          "state": {
            "_model_module": "@jupyter-widgets/base",
            "_model_module_version": "1.2.0",
            "_model_name": "LayoutModel",
            "_view_count": null,
            "_view_module": "@jupyter-widgets/base",
            "_view_module_version": "1.2.0",
            "_view_name": "LayoutView",
            "align_content": null,
            "align_items": null,
            "align_self": null,
            "border": null,
            "bottom": null,
            "display": null,
            "flex": null,
            "flex_flow": null,
            "grid_area": null,
            "grid_auto_columns": null,
            "grid_auto_flow": null,
            "grid_auto_rows": null,
            "grid_column": null,
            "grid_gap": null,
            "grid_row": null,
            "grid_template_areas": null,
            "grid_template_columns": null,
            "grid_template_rows": null,
            "height": null,
            "justify_content": null,
            "justify_items": null,
            "left": null,
            "margin": null,
            "max_height": null,
            "max_width": null,
            "min_height": null,
            "min_width": null,
            "object_fit": null,
            "object_position": null,
            "order": null,
            "overflow": null,
            "overflow_x": null,
            "overflow_y": null,
            "padding": null,
            "right": null,
            "top": null,
            "visibility": null,
            "width": null
          }
        },
        "b884d8637d8546d9b4263905c274a8be": {
          "model_module": "@jupyter-widgets/controls",
          "model_name": "DescriptionStyleModel",
          "model_module_version": "1.5.0",
          "state": {
            "_model_module": "@jupyter-widgets/controls",
            "_model_module_version": "1.5.0",
            "_model_name": "DescriptionStyleModel",
            "_view_count": null,
            "_view_module": "@jupyter-widgets/base",
            "_view_module_version": "1.2.0",
            "_view_name": "StyleView",
            "description_width": ""
          }
        },
        "a55461233ea0420f89b83aee42fe8215": {
          "model_module": "@jupyter-widgets/base",
          "model_name": "LayoutModel",
          "model_module_version": "1.2.0",
          "state": {
            "_model_module": "@jupyter-widgets/base",
            "_model_module_version": "1.2.0",
            "_model_name": "LayoutModel",
            "_view_count": null,
            "_view_module": "@jupyter-widgets/base",
            "_view_module_version": "1.2.0",
            "_view_name": "LayoutView",
            "align_content": null,
            "align_items": null,
            "align_self": null,
            "border": null,
            "bottom": null,
            "display": null,
            "flex": null,
            "flex_flow": null,
            "grid_area": null,
            "grid_auto_columns": null,
            "grid_auto_flow": null,
            "grid_auto_rows": null,
            "grid_column": null,
            "grid_gap": null,
            "grid_row": null,
            "grid_template_areas": null,
            "grid_template_columns": null,
            "grid_template_rows": null,
            "height": null,
            "justify_content": null,
            "justify_items": null,
            "left": null,
            "margin": null,
            "max_height": null,
            "max_width": null,
            "min_height": null,
            "min_width": null,
            "object_fit": null,
            "object_position": null,
            "order": null,
            "overflow": null,
            "overflow_x": null,
            "overflow_y": null,
            "padding": null,
            "right": null,
            "top": null,
            "visibility": null,
            "width": null
          }
        },
        "f4329497e4224a4bb8b6ab131aec251e": {
          "model_module": "@jupyter-widgets/controls",
          "model_name": "ButtonStyleModel",
          "model_module_version": "1.5.0",
          "state": {
            "_model_module": "@jupyter-widgets/controls",
            "_model_module_version": "1.5.0",
            "_model_name": "ButtonStyleModel",
            "_view_count": null,
            "_view_module": "@jupyter-widgets/base",
            "_view_module_version": "1.2.0",
            "_view_name": "StyleView",
            "button_color": null,
            "font_weight": ""
          }
        },
        "7ffc67a6224c4c28a61d7d9c734fa10e": {
          "model_module": "@jupyter-widgets/base",
          "model_name": "LayoutModel",
          "model_module_version": "1.2.0",
          "state": {
            "_model_module": "@jupyter-widgets/base",
            "_model_module_version": "1.2.0",
            "_model_name": "LayoutModel",
            "_view_count": null,
            "_view_module": "@jupyter-widgets/base",
            "_view_module_version": "1.2.0",
            "_view_name": "LayoutView",
            "align_content": null,
            "align_items": null,
            "align_self": null,
            "border": null,
            "bottom": null,
            "display": null,
            "flex": null,
            "flex_flow": null,
            "grid_area": null,
            "grid_auto_columns": null,
            "grid_auto_flow": null,
            "grid_auto_rows": null,
            "grid_column": null,
            "grid_gap": null,
            "grid_row": null,
            "grid_template_areas": null,
            "grid_template_columns": null,
            "grid_template_rows": null,
            "height": null,
            "justify_content": null,
            "justify_items": null,
            "left": null,
            "margin": null,
            "max_height": null,
            "max_width": null,
            "min_height": null,
            "min_width": null,
            "object_fit": null,
            "object_position": null,
            "order": null,
            "overflow": null,
            "overflow_x": null,
            "overflow_y": null,
            "padding": null,
            "right": null,
            "top": null,
            "visibility": null,
            "width": null
          }
        },
        "e1ec0a0ec6564fdd8febedb0b8514445": {
          "model_module": "@jupyter-widgets/controls",
          "model_name": "DescriptionStyleModel",
          "model_module_version": "1.5.0",
          "state": {
            "_model_module": "@jupyter-widgets/controls",
            "_model_module_version": "1.5.0",
            "_model_name": "DescriptionStyleModel",
            "_view_count": null,
            "_view_module": "@jupyter-widgets/base",
            "_view_module_version": "1.2.0",
            "_view_name": "StyleView",
            "description_width": ""
          }
        },
        "0ac4e13d05b2431e8b47e219c7102ac8": {
          "model_module": "@jupyter-widgets/controls",
          "model_name": "LabelModel",
          "model_module_version": "1.5.0",
          "state": {
            "_dom_classes": [],
            "_model_module": "@jupyter-widgets/controls",
            "_model_module_version": "1.5.0",
            "_model_name": "LabelModel",
            "_view_count": null,
            "_view_module": "@jupyter-widgets/controls",
            "_view_module_version": "1.5.0",
            "_view_name": "LabelView",
            "description": "",
            "description_tooltip": null,
            "layout": "IPY_MODEL_a0cb983d5dde47f397c239e8accfda1f",
            "placeholder": "​",
            "style": "IPY_MODEL_a488af989cf241a4841863e00e535fb8",
            "value": "Connecting..."
          }
        },
        "a0cb983d5dde47f397c239e8accfda1f": {
          "model_module": "@jupyter-widgets/base",
          "model_name": "LayoutModel",
          "model_module_version": "1.2.0",
          "state": {
            "_model_module": "@jupyter-widgets/base",
            "_model_module_version": "1.2.0",
            "_model_name": "LayoutModel",
            "_view_count": null,
            "_view_module": "@jupyter-widgets/base",
            "_view_module_version": "1.2.0",
            "_view_name": "LayoutView",
            "align_content": null,
            "align_items": null,
            "align_self": null,
            "border": null,
            "bottom": null,
            "display": null,
            "flex": null,
            "flex_flow": null,
            "grid_area": null,
            "grid_auto_columns": null,
            "grid_auto_flow": null,
            "grid_auto_rows": null,
            "grid_column": null,
            "grid_gap": null,
            "grid_row": null,
            "grid_template_areas": null,
            "grid_template_columns": null,
            "grid_template_rows": null,
            "height": null,
            "justify_content": null,
            "justify_items": null,
            "left": null,
            "margin": null,
            "max_height": null,
            "max_width": null,
            "min_height": null,
            "min_width": null,
            "object_fit": null,
            "object_position": null,
            "order": null,
            "overflow": null,
            "overflow_x": null,
            "overflow_y": null,
            "padding": null,
            "right": null,
            "top": null,
            "visibility": null,
            "width": null
          }
        },
        "a488af989cf241a4841863e00e535fb8": {
          "model_module": "@jupyter-widgets/controls",
          "model_name": "DescriptionStyleModel",
          "model_module_version": "1.5.0",
          "state": {
            "_model_module": "@jupyter-widgets/controls",
            "_model_module_version": "1.5.0",
            "_model_name": "DescriptionStyleModel",
            "_view_count": null,
            "_view_module": "@jupyter-widgets/base",
            "_view_module_version": "1.2.0",
            "_view_name": "StyleView",
            "description_width": ""
          }
        },
        "b09a18aef8c345f28d4d73514aa4824f": {
          "model_module": "@jupyter-widgets/controls",
          "model_name": "HBoxModel",
          "model_module_version": "1.5.0",
          "state": {
            "_dom_classes": [],
            "_model_module": "@jupyter-widgets/controls",
            "_model_module_version": "1.5.0",
            "_model_name": "HBoxModel",
            "_view_count": null,
            "_view_module": "@jupyter-widgets/controls",
            "_view_module_version": "1.5.0",
            "_view_name": "HBoxView",
            "box_style": "",
            "children": [
              "IPY_MODEL_a9647d9eca3842499acedcd214acedd5",
              "IPY_MODEL_ef04fe962776480fae07e3c81202b88f",
              "IPY_MODEL_3cdaabf4d2674c4f81cd8e45a71c3243"
            ],
            "layout": "IPY_MODEL_844423b1b6cf4ad8b20396b2668b09b9"
          }
        },
        "a9647d9eca3842499acedcd214acedd5": {
          "model_module": "@jupyter-widgets/controls",
          "model_name": "HTMLModel",
          "model_module_version": "1.5.0",
          "state": {
            "_dom_classes": [],
            "_model_module": "@jupyter-widgets/controls",
            "_model_module_version": "1.5.0",
            "_model_name": "HTMLModel",
            "_view_count": null,
            "_view_module": "@jupyter-widgets/controls",
            "_view_module_version": "1.5.0",
            "_view_name": "HTMLView",
            "description": "",
            "description_tooltip": null,
            "layout": "IPY_MODEL_7f80932572304bc1b70a872fb05aa45e",
            "placeholder": "​",
            "style": "IPY_MODEL_3a49e0a6a2184b52bb16e3826d0ba4cf",
            "value": ""
          }
        },
        "ef04fe962776480fae07e3c81202b88f": {
          "model_module": "@jupyter-widgets/controls",
          "model_name": "FloatProgressModel",
          "model_module_version": "1.5.0",
          "state": {
            "_dom_classes": [],
            "_model_module": "@jupyter-widgets/controls",
            "_model_module_version": "1.5.0",
            "_model_name": "FloatProgressModel",
            "_view_count": null,
            "_view_module": "@jupyter-widgets/controls",
            "_view_module_version": "1.5.0",
            "_view_name": "ProgressView",
            "bar_style": "success",
            "description": "",
            "description_tooltip": null,
            "layout": "IPY_MODEL_0c2dbf73924f4e02b31e0eeb242bffda",
            "max": 1,
            "min": 0,
            "orientation": "horizontal",
            "style": "IPY_MODEL_bbb9cd5e962644d3aa01efc3f630d9fd",
            "value": 0
          }
        },
        "3cdaabf4d2674c4f81cd8e45a71c3243": {
          "model_module": "@jupyter-widgets/controls",
          "model_name": "HTMLModel",
          "model_module_version": "1.5.0",
          "state": {
            "_dom_classes": [],
            "_model_module": "@jupyter-widgets/controls",
            "_model_module_version": "1.5.0",
            "_model_name": "HTMLModel",
            "_view_count": null,
            "_view_module": "@jupyter-widgets/controls",
            "_view_module_version": "1.5.0",
            "_view_name": "HTMLView",
            "description": "",
            "description_tooltip": null,
            "layout": "IPY_MODEL_1975d892913a4207b1ce8d217ff6f1bb",
            "placeholder": "​",
            "style": "IPY_MODEL_c71b6960875840e8b7e9cba9f8635367",
            "value": " 0/0 [00:00&lt;?, ?it/s]"
          }
        },
        "844423b1b6cf4ad8b20396b2668b09b9": {
          "model_module": "@jupyter-widgets/base",
          "model_name": "LayoutModel",
          "model_module_version": "1.2.0",
          "state": {
            "_model_module": "@jupyter-widgets/base",
            "_model_module_version": "1.2.0",
            "_model_name": "LayoutModel",
            "_view_count": null,
            "_view_module": "@jupyter-widgets/base",
            "_view_module_version": "1.2.0",
            "_view_name": "LayoutView",
            "align_content": null,
            "align_items": null,
            "align_self": null,
            "border": null,
            "bottom": null,
            "display": null,
            "flex": null,
            "flex_flow": null,
            "grid_area": null,
            "grid_auto_columns": null,
            "grid_auto_flow": null,
            "grid_auto_rows": null,
            "grid_column": null,
            "grid_gap": null,
            "grid_row": null,
            "grid_template_areas": null,
            "grid_template_columns": null,
            "grid_template_rows": null,
            "height": null,
            "justify_content": null,
            "justify_items": null,
            "left": null,
            "margin": null,
            "max_height": null,
            "max_width": null,
            "min_height": null,
            "min_width": null,
            "object_fit": null,
            "object_position": null,
            "order": null,
            "overflow": null,
            "overflow_x": null,
            "overflow_y": null,
            "padding": null,
            "right": null,
            "top": null,
            "visibility": null,
            "width": null
          }
        },
        "7f80932572304bc1b70a872fb05aa45e": {
          "model_module": "@jupyter-widgets/base",
          "model_name": "LayoutModel",
          "model_module_version": "1.2.0",
          "state": {
            "_model_module": "@jupyter-widgets/base",
            "_model_module_version": "1.2.0",
            "_model_name": "LayoutModel",
            "_view_count": null,
            "_view_module": "@jupyter-widgets/base",
            "_view_module_version": "1.2.0",
            "_view_name": "LayoutView",
            "align_content": null,
            "align_items": null,
            "align_self": null,
            "border": null,
            "bottom": null,
            "display": null,
            "flex": null,
            "flex_flow": null,
            "grid_area": null,
            "grid_auto_columns": null,
            "grid_auto_flow": null,
            "grid_auto_rows": null,
            "grid_column": null,
            "grid_gap": null,
            "grid_row": null,
            "grid_template_areas": null,
            "grid_template_columns": null,
            "grid_template_rows": null,
            "height": null,
            "justify_content": null,
            "justify_items": null,
            "left": null,
            "margin": null,
            "max_height": null,
            "max_width": null,
            "min_height": null,
            "min_width": null,
            "object_fit": null,
            "object_position": null,
            "order": null,
            "overflow": null,
            "overflow_x": null,
            "overflow_y": null,
            "padding": null,
            "right": null,
            "top": null,
            "visibility": null,
            "width": null
          }
        },
        "3a49e0a6a2184b52bb16e3826d0ba4cf": {
          "model_module": "@jupyter-widgets/controls",
          "model_name": "DescriptionStyleModel",
          "model_module_version": "1.5.0",
          "state": {
            "_model_module": "@jupyter-widgets/controls",
            "_model_module_version": "1.5.0",
            "_model_name": "DescriptionStyleModel",
            "_view_count": null,
            "_view_module": "@jupyter-widgets/base",
            "_view_module_version": "1.2.0",
            "_view_name": "StyleView",
            "description_width": ""
          }
        },
        "0c2dbf73924f4e02b31e0eeb242bffda": {
          "model_module": "@jupyter-widgets/base",
          "model_name": "LayoutModel",
          "model_module_version": "1.2.0",
          "state": {
            "_model_module": "@jupyter-widgets/base",
            "_model_module_version": "1.2.0",
            "_model_name": "LayoutModel",
            "_view_count": null,
            "_view_module": "@jupyter-widgets/base",
            "_view_module_version": "1.2.0",
            "_view_name": "LayoutView",
            "align_content": null,
            "align_items": null,
            "align_self": null,
            "border": null,
            "bottom": null,
            "display": null,
            "flex": null,
            "flex_flow": null,
            "grid_area": null,
            "grid_auto_columns": null,
            "grid_auto_flow": null,
            "grid_auto_rows": null,
            "grid_column": null,
            "grid_gap": null,
            "grid_row": null,
            "grid_template_areas": null,
            "grid_template_columns": null,
            "grid_template_rows": null,
            "height": null,
            "justify_content": null,
            "justify_items": null,
            "left": null,
            "margin": null,
            "max_height": null,
            "max_width": null,
            "min_height": null,
            "min_width": null,
            "object_fit": null,
            "object_position": null,
            "order": null,
            "overflow": null,
            "overflow_x": null,
            "overflow_y": null,
            "padding": null,
            "right": null,
            "top": null,
            "visibility": null,
            "width": "20px"
          }
        },
        "bbb9cd5e962644d3aa01efc3f630d9fd": {
          "model_module": "@jupyter-widgets/controls",
          "model_name": "ProgressStyleModel",
          "model_module_version": "1.5.0",
          "state": {
            "_model_module": "@jupyter-widgets/controls",
            "_model_module_version": "1.5.0",
            "_model_name": "ProgressStyleModel",
            "_view_count": null,
            "_view_module": "@jupyter-widgets/base",
            "_view_module_version": "1.2.0",
            "_view_name": "StyleView",
            "bar_color": null,
            "description_width": ""
          }
        },
        "1975d892913a4207b1ce8d217ff6f1bb": {
          "model_module": "@jupyter-widgets/base",
          "model_name": "LayoutModel",
          "model_module_version": "1.2.0",
          "state": {
            "_model_module": "@jupyter-widgets/base",
            "_model_module_version": "1.2.0",
            "_model_name": "LayoutModel",
            "_view_count": null,
            "_view_module": "@jupyter-widgets/base",
            "_view_module_version": "1.2.0",
            "_view_name": "LayoutView",
            "align_content": null,
            "align_items": null,
            "align_self": null,
            "border": null,
            "bottom": null,
            "display": null,
            "flex": null,
            "flex_flow": null,
            "grid_area": null,
            "grid_auto_columns": null,
            "grid_auto_flow": null,
            "grid_auto_rows": null,
            "grid_column": null,
            "grid_gap": null,
            "grid_row": null,
            "grid_template_areas": null,
            "grid_template_columns": null,
            "grid_template_rows": null,
            "height": null,
            "justify_content": null,
            "justify_items": null,
            "left": null,
            "margin": null,
            "max_height": null,
            "max_width": null,
            "min_height": null,
            "min_width": null,
            "object_fit": null,
            "object_position": null,
            "order": null,
            "overflow": null,
            "overflow_x": null,
            "overflow_y": null,
            "padding": null,
            "right": null,
            "top": null,
            "visibility": null,
            "width": null
          }
        },
        "c71b6960875840e8b7e9cba9f8635367": {
          "model_module": "@jupyter-widgets/controls",
          "model_name": "DescriptionStyleModel",
          "model_module_version": "1.5.0",
          "state": {
            "_model_module": "@jupyter-widgets/controls",
            "_model_module_version": "1.5.0",
            "_model_name": "DescriptionStyleModel",
            "_view_count": null,
            "_view_module": "@jupyter-widgets/base",
            "_view_module_version": "1.2.0",
            "_view_name": "StyleView",
            "description_width": ""
          }
        },
        "29bb994fdf50443fb4733a800e218993": {
          "model_module": "@jupyter-widgets/controls",
          "model_name": "HBoxModel",
          "model_module_version": "1.5.0",
          "state": {
            "_dom_classes": [],
            "_model_module": "@jupyter-widgets/controls",
            "_model_module_version": "1.5.0",
            "_model_name": "HBoxModel",
            "_view_count": null,
            "_view_module": "@jupyter-widgets/controls",
            "_view_module_version": "1.5.0",
            "_view_name": "HBoxView",
            "box_style": "",
            "children": [
              "IPY_MODEL_6a0080e680db4963a2299655847a9a92",
              "IPY_MODEL_6740598dee6044bbad0d8782dfb8c9e2",
              "IPY_MODEL_f2cf0c101d4d4e22b700a9fe92a036c1"
            ],
            "layout": "IPY_MODEL_f2296b8380fa44299a555afc38ff6483"
          }
        },
        "6a0080e680db4963a2299655847a9a92": {
          "model_module": "@jupyter-widgets/controls",
          "model_name": "HTMLModel",
          "model_module_version": "1.5.0",
          "state": {
            "_dom_classes": [],
            "_model_module": "@jupyter-widgets/controls",
            "_model_module_version": "1.5.0",
            "_model_name": "HTMLModel",
            "_view_count": null,
            "_view_module": "@jupyter-widgets/controls",
            "_view_module_version": "1.5.0",
            "_view_name": "HTMLView",
            "description": "",
            "description_tooltip": null,
            "layout": "IPY_MODEL_ec1a12f5ae224e5cb3959b5f6387644d",
            "placeholder": "​",
            "style": "IPY_MODEL_1ee538ab54f64479ba20bfc25379baf1",
            "value": "preprocessor_config.json: 100%"
          }
        },
        "6740598dee6044bbad0d8782dfb8c9e2": {
          "model_module": "@jupyter-widgets/controls",
          "model_name": "FloatProgressModel",
          "model_module_version": "1.5.0",
          "state": {
            "_dom_classes": [],
            "_model_module": "@jupyter-widgets/controls",
            "_model_module_version": "1.5.0",
            "_model_name": "FloatProgressModel",
            "_view_count": null,
            "_view_module": "@jupyter-widgets/controls",
            "_view_module_version": "1.5.0",
            "_view_name": "ProgressView",
            "bar_style": "success",
            "description": "",
            "description_tooltip": null,
            "layout": "IPY_MODEL_df9a58a3cebc42588a8d27c2fb9fc8aa",
            "max": 159,
            "min": 0,
            "orientation": "horizontal",
            "style": "IPY_MODEL_b8d3aa6ada2b46fc88f8cc316c4aa410",
            "value": 159
          }
        },
        "f2cf0c101d4d4e22b700a9fe92a036c1": {
          "model_module": "@jupyter-widgets/controls",
          "model_name": "HTMLModel",
          "model_module_version": "1.5.0",
          "state": {
            "_dom_classes": [],
            "_model_module": "@jupyter-widgets/controls",
            "_model_module_version": "1.5.0",
            "_model_name": "HTMLModel",
            "_view_count": null,
            "_view_module": "@jupyter-widgets/controls",
            "_view_module_version": "1.5.0",
            "_view_name": "HTMLView",
            "description": "",
            "description_tooltip": null,
            "layout": "IPY_MODEL_fa83208462bf40f29838990159adc840",
            "placeholder": "​",
            "style": "IPY_MODEL_d7ff47cb1e8c450abbba1fd450515ae6",
            "value": " 159/159 [00:00&lt;00:00, 11.8kB/s]"
          }
        },
        "f2296b8380fa44299a555afc38ff6483": {
          "model_module": "@jupyter-widgets/base",
          "model_name": "LayoutModel",
          "model_module_version": "1.2.0",
          "state": {
            "_model_module": "@jupyter-widgets/base",
            "_model_module_version": "1.2.0",
            "_model_name": "LayoutModel",
            "_view_count": null,
            "_view_module": "@jupyter-widgets/base",
            "_view_module_version": "1.2.0",
            "_view_name": "LayoutView",
            "align_content": null,
            "align_items": null,
            "align_self": null,
            "border": null,
            "bottom": null,
            "display": null,
            "flex": null,
            "flex_flow": null,
            "grid_area": null,
            "grid_auto_columns": null,
            "grid_auto_flow": null,
            "grid_auto_rows": null,
            "grid_column": null,
            "grid_gap": null,
            "grid_row": null,
            "grid_template_areas": null,
            "grid_template_columns": null,
            "grid_template_rows": null,
            "height": null,
            "justify_content": null,
            "justify_items": null,
            "left": null,
            "margin": null,
            "max_height": null,
            "max_width": null,
            "min_height": null,
            "min_width": null,
            "object_fit": null,
            "object_position": null,
            "order": null,
            "overflow": null,
            "overflow_x": null,
            "overflow_y": null,
            "padding": null,
            "right": null,
            "top": null,
            "visibility": null,
            "width": null
          }
        },
        "ec1a12f5ae224e5cb3959b5f6387644d": {
          "model_module": "@jupyter-widgets/base",
          "model_name": "LayoutModel",
          "model_module_version": "1.2.0",
          "state": {
            "_model_module": "@jupyter-widgets/base",
            "_model_module_version": "1.2.0",
            "_model_name": "LayoutModel",
            "_view_count": null,
            "_view_module": "@jupyter-widgets/base",
            "_view_module_version": "1.2.0",
            "_view_name": "LayoutView",
            "align_content": null,
            "align_items": null,
            "align_self": null,
            "border": null,
            "bottom": null,
            "display": null,
            "flex": null,
            "flex_flow": null,
            "grid_area": null,
            "grid_auto_columns": null,
            "grid_auto_flow": null,
            "grid_auto_rows": null,
            "grid_column": null,
            "grid_gap": null,
            "grid_row": null,
            "grid_template_areas": null,
            "grid_template_columns": null,
            "grid_template_rows": null,
            "height": null,
            "justify_content": null,
            "justify_items": null,
            "left": null,
            "margin": null,
            "max_height": null,
            "max_width": null,
            "min_height": null,
            "min_width": null,
            "object_fit": null,
            "object_position": null,
            "order": null,
            "overflow": null,
            "overflow_x": null,
            "overflow_y": null,
            "padding": null,
            "right": null,
            "top": null,
            "visibility": null,
            "width": null
          }
        },
        "1ee538ab54f64479ba20bfc25379baf1": {
          "model_module": "@jupyter-widgets/controls",
          "model_name": "DescriptionStyleModel",
          "model_module_version": "1.5.0",
          "state": {
            "_model_module": "@jupyter-widgets/controls",
            "_model_module_version": "1.5.0",
            "_model_name": "DescriptionStyleModel",
            "_view_count": null,
            "_view_module": "@jupyter-widgets/base",
            "_view_module_version": "1.2.0",
            "_view_name": "StyleView",
            "description_width": ""
          }
        },
        "df9a58a3cebc42588a8d27c2fb9fc8aa": {
          "model_module": "@jupyter-widgets/base",
          "model_name": "LayoutModel",
          "model_module_version": "1.2.0",
          "state": {
            "_model_module": "@jupyter-widgets/base",
            "_model_module_version": "1.2.0",
            "_model_name": "LayoutModel",
            "_view_count": null,
            "_view_module": "@jupyter-widgets/base",
            "_view_module_version": "1.2.0",
            "_view_name": "LayoutView",
            "align_content": null,
            "align_items": null,
            "align_self": null,
            "border": null,
            "bottom": null,
            "display": null,
            "flex": null,
            "flex_flow": null,
            "grid_area": null,
            "grid_auto_columns": null,
            "grid_auto_flow": null,
            "grid_auto_rows": null,
            "grid_column": null,
            "grid_gap": null,
            "grid_row": null,
            "grid_template_areas": null,
            "grid_template_columns": null,
            "grid_template_rows": null,
            "height": null,
            "justify_content": null,
            "justify_items": null,
            "left": null,
            "margin": null,
            "max_height": null,
            "max_width": null,
            "min_height": null,
            "min_width": null,
            "object_fit": null,
            "object_position": null,
            "order": null,
            "overflow": null,
            "overflow_x": null,
            "overflow_y": null,
            "padding": null,
            "right": null,
            "top": null,
            "visibility": null,
            "width": null
          }
        },
        "b8d3aa6ada2b46fc88f8cc316c4aa410": {
          "model_module": "@jupyter-widgets/controls",
          "model_name": "ProgressStyleModel",
          "model_module_version": "1.5.0",
          "state": {
            "_model_module": "@jupyter-widgets/controls",
            "_model_module_version": "1.5.0",
            "_model_name": "ProgressStyleModel",
            "_view_count": null,
            "_view_module": "@jupyter-widgets/base",
            "_view_module_version": "1.2.0",
            "_view_name": "StyleView",
            "bar_color": null,
            "description_width": ""
          }
        },
        "fa83208462bf40f29838990159adc840": {
          "model_module": "@jupyter-widgets/base",
          "model_name": "LayoutModel",
          "model_module_version": "1.2.0",
          "state": {
            "_model_module": "@jupyter-widgets/base",
            "_model_module_version": "1.2.0",
            "_model_name": "LayoutModel",
            "_view_count": null,
            "_view_module": "@jupyter-widgets/base",
            "_view_module_version": "1.2.0",
            "_view_name": "LayoutView",
            "align_content": null,
            "align_items": null,
            "align_self": null,
            "border": null,
            "bottom": null,
            "display": null,
            "flex": null,
            "flex_flow": null,
            "grid_area": null,
            "grid_auto_columns": null,
            "grid_auto_flow": null,
            "grid_auto_rows": null,
            "grid_column": null,
            "grid_gap": null,
            "grid_row": null,
            "grid_template_areas": null,
            "grid_template_columns": null,
            "grid_template_rows": null,
            "height": null,
            "justify_content": null,
            "justify_items": null,
            "left": null,
            "margin": null,
            "max_height": null,
            "max_width": null,
            "min_height": null,
            "min_width": null,
            "object_fit": null,
            "object_position": null,
            "order": null,
            "overflow": null,
            "overflow_x": null,
            "overflow_y": null,
            "padding": null,
            "right": null,
            "top": null,
            "visibility": null,
            "width": null
          }
        },
        "d7ff47cb1e8c450abbba1fd450515ae6": {
          "model_module": "@jupyter-widgets/controls",
          "model_name": "DescriptionStyleModel",
          "model_module_version": "1.5.0",
          "state": {
            "_model_module": "@jupyter-widgets/controls",
            "_model_module_version": "1.5.0",
            "_model_name": "DescriptionStyleModel",
            "_view_count": null,
            "_view_module": "@jupyter-widgets/base",
            "_view_module_version": "1.2.0",
            "_view_name": "StyleView",
            "description_width": ""
          }
        },
        "057fd2c0650942228659817689cbf7b8": {
          "model_module": "@jupyter-widgets/controls",
          "model_name": "HBoxModel",
          "model_module_version": "1.5.0",
          "state": {
            "_dom_classes": [],
            "_model_module": "@jupyter-widgets/controls",
            "_model_module_version": "1.5.0",
            "_model_name": "HBoxModel",
            "_view_count": null,
            "_view_module": "@jupyter-widgets/controls",
            "_view_module_version": "1.5.0",
            "_view_name": "HBoxView",
            "box_style": "",
            "children": [
              "IPY_MODEL_3d846623a9b849a0afe4be02a03ef068",
              "IPY_MODEL_6fad2f61f08142c6b493afc95419b518",
              "IPY_MODEL_7ac88a6676434fa090abb4adbc2d7010"
            ],
            "layout": "IPY_MODEL_b2b47ff9759c47dc9313debccedebea4"
          }
        },
        "3d846623a9b849a0afe4be02a03ef068": {
          "model_module": "@jupyter-widgets/controls",
          "model_name": "HTMLModel",
          "model_module_version": "1.5.0",
          "state": {
            "_dom_classes": [],
            "_model_module": "@jupyter-widgets/controls",
            "_model_module_version": "1.5.0",
            "_model_name": "HTMLModel",
            "_view_count": null,
            "_view_module": "@jupyter-widgets/controls",
            "_view_module_version": "1.5.0",
            "_view_name": "HTMLView",
            "description": "",
            "description_tooltip": null,
            "layout": "IPY_MODEL_cc5f6804929049f7b6e9503b752e0ff6",
            "placeholder": "​",
            "style": "IPY_MODEL_996ae7f8d2424ecda7a4ef4eea66332d",
            "value": "config.json: 100%"
          }
        },
        "6fad2f61f08142c6b493afc95419b518": {
          "model_module": "@jupyter-widgets/controls",
          "model_name": "FloatProgressModel",
          "model_module_version": "1.5.0",
          "state": {
            "_dom_classes": [],
            "_model_module": "@jupyter-widgets/controls",
            "_model_module_version": "1.5.0",
            "_model_name": "FloatProgressModel",
            "_view_count": null,
            "_view_module": "@jupyter-widgets/controls",
            "_view_module_version": "1.5.0",
            "_view_name": "ProgressView",
            "bar_style": "success",
            "description": "",
            "description_tooltip": null,
            "layout": "IPY_MODEL_158b26ceb1d44c638f516dd16b4ed1ee",
            "max": 1842,
            "min": 0,
            "orientation": "horizontal",
            "style": "IPY_MODEL_da5114b0eebc4ef78e8ff6c29a0ac694",
            "value": 1842
          }
        },
        "7ac88a6676434fa090abb4adbc2d7010": {
          "model_module": "@jupyter-widgets/controls",
          "model_name": "HTMLModel",
          "model_module_version": "1.5.0",
          "state": {
            "_dom_classes": [],
            "_model_module": "@jupyter-widgets/controls",
            "_model_module_version": "1.5.0",
            "_model_name": "HTMLModel",
            "_view_count": null,
            "_view_module": "@jupyter-widgets/controls",
            "_view_module_version": "1.5.0",
            "_view_name": "HTMLView",
            "description": "",
            "description_tooltip": null,
            "layout": "IPY_MODEL_e3c85be3d9554d57a0f117c76ab0d8dc",
            "placeholder": "​",
            "style": "IPY_MODEL_e389586a2c5346bdba0c102ef780d179",
            "value": " 1.84k/1.84k [00:00&lt;00:00, 140kB/s]"
          }
        },
        "b2b47ff9759c47dc9313debccedebea4": {
          "model_module": "@jupyter-widgets/base",
          "model_name": "LayoutModel",
          "model_module_version": "1.2.0",
          "state": {
            "_model_module": "@jupyter-widgets/base",
            "_model_module_version": "1.2.0",
            "_model_name": "LayoutModel",
            "_view_count": null,
            "_view_module": "@jupyter-widgets/base",
            "_view_module_version": "1.2.0",
            "_view_name": "LayoutView",
            "align_content": null,
            "align_items": null,
            "align_self": null,
            "border": null,
            "bottom": null,
            "display": null,
            "flex": null,
            "flex_flow": null,
            "grid_area": null,
            "grid_auto_columns": null,
            "grid_auto_flow": null,
            "grid_auto_rows": null,
            "grid_column": null,
            "grid_gap": null,
            "grid_row": null,
            "grid_template_areas": null,
            "grid_template_columns": null,
            "grid_template_rows": null,
            "height": null,
            "justify_content": null,
            "justify_items": null,
            "left": null,
            "margin": null,
            "max_height": null,
            "max_width": null,
            "min_height": null,
            "min_width": null,
            "object_fit": null,
            "object_position": null,
            "order": null,
            "overflow": null,
            "overflow_x": null,
            "overflow_y": null,
            "padding": null,
            "right": null,
            "top": null,
            "visibility": null,
            "width": null
          }
        },
        "cc5f6804929049f7b6e9503b752e0ff6": {
          "model_module": "@jupyter-widgets/base",
          "model_name": "LayoutModel",
          "model_module_version": "1.2.0",
          "state": {
            "_model_module": "@jupyter-widgets/base",
            "_model_module_version": "1.2.0",
            "_model_name": "LayoutModel",
            "_view_count": null,
            "_view_module": "@jupyter-widgets/base",
            "_view_module_version": "1.2.0",
            "_view_name": "LayoutView",
            "align_content": null,
            "align_items": null,
            "align_self": null,
            "border": null,
            "bottom": null,
            "display": null,
            "flex": null,
            "flex_flow": null,
            "grid_area": null,
            "grid_auto_columns": null,
            "grid_auto_flow": null,
            "grid_auto_rows": null,
            "grid_column": null,
            "grid_gap": null,
            "grid_row": null,
            "grid_template_areas": null,
            "grid_template_columns": null,
            "grid_template_rows": null,
            "height": null,
            "justify_content": null,
            "justify_items": null,
            "left": null,
            "margin": null,
            "max_height": null,
            "max_width": null,
            "min_height": null,
            "min_width": null,
            "object_fit": null,
            "object_position": null,
            "order": null,
            "overflow": null,
            "overflow_x": null,
            "overflow_y": null,
            "padding": null,
            "right": null,
            "top": null,
            "visibility": null,
            "width": null
          }
        },
        "996ae7f8d2424ecda7a4ef4eea66332d": {
          "model_module": "@jupyter-widgets/controls",
          "model_name": "DescriptionStyleModel",
          "model_module_version": "1.5.0",
          "state": {
            "_model_module": "@jupyter-widgets/controls",
            "_model_module_version": "1.5.0",
            "_model_name": "DescriptionStyleModel",
            "_view_count": null,
            "_view_module": "@jupyter-widgets/base",
            "_view_module_version": "1.2.0",
            "_view_name": "StyleView",
            "description_width": ""
          }
        },
        "158b26ceb1d44c638f516dd16b4ed1ee": {
          "model_module": "@jupyter-widgets/base",
          "model_name": "LayoutModel",
          "model_module_version": "1.2.0",
          "state": {
            "_model_module": "@jupyter-widgets/base",
            "_model_module_version": "1.2.0",
            "_model_name": "LayoutModel",
            "_view_count": null,
            "_view_module": "@jupyter-widgets/base",
            "_view_module_version": "1.2.0",
            "_view_name": "LayoutView",
            "align_content": null,
            "align_items": null,
            "align_self": null,
            "border": null,
            "bottom": null,
            "display": null,
            "flex": null,
            "flex_flow": null,
            "grid_area": null,
            "grid_auto_columns": null,
            "grid_auto_flow": null,
            "grid_auto_rows": null,
            "grid_column": null,
            "grid_gap": null,
            "grid_row": null,
            "grid_template_areas": null,
            "grid_template_columns": null,
            "grid_template_rows": null,
            "height": null,
            "justify_content": null,
            "justify_items": null,
            "left": null,
            "margin": null,
            "max_height": null,
            "max_width": null,
            "min_height": null,
            "min_width": null,
            "object_fit": null,
            "object_position": null,
            "order": null,
            "overflow": null,
            "overflow_x": null,
            "overflow_y": null,
            "padding": null,
            "right": null,
            "top": null,
            "visibility": null,
            "width": null
          }
        },
        "da5114b0eebc4ef78e8ff6c29a0ac694": {
          "model_module": "@jupyter-widgets/controls",
          "model_name": "ProgressStyleModel",
          "model_module_version": "1.5.0",
          "state": {
            "_model_module": "@jupyter-widgets/controls",
            "_model_module_version": "1.5.0",
            "_model_name": "ProgressStyleModel",
            "_view_count": null,
            "_view_module": "@jupyter-widgets/base",
            "_view_module_version": "1.2.0",
            "_view_name": "StyleView",
            "bar_color": null,
            "description_width": ""
          }
        },
        "e3c85be3d9554d57a0f117c76ab0d8dc": {
          "model_module": "@jupyter-widgets/base",
          "model_name": "LayoutModel",
          "model_module_version": "1.2.0",
          "state": {
            "_model_module": "@jupyter-widgets/base",
            "_model_module_version": "1.2.0",
            "_model_name": "LayoutModel",
            "_view_count": null,
            "_view_module": "@jupyter-widgets/base",
            "_view_module_version": "1.2.0",
            "_view_name": "LayoutView",
            "align_content": null,
            "align_items": null,
            "align_self": null,
            "border": null,
            "bottom": null,
            "display": null,
            "flex": null,
            "flex_flow": null,
            "grid_area": null,
            "grid_auto_columns": null,
            "grid_auto_flow": null,
            "grid_auto_rows": null,
            "grid_column": null,
            "grid_gap": null,
            "grid_row": null,
            "grid_template_areas": null,
            "grid_template_columns": null,
            "grid_template_rows": null,
            "height": null,
            "justify_content": null,
            "justify_items": null,
            "left": null,
            "margin": null,
            "max_height": null,
            "max_width": null,
            "min_height": null,
            "min_width": null,
            "object_fit": null,
            "object_position": null,
            "order": null,
            "overflow": null,
            "overflow_x": null,
            "overflow_y": null,
            "padding": null,
            "right": null,
            "top": null,
            "visibility": null,
            "width": null
          }
        },
        "e389586a2c5346bdba0c102ef780d179": {
          "model_module": "@jupyter-widgets/controls",
          "model_name": "DescriptionStyleModel",
          "model_module_version": "1.5.0",
          "state": {
            "_model_module": "@jupyter-widgets/controls",
            "_model_module_version": "1.5.0",
            "_model_name": "DescriptionStyleModel",
            "_view_count": null,
            "_view_module": "@jupyter-widgets/base",
            "_view_module_version": "1.2.0",
            "_view_name": "StyleView",
            "description_width": ""
          }
        },
        "5a279690e357479dbfa0d3b07aef3a5a": {
          "model_module": "@jupyter-widgets/controls",
          "model_name": "HBoxModel",
          "model_module_version": "1.5.0",
          "state": {
            "_dom_classes": [],
            "_model_module": "@jupyter-widgets/controls",
            "_model_module_version": "1.5.0",
            "_model_name": "HBoxModel",
            "_view_count": null,
            "_view_module": "@jupyter-widgets/controls",
            "_view_module_version": "1.5.0",
            "_view_name": "HBoxView",
            "box_style": "",
            "children": [
              "IPY_MODEL_5c2097aa52404b3b9436cdf4181fa008",
              "IPY_MODEL_040a29e7c2c6417ca8c6a6b2fc3b3fc4",
              "IPY_MODEL_cb7e25f1b581447e9d2e37886f1fb8e9"
            ],
            "layout": "IPY_MODEL_ddbe5790d07446ed897e501b0d58faff"
          }
        },
        "5c2097aa52404b3b9436cdf4181fa008": {
          "model_module": "@jupyter-widgets/controls",
          "model_name": "HTMLModel",
          "model_module_version": "1.5.0",
          "state": {
            "_dom_classes": [],
            "_model_module": "@jupyter-widgets/controls",
            "_model_module_version": "1.5.0",
            "_model_name": "HTMLModel",
            "_view_count": null,
            "_view_module": "@jupyter-widgets/controls",
            "_view_module_version": "1.5.0",
            "_view_name": "HTMLView",
            "description": "",
            "description_tooltip": null,
            "layout": "IPY_MODEL_7b71a3f4d2a944909b7447a99efe0af8",
            "placeholder": "​",
            "style": "IPY_MODEL_ac8eacf9aea343f2bd8c10bd92ce82f9",
            "value": "Map: 100%"
          }
        },
        "040a29e7c2c6417ca8c6a6b2fc3b3fc4": {
          "model_module": "@jupyter-widgets/controls",
          "model_name": "FloatProgressModel",
          "model_module_version": "1.5.0",
          "state": {
            "_dom_classes": [],
            "_model_module": "@jupyter-widgets/controls",
            "_model_module_version": "1.5.0",
            "_model_name": "FloatProgressModel",
            "_view_count": null,
            "_view_module": "@jupyter-widgets/controls",
            "_view_module_version": "1.5.0",
            "_view_name": "ProgressView",
            "bar_style": "success",
            "description": "",
            "description_tooltip": null,
            "layout": "IPY_MODEL_418621bb7a974b859284a85ba50d4fb0",
            "max": 450,
            "min": 0,
            "orientation": "horizontal",
            "style": "IPY_MODEL_6c38385bd017447fb3172803fe68cbc0",
            "value": 450
          }
        },
        "cb7e25f1b581447e9d2e37886f1fb8e9": {
          "model_module": "@jupyter-widgets/controls",
          "model_name": "HTMLModel",
          "model_module_version": "1.5.0",
          "state": {
            "_dom_classes": [],
            "_model_module": "@jupyter-widgets/controls",
            "_model_module_version": "1.5.0",
            "_model_name": "HTMLModel",
            "_view_count": null,
            "_view_module": "@jupyter-widgets/controls",
            "_view_module_version": "1.5.0",
            "_view_name": "HTMLView",
            "description": "",
            "description_tooltip": null,
            "layout": "IPY_MODEL_823359aa686f4e95bab72772598f7468",
            "placeholder": "​",
            "style": "IPY_MODEL_4b1c11259e214232b091f6d982e66387",
            "value": " 450/450 [00:03&lt;00:00, 119.23 examples/s]"
          }
        },
        "ddbe5790d07446ed897e501b0d58faff": {
          "model_module": "@jupyter-widgets/base",
          "model_name": "LayoutModel",
          "model_module_version": "1.2.0",
          "state": {
            "_model_module": "@jupyter-widgets/base",
            "_model_module_version": "1.2.0",
            "_model_name": "LayoutModel",
            "_view_count": null,
            "_view_module": "@jupyter-widgets/base",
            "_view_module_version": "1.2.0",
            "_view_name": "LayoutView",
            "align_content": null,
            "align_items": null,
            "align_self": null,
            "border": null,
            "bottom": null,
            "display": null,
            "flex": null,
            "flex_flow": null,
            "grid_area": null,
            "grid_auto_columns": null,
            "grid_auto_flow": null,
            "grid_auto_rows": null,
            "grid_column": null,
            "grid_gap": null,
            "grid_row": null,
            "grid_template_areas": null,
            "grid_template_columns": null,
            "grid_template_rows": null,
            "height": null,
            "justify_content": null,
            "justify_items": null,
            "left": null,
            "margin": null,
            "max_height": null,
            "max_width": null,
            "min_height": null,
            "min_width": null,
            "object_fit": null,
            "object_position": null,
            "order": null,
            "overflow": null,
            "overflow_x": null,
            "overflow_y": null,
            "padding": null,
            "right": null,
            "top": null,
            "visibility": null,
            "width": null
          }
        },
        "7b71a3f4d2a944909b7447a99efe0af8": {
          "model_module": "@jupyter-widgets/base",
          "model_name": "LayoutModel",
          "model_module_version": "1.2.0",
          "state": {
            "_model_module": "@jupyter-widgets/base",
            "_model_module_version": "1.2.0",
            "_model_name": "LayoutModel",
            "_view_count": null,
            "_view_module": "@jupyter-widgets/base",
            "_view_module_version": "1.2.0",
            "_view_name": "LayoutView",
            "align_content": null,
            "align_items": null,
            "align_self": null,
            "border": null,
            "bottom": null,
            "display": null,
            "flex": null,
            "flex_flow": null,
            "grid_area": null,
            "grid_auto_columns": null,
            "grid_auto_flow": null,
            "grid_auto_rows": null,
            "grid_column": null,
            "grid_gap": null,
            "grid_row": null,
            "grid_template_areas": null,
            "grid_template_columns": null,
            "grid_template_rows": null,
            "height": null,
            "justify_content": null,
            "justify_items": null,
            "left": null,
            "margin": null,
            "max_height": null,
            "max_width": null,
            "min_height": null,
            "min_width": null,
            "object_fit": null,
            "object_position": null,
            "order": null,
            "overflow": null,
            "overflow_x": null,
            "overflow_y": null,
            "padding": null,
            "right": null,
            "top": null,
            "visibility": null,
            "width": null
          }
        },
        "ac8eacf9aea343f2bd8c10bd92ce82f9": {
          "model_module": "@jupyter-widgets/controls",
          "model_name": "DescriptionStyleModel",
          "model_module_version": "1.5.0",
          "state": {
            "_model_module": "@jupyter-widgets/controls",
            "_model_module_version": "1.5.0",
            "_model_name": "DescriptionStyleModel",
            "_view_count": null,
            "_view_module": "@jupyter-widgets/base",
            "_view_module_version": "1.2.0",
            "_view_name": "StyleView",
            "description_width": ""
          }
        },
        "418621bb7a974b859284a85ba50d4fb0": {
          "model_module": "@jupyter-widgets/base",
          "model_name": "LayoutModel",
          "model_module_version": "1.2.0",
          "state": {
            "_model_module": "@jupyter-widgets/base",
            "_model_module_version": "1.2.0",
            "_model_name": "LayoutModel",
            "_view_count": null,
            "_view_module": "@jupyter-widgets/base",
            "_view_module_version": "1.2.0",
            "_view_name": "LayoutView",
            "align_content": null,
            "align_items": null,
            "align_self": null,
            "border": null,
            "bottom": null,
            "display": null,
            "flex": null,
            "flex_flow": null,
            "grid_area": null,
            "grid_auto_columns": null,
            "grid_auto_flow": null,
            "grid_auto_rows": null,
            "grid_column": null,
            "grid_gap": null,
            "grid_row": null,
            "grid_template_areas": null,
            "grid_template_columns": null,
            "grid_template_rows": null,
            "height": null,
            "justify_content": null,
            "justify_items": null,
            "left": null,
            "margin": null,
            "max_height": null,
            "max_width": null,
            "min_height": null,
            "min_width": null,
            "object_fit": null,
            "object_position": null,
            "order": null,
            "overflow": null,
            "overflow_x": null,
            "overflow_y": null,
            "padding": null,
            "right": null,
            "top": null,
            "visibility": null,
            "width": null
          }
        },
        "6c38385bd017447fb3172803fe68cbc0": {
          "model_module": "@jupyter-widgets/controls",
          "model_name": "ProgressStyleModel",
          "model_module_version": "1.5.0",
          "state": {
            "_model_module": "@jupyter-widgets/controls",
            "_model_module_version": "1.5.0",
            "_model_name": "ProgressStyleModel",
            "_view_count": null,
            "_view_module": "@jupyter-widgets/base",
            "_view_module_version": "1.2.0",
            "_view_name": "StyleView",
            "bar_color": null,
            "description_width": ""
          }
        },
        "823359aa686f4e95bab72772598f7468": {
          "model_module": "@jupyter-widgets/base",
          "model_name": "LayoutModel",
          "model_module_version": "1.2.0",
          "state": {
            "_model_module": "@jupyter-widgets/base",
            "_model_module_version": "1.2.0",
            "_model_name": "LayoutModel",
            "_view_count": null,
            "_view_module": "@jupyter-widgets/base",
            "_view_module_version": "1.2.0",
            "_view_name": "LayoutView",
            "align_content": null,
            "align_items": null,
            "align_self": null,
            "border": null,
            "bottom": null,
            "display": null,
            "flex": null,
            "flex_flow": null,
            "grid_area": null,
            "grid_auto_columns": null,
            "grid_auto_flow": null,
            "grid_auto_rows": null,
            "grid_column": null,
            "grid_gap": null,
            "grid_row": null,
            "grid_template_areas": null,
            "grid_template_columns": null,
            "grid_template_rows": null,
            "height": null,
            "justify_content": null,
            "justify_items": null,
            "left": null,
            "margin": null,
            "max_height": null,
            "max_width": null,
            "min_height": null,
            "min_width": null,
            "object_fit": null,
            "object_position": null,
            "order": null,
            "overflow": null,
            "overflow_x": null,
            "overflow_y": null,
            "padding": null,
            "right": null,
            "top": null,
            "visibility": null,
            "width": null
          }
        },
        "4b1c11259e214232b091f6d982e66387": {
          "model_module": "@jupyter-widgets/controls",
          "model_name": "DescriptionStyleModel",
          "model_module_version": "1.5.0",
          "state": {
            "_model_module": "@jupyter-widgets/controls",
            "_model_module_version": "1.5.0",
            "_model_name": "DescriptionStyleModel",
            "_view_count": null,
            "_view_module": "@jupyter-widgets/base",
            "_view_module_version": "1.2.0",
            "_view_name": "StyleView",
            "description_width": ""
          }
        },
        "3083edb26e3b4fc1a02606dbf97d6f64": {
          "model_module": "@jupyter-widgets/controls",
          "model_name": "HBoxModel",
          "model_module_version": "1.5.0",
          "state": {
            "_dom_classes": [],
            "_model_module": "@jupyter-widgets/controls",
            "_model_module_version": "1.5.0",
            "_model_name": "HBoxModel",
            "_view_count": null,
            "_view_module": "@jupyter-widgets/controls",
            "_view_module_version": "1.5.0",
            "_view_name": "HBoxView",
            "box_style": "",
            "children": [
              "IPY_MODEL_cfd7b6d3b769422791b5f90f978ab45b",
              "IPY_MODEL_b65bae614bdf47f184bc8fdd0e09bc52",
              "IPY_MODEL_65d9852684bd4134bb0cd5a6af962f3e"
            ],
            "layout": "IPY_MODEL_f1a0f05ed30f4a549606607ffb3e1c0c"
          }
        },
        "cfd7b6d3b769422791b5f90f978ab45b": {
          "model_module": "@jupyter-widgets/controls",
          "model_name": "HTMLModel",
          "model_module_version": "1.5.0",
          "state": {
            "_dom_classes": [],
            "_model_module": "@jupyter-widgets/controls",
            "_model_module_version": "1.5.0",
            "_model_name": "HTMLModel",
            "_view_count": null,
            "_view_module": "@jupyter-widgets/controls",
            "_view_module_version": "1.5.0",
            "_view_name": "HTMLView",
            "description": "",
            "description_tooltip": null,
            "layout": "IPY_MODEL_b82be843e8264e2995e08f48466d0c83",
            "placeholder": "​",
            "style": "IPY_MODEL_fa5f5c2b294947eaa37456caf9e90b7d",
            "value": "Map: 100%"
          }
        },
        "b65bae614bdf47f184bc8fdd0e09bc52": {
          "model_module": "@jupyter-widgets/controls",
          "model_name": "FloatProgressModel",
          "model_module_version": "1.5.0",
          "state": {
            "_dom_classes": [],
            "_model_module": "@jupyter-widgets/controls",
            "_model_module_version": "1.5.0",
            "_model_name": "FloatProgressModel",
            "_view_count": null,
            "_view_module": "@jupyter-widgets/controls",
            "_view_module_version": "1.5.0",
            "_view_name": "ProgressView",
            "bar_style": "success",
            "description": "",
            "description_tooltip": null,
            "layout": "IPY_MODEL_6c2891fb2e0846a28734c5f4972511f4",
            "max": 113,
            "min": 0,
            "orientation": "horizontal",
            "style": "IPY_MODEL_f2d95ccc261c40e1b6c30956340a6b41",
            "value": 113
          }
        },
        "65d9852684bd4134bb0cd5a6af962f3e": {
          "model_module": "@jupyter-widgets/controls",
          "model_name": "HTMLModel",
          "model_module_version": "1.5.0",
          "state": {
            "_dom_classes": [],
            "_model_module": "@jupyter-widgets/controls",
            "_model_module_version": "1.5.0",
            "_model_name": "HTMLModel",
            "_view_count": null,
            "_view_module": "@jupyter-widgets/controls",
            "_view_module_version": "1.5.0",
            "_view_name": "HTMLView",
            "description": "",
            "description_tooltip": null,
            "layout": "IPY_MODEL_7c98bc6541804e108301f173f3372121",
            "placeholder": "​",
            "style": "IPY_MODEL_0d14eb2f8591478bb5d7778efb4f36ed",
            "value": " 113/113 [00:00&lt;00:00, 529.67 examples/s]"
          }
        },
        "f1a0f05ed30f4a549606607ffb3e1c0c": {
          "model_module": "@jupyter-widgets/base",
          "model_name": "LayoutModel",
          "model_module_version": "1.2.0",
          "state": {
            "_model_module": "@jupyter-widgets/base",
            "_model_module_version": "1.2.0",
            "_model_name": "LayoutModel",
            "_view_count": null,
            "_view_module": "@jupyter-widgets/base",
            "_view_module_version": "1.2.0",
            "_view_name": "LayoutView",
            "align_content": null,
            "align_items": null,
            "align_self": null,
            "border": null,
            "bottom": null,
            "display": null,
            "flex": null,
            "flex_flow": null,
            "grid_area": null,
            "grid_auto_columns": null,
            "grid_auto_flow": null,
            "grid_auto_rows": null,
            "grid_column": null,
            "grid_gap": null,
            "grid_row": null,
            "grid_template_areas": null,
            "grid_template_columns": null,
            "grid_template_rows": null,
            "height": null,
            "justify_content": null,
            "justify_items": null,
            "left": null,
            "margin": null,
            "max_height": null,
            "max_width": null,
            "min_height": null,
            "min_width": null,
            "object_fit": null,
            "object_position": null,
            "order": null,
            "overflow": null,
            "overflow_x": null,
            "overflow_y": null,
            "padding": null,
            "right": null,
            "top": null,
            "visibility": null,
            "width": null
          }
        },
        "b82be843e8264e2995e08f48466d0c83": {
          "model_module": "@jupyter-widgets/base",
          "model_name": "LayoutModel",
          "model_module_version": "1.2.0",
          "state": {
            "_model_module": "@jupyter-widgets/base",
            "_model_module_version": "1.2.0",
            "_model_name": "LayoutModel",
            "_view_count": null,
            "_view_module": "@jupyter-widgets/base",
            "_view_module_version": "1.2.0",
            "_view_name": "LayoutView",
            "align_content": null,
            "align_items": null,
            "align_self": null,
            "border": null,
            "bottom": null,
            "display": null,
            "flex": null,
            "flex_flow": null,
            "grid_area": null,
            "grid_auto_columns": null,
            "grid_auto_flow": null,
            "grid_auto_rows": null,
            "grid_column": null,
            "grid_gap": null,
            "grid_row": null,
            "grid_template_areas": null,
            "grid_template_columns": null,
            "grid_template_rows": null,
            "height": null,
            "justify_content": null,
            "justify_items": null,
            "left": null,
            "margin": null,
            "max_height": null,
            "max_width": null,
            "min_height": null,
            "min_width": null,
            "object_fit": null,
            "object_position": null,
            "order": null,
            "overflow": null,
            "overflow_x": null,
            "overflow_y": null,
            "padding": null,
            "right": null,
            "top": null,
            "visibility": null,
            "width": null
          }
        },
        "fa5f5c2b294947eaa37456caf9e90b7d": {
          "model_module": "@jupyter-widgets/controls",
          "model_name": "DescriptionStyleModel",
          "model_module_version": "1.5.0",
          "state": {
            "_model_module": "@jupyter-widgets/controls",
            "_model_module_version": "1.5.0",
            "_model_name": "DescriptionStyleModel",
            "_view_count": null,
            "_view_module": "@jupyter-widgets/base",
            "_view_module_version": "1.2.0",
            "_view_name": "StyleView",
            "description_width": ""
          }
        },
        "6c2891fb2e0846a28734c5f4972511f4": {
          "model_module": "@jupyter-widgets/base",
          "model_name": "LayoutModel",
          "model_module_version": "1.2.0",
          "state": {
            "_model_module": "@jupyter-widgets/base",
            "_model_module_version": "1.2.0",
            "_model_name": "LayoutModel",
            "_view_count": null,
            "_view_module": "@jupyter-widgets/base",
            "_view_module_version": "1.2.0",
            "_view_name": "LayoutView",
            "align_content": null,
            "align_items": null,
            "align_self": null,
            "border": null,
            "bottom": null,
            "display": null,
            "flex": null,
            "flex_flow": null,
            "grid_area": null,
            "grid_auto_columns": null,
            "grid_auto_flow": null,
            "grid_auto_rows": null,
            "grid_column": null,
            "grid_gap": null,
            "grid_row": null,
            "grid_template_areas": null,
            "grid_template_columns": null,
            "grid_template_rows": null,
            "height": null,
            "justify_content": null,
            "justify_items": null,
            "left": null,
            "margin": null,
            "max_height": null,
            "max_width": null,
            "min_height": null,
            "min_width": null,
            "object_fit": null,
            "object_position": null,
            "order": null,
            "overflow": null,
            "overflow_x": null,
            "overflow_y": null,
            "padding": null,
            "right": null,
            "top": null,
            "visibility": null,
            "width": null
          }
        },
        "f2d95ccc261c40e1b6c30956340a6b41": {
          "model_module": "@jupyter-widgets/controls",
          "model_name": "ProgressStyleModel",
          "model_module_version": "1.5.0",
          "state": {
            "_model_module": "@jupyter-widgets/controls",
            "_model_module_version": "1.5.0",
            "_model_name": "ProgressStyleModel",
            "_view_count": null,
            "_view_module": "@jupyter-widgets/base",
            "_view_module_version": "1.2.0",
            "_view_name": "StyleView",
            "bar_color": null,
            "description_width": ""
          }
        },
        "7c98bc6541804e108301f173f3372121": {
          "model_module": "@jupyter-widgets/base",
          "model_name": "LayoutModel",
          "model_module_version": "1.2.0",
          "state": {
            "_model_module": "@jupyter-widgets/base",
            "_model_module_version": "1.2.0",
            "_model_name": "LayoutModel",
            "_view_count": null,
            "_view_module": "@jupyter-widgets/base",
            "_view_module_version": "1.2.0",
            "_view_name": "LayoutView",
            "align_content": null,
            "align_items": null,
            "align_self": null,
            "border": null,
            "bottom": null,
            "display": null,
            "flex": null,
            "flex_flow": null,
            "grid_area": null,
            "grid_auto_columns": null,
            "grid_auto_flow": null,
            "grid_auto_rows": null,
            "grid_column": null,
            "grid_gap": null,
            "grid_row": null,
            "grid_template_areas": null,
            "grid_template_columns": null,
            "grid_template_rows": null,
            "height": null,
            "justify_content": null,
            "justify_items": null,
            "left": null,
            "margin": null,
            "max_height": null,
            "max_width": null,
            "min_height": null,
            "min_width": null,
            "object_fit": null,
            "object_position": null,
            "order": null,
            "overflow": null,
            "overflow_x": null,
            "overflow_y": null,
            "padding": null,
            "right": null,
            "top": null,
            "visibility": null,
            "width": null
          }
        },
        "0d14eb2f8591478bb5d7778efb4f36ed": {
          "model_module": "@jupyter-widgets/controls",
          "model_name": "DescriptionStyleModel",
          "model_module_version": "1.5.0",
          "state": {
            "_model_module": "@jupyter-widgets/controls",
            "_model_module_version": "1.5.0",
            "_model_name": "DescriptionStyleModel",
            "_view_count": null,
            "_view_module": "@jupyter-widgets/base",
            "_view_module_version": "1.2.0",
            "_view_name": "StyleView",
            "description_width": ""
          }
        },
        "3f8d299af9b84eff911bc1d7e7f3ee5c": {
          "model_module": "@jupyter-widgets/controls",
          "model_name": "HBoxModel",
          "model_module_version": "1.5.0",
          "state": {
            "_dom_classes": [],
            "_model_module": "@jupyter-widgets/controls",
            "_model_module_version": "1.5.0",
            "_model_name": "HBoxModel",
            "_view_count": null,
            "_view_module": "@jupyter-widgets/controls",
            "_view_module_version": "1.5.0",
            "_view_name": "HBoxView",
            "box_style": "",
            "children": [
              "IPY_MODEL_0e38951b02a4421491ff28c6baa10050",
              "IPY_MODEL_1a19760441e34ea4b7d03b4fc5b07959",
              "IPY_MODEL_85f6bd14a18b4078a58385bd31854b14"
            ],
            "layout": "IPY_MODEL_ef838cfa85e54fb1b7257aedd8f8fc46"
          }
        },
        "0e38951b02a4421491ff28c6baa10050": {
          "model_module": "@jupyter-widgets/controls",
          "model_name": "HTMLModel",
          "model_module_version": "1.5.0",
          "state": {
            "_dom_classes": [],
            "_model_module": "@jupyter-widgets/controls",
            "_model_module_version": "1.5.0",
            "_model_name": "HTMLModel",
            "_view_count": null,
            "_view_module": "@jupyter-widgets/controls",
            "_view_module_version": "1.5.0",
            "_view_name": "HTMLView",
            "description": "",
            "description_tooltip": null,
            "layout": "IPY_MODEL_776155baa9284a7b8977dfa89278c802",
            "placeholder": "​",
            "style": "IPY_MODEL_31a4efd7b43048518a2616e9e5e4279c",
            "value": "Downloading builder script: 100%"
          }
        },
        "1a19760441e34ea4b7d03b4fc5b07959": {
          "model_module": "@jupyter-widgets/controls",
          "model_name": "FloatProgressModel",
          "model_module_version": "1.5.0",
          "state": {
            "_dom_classes": [],
            "_model_module": "@jupyter-widgets/controls",
            "_model_module_version": "1.5.0",
            "_model_name": "FloatProgressModel",
            "_view_count": null,
            "_view_module": "@jupyter-widgets/controls",
            "_view_module_version": "1.5.0",
            "_view_name": "ProgressView",
            "bar_style": "success",
            "description": "",
            "description_tooltip": null,
            "layout": "IPY_MODEL_8a4ec93e2a314160a937879d3a25ddcc",
            "max": 4203,
            "min": 0,
            "orientation": "horizontal",
            "style": "IPY_MODEL_6123e5f1eb054cdd950c782a32f8c11e",
            "value": 4203
          }
        },
        "85f6bd14a18b4078a58385bd31854b14": {
          "model_module": "@jupyter-widgets/controls",
          "model_name": "HTMLModel",
          "model_module_version": "1.5.0",
          "state": {
            "_dom_classes": [],
            "_model_module": "@jupyter-widgets/controls",
            "_model_module_version": "1.5.0",
            "_model_name": "HTMLModel",
            "_view_count": null,
            "_view_module": "@jupyter-widgets/controls",
            "_view_module_version": "1.5.0",
            "_view_name": "HTMLView",
            "description": "",
            "description_tooltip": null,
            "layout": "IPY_MODEL_0abecc4e387c4d03a711f488c08ced8d",
            "placeholder": "​",
            "style": "IPY_MODEL_ce005c0a40b3469d9848c91ee748c782",
            "value": " 4.20k/4.20k [00:00&lt;00:00, 150kB/s]"
          }
        },
        "ef838cfa85e54fb1b7257aedd8f8fc46": {
          "model_module": "@jupyter-widgets/base",
          "model_name": "LayoutModel",
          "model_module_version": "1.2.0",
          "state": {
            "_model_module": "@jupyter-widgets/base",
            "_model_module_version": "1.2.0",
            "_model_name": "LayoutModel",
            "_view_count": null,
            "_view_module": "@jupyter-widgets/base",
            "_view_module_version": "1.2.0",
            "_view_name": "LayoutView",
            "align_content": null,
            "align_items": null,
            "align_self": null,
            "border": null,
            "bottom": null,
            "display": null,
            "flex": null,
            "flex_flow": null,
            "grid_area": null,
            "grid_auto_columns": null,
            "grid_auto_flow": null,
            "grid_auto_rows": null,
            "grid_column": null,
            "grid_gap": null,
            "grid_row": null,
            "grid_template_areas": null,
            "grid_template_columns": null,
            "grid_template_rows": null,
            "height": null,
            "justify_content": null,
            "justify_items": null,
            "left": null,
            "margin": null,
            "max_height": null,
            "max_width": null,
            "min_height": null,
            "min_width": null,
            "object_fit": null,
            "object_position": null,
            "order": null,
            "overflow": null,
            "overflow_x": null,
            "overflow_y": null,
            "padding": null,
            "right": null,
            "top": null,
            "visibility": null,
            "width": null
          }
        },
        "776155baa9284a7b8977dfa89278c802": {
          "model_module": "@jupyter-widgets/base",
          "model_name": "LayoutModel",
          "model_module_version": "1.2.0",
          "state": {
            "_model_module": "@jupyter-widgets/base",
            "_model_module_version": "1.2.0",
            "_model_name": "LayoutModel",
            "_view_count": null,
            "_view_module": "@jupyter-widgets/base",
            "_view_module_version": "1.2.0",
            "_view_name": "LayoutView",
            "align_content": null,
            "align_items": null,
            "align_self": null,
            "border": null,
            "bottom": null,
            "display": null,
            "flex": null,
            "flex_flow": null,
            "grid_area": null,
            "grid_auto_columns": null,
            "grid_auto_flow": null,
            "grid_auto_rows": null,
            "grid_column": null,
            "grid_gap": null,
            "grid_row": null,
            "grid_template_areas": null,
            "grid_template_columns": null,
            "grid_template_rows": null,
            "height": null,
            "justify_content": null,
            "justify_items": null,
            "left": null,
            "margin": null,
            "max_height": null,
            "max_width": null,
            "min_height": null,
            "min_width": null,
            "object_fit": null,
            "object_position": null,
            "order": null,
            "overflow": null,
            "overflow_x": null,
            "overflow_y": null,
            "padding": null,
            "right": null,
            "top": null,
            "visibility": null,
            "width": null
          }
        },
        "31a4efd7b43048518a2616e9e5e4279c": {
          "model_module": "@jupyter-widgets/controls",
          "model_name": "DescriptionStyleModel",
          "model_module_version": "1.5.0",
          "state": {
            "_model_module": "@jupyter-widgets/controls",
            "_model_module_version": "1.5.0",
            "_model_name": "DescriptionStyleModel",
            "_view_count": null,
            "_view_module": "@jupyter-widgets/base",
            "_view_module_version": "1.2.0",
            "_view_name": "StyleView",
            "description_width": ""
          }
        },
        "8a4ec93e2a314160a937879d3a25ddcc": {
          "model_module": "@jupyter-widgets/base",
          "model_name": "LayoutModel",
          "model_module_version": "1.2.0",
          "state": {
            "_model_module": "@jupyter-widgets/base",
            "_model_module_version": "1.2.0",
            "_model_name": "LayoutModel",
            "_view_count": null,
            "_view_module": "@jupyter-widgets/base",
            "_view_module_version": "1.2.0",
            "_view_name": "LayoutView",
            "align_content": null,
            "align_items": null,
            "align_self": null,
            "border": null,
            "bottom": null,
            "display": null,
            "flex": null,
            "flex_flow": null,
            "grid_area": null,
            "grid_auto_columns": null,
            "grid_auto_flow": null,
            "grid_auto_rows": null,
            "grid_column": null,
            "grid_gap": null,
            "grid_row": null,
            "grid_template_areas": null,
            "grid_template_columns": null,
            "grid_template_rows": null,
            "height": null,
            "justify_content": null,
            "justify_items": null,
            "left": null,
            "margin": null,
            "max_height": null,
            "max_width": null,
            "min_height": null,
            "min_width": null,
            "object_fit": null,
            "object_position": null,
            "order": null,
            "overflow": null,
            "overflow_x": null,
            "overflow_y": null,
            "padding": null,
            "right": null,
            "top": null,
            "visibility": null,
            "width": null
          }
        },
        "6123e5f1eb054cdd950c782a32f8c11e": {
          "model_module": "@jupyter-widgets/controls",
          "model_name": "ProgressStyleModel",
          "model_module_version": "1.5.0",
          "state": {
            "_model_module": "@jupyter-widgets/controls",
            "_model_module_version": "1.5.0",
            "_model_name": "ProgressStyleModel",
            "_view_count": null,
            "_view_module": "@jupyter-widgets/base",
            "_view_module_version": "1.2.0",
            "_view_name": "StyleView",
            "bar_color": null,
            "description_width": ""
          }
        },
        "0abecc4e387c4d03a711f488c08ced8d": {
          "model_module": "@jupyter-widgets/base",
          "model_name": "LayoutModel",
          "model_module_version": "1.2.0",
          "state": {
            "_model_module": "@jupyter-widgets/base",
            "_model_module_version": "1.2.0",
            "_model_name": "LayoutModel",
            "_view_count": null,
            "_view_module": "@jupyter-widgets/base",
            "_view_module_version": "1.2.0",
            "_view_name": "LayoutView",
            "align_content": null,
            "align_items": null,
            "align_self": null,
            "border": null,
            "bottom": null,
            "display": null,
            "flex": null,
            "flex_flow": null,
            "grid_area": null,
            "grid_auto_columns": null,
            "grid_auto_flow": null,
            "grid_auto_rows": null,
            "grid_column": null,
            "grid_gap": null,
            "grid_row": null,
            "grid_template_areas": null,
            "grid_template_columns": null,
            "grid_template_rows": null,
            "height": null,
            "justify_content": null,
            "justify_items": null,
            "left": null,
            "margin": null,
            "max_height": null,
            "max_width": null,
            "min_height": null,
            "min_width": null,
            "object_fit": null,
            "object_position": null,
            "order": null,
            "overflow": null,
            "overflow_x": null,
            "overflow_y": null,
            "padding": null,
            "right": null,
            "top": null,
            "visibility": null,
            "width": null
          }
        },
        "ce005c0a40b3469d9848c91ee748c782": {
          "model_module": "@jupyter-widgets/controls",
          "model_name": "DescriptionStyleModel",
          "model_module_version": "1.5.0",
          "state": {
            "_model_module": "@jupyter-widgets/controls",
            "_model_module_version": "1.5.0",
            "_model_name": "DescriptionStyleModel",
            "_view_count": null,
            "_view_module": "@jupyter-widgets/base",
            "_view_module_version": "1.2.0",
            "_view_name": "StyleView",
            "description_width": ""
          }
        },
        "1e3f52283f0046469072f1d5daa44bf7": {
          "model_module": "@jupyter-widgets/controls",
          "model_name": "HBoxModel",
          "model_module_version": "1.5.0",
          "state": {
            "_dom_classes": [],
            "_model_module": "@jupyter-widgets/controls",
            "_model_module_version": "1.5.0",
            "_model_name": "HBoxModel",
            "_view_count": null,
            "_view_module": "@jupyter-widgets/controls",
            "_view_module_version": "1.5.0",
            "_view_name": "HBoxView",
            "box_style": "",
            "children": [
              "IPY_MODEL_2db4364f408b4e7897fd454edeb927b7",
              "IPY_MODEL_02f6e981081541da8ed8b4d3ba3eab01",
              "IPY_MODEL_39058a23fd604f08bb75385f88a5834b"
            ],
            "layout": "IPY_MODEL_8ad64a4267ab4e2b8620124148ded2be"
          }
        },
        "2db4364f408b4e7897fd454edeb927b7": {
          "model_module": "@jupyter-widgets/controls",
          "model_name": "HTMLModel",
          "model_module_version": "1.5.0",
          "state": {
            "_dom_classes": [],
            "_model_module": "@jupyter-widgets/controls",
            "_model_module_version": "1.5.0",
            "_model_name": "HTMLModel",
            "_view_count": null,
            "_view_module": "@jupyter-widgets/controls",
            "_view_module_version": "1.5.0",
            "_view_name": "HTMLView",
            "description": "",
            "description_tooltip": null,
            "layout": "IPY_MODEL_29daa7d7edd847eca5c738adbaaaf18d",
            "placeholder": "​",
            "style": "IPY_MODEL_982050812c754a5f882cf00ed0ddc748",
            "value": "pytorch_model.bin: 100%"
          }
        },
        "02f6e981081541da8ed8b4d3ba3eab01": {
          "model_module": "@jupyter-widgets/controls",
          "model_name": "FloatProgressModel",
          "model_module_version": "1.5.0",
          "state": {
            "_dom_classes": [],
            "_model_module": "@jupyter-widgets/controls",
            "_model_module_version": "1.5.0",
            "_model_name": "FloatProgressModel",
            "_view_count": null,
            "_view_module": "@jupyter-widgets/controls",
            "_view_module_version": "1.5.0",
            "_view_name": "ProgressView",
            "bar_style": "success",
            "description": "",
            "description_tooltip": null,
            "layout": "IPY_MODEL_de45aed268ef4fc9b892f03746b9a2fc",
            "max": 380267417,
            "min": 0,
            "orientation": "horizontal",
            "style": "IPY_MODEL_8fb571b6cb2849c785202dffaf85ce01",
            "value": 380267417
          }
        },
        "39058a23fd604f08bb75385f88a5834b": {
          "model_module": "@jupyter-widgets/controls",
          "model_name": "HTMLModel",
          "model_module_version": "1.5.0",
          "state": {
            "_dom_classes": [],
            "_model_module": "@jupyter-widgets/controls",
            "_model_module_version": "1.5.0",
            "_model_name": "HTMLModel",
            "_view_count": null,
            "_view_module": "@jupyter-widgets/controls",
            "_view_module_version": "1.5.0",
            "_view_name": "HTMLView",
            "description": "",
            "description_tooltip": null,
            "layout": "IPY_MODEL_677698fdd8c7473da5d90bcaa7bec358",
            "placeholder": "​",
            "style": "IPY_MODEL_e4cc116a52884bfbb06052520ff1f457",
            "value": " 380M/380M [00:03&lt;00:00, 137MB/s]"
          }
        },
        "8ad64a4267ab4e2b8620124148ded2be": {
          "model_module": "@jupyter-widgets/base",
          "model_name": "LayoutModel",
          "model_module_version": "1.2.0",
          "state": {
            "_model_module": "@jupyter-widgets/base",
            "_model_module_version": "1.2.0",
            "_model_name": "LayoutModel",
            "_view_count": null,
            "_view_module": "@jupyter-widgets/base",
            "_view_module_version": "1.2.0",
            "_view_name": "LayoutView",
            "align_content": null,
            "align_items": null,
            "align_self": null,
            "border": null,
            "bottom": null,
            "display": null,
            "flex": null,
            "flex_flow": null,
            "grid_area": null,
            "grid_auto_columns": null,
            "grid_auto_flow": null,
            "grid_auto_rows": null,
            "grid_column": null,
            "grid_gap": null,
            "grid_row": null,
            "grid_template_areas": null,
            "grid_template_columns": null,
            "grid_template_rows": null,
            "height": null,
            "justify_content": null,
            "justify_items": null,
            "left": null,
            "margin": null,
            "max_height": null,
            "max_width": null,
            "min_height": null,
            "min_width": null,
            "object_fit": null,
            "object_position": null,
            "order": null,
            "overflow": null,
            "overflow_x": null,
            "overflow_y": null,
            "padding": null,
            "right": null,
            "top": null,
            "visibility": null,
            "width": null
          }
        },
        "29daa7d7edd847eca5c738adbaaaf18d": {
          "model_module": "@jupyter-widgets/base",
          "model_name": "LayoutModel",
          "model_module_version": "1.2.0",
          "state": {
            "_model_module": "@jupyter-widgets/base",
            "_model_module_version": "1.2.0",
            "_model_name": "LayoutModel",
            "_view_count": null,
            "_view_module": "@jupyter-widgets/base",
            "_view_module_version": "1.2.0",
            "_view_name": "LayoutView",
            "align_content": null,
            "align_items": null,
            "align_self": null,
            "border": null,
            "bottom": null,
            "display": null,
            "flex": null,
            "flex_flow": null,
            "grid_area": null,
            "grid_auto_columns": null,
            "grid_auto_flow": null,
            "grid_auto_rows": null,
            "grid_column": null,
            "grid_gap": null,
            "grid_row": null,
            "grid_template_areas": null,
            "grid_template_columns": null,
            "grid_template_rows": null,
            "height": null,
            "justify_content": null,
            "justify_items": null,
            "left": null,
            "margin": null,
            "max_height": null,
            "max_width": null,
            "min_height": null,
            "min_width": null,
            "object_fit": null,
            "object_position": null,
            "order": null,
            "overflow": null,
            "overflow_x": null,
            "overflow_y": null,
            "padding": null,
            "right": null,
            "top": null,
            "visibility": null,
            "width": null
          }
        },
        "982050812c754a5f882cf00ed0ddc748": {
          "model_module": "@jupyter-widgets/controls",
          "model_name": "DescriptionStyleModel",
          "model_module_version": "1.5.0",
          "state": {
            "_model_module": "@jupyter-widgets/controls",
            "_model_module_version": "1.5.0",
            "_model_name": "DescriptionStyleModel",
            "_view_count": null,
            "_view_module": "@jupyter-widgets/base",
            "_view_module_version": "1.2.0",
            "_view_name": "StyleView",
            "description_width": ""
          }
        },
        "de45aed268ef4fc9b892f03746b9a2fc": {
          "model_module": "@jupyter-widgets/base",
          "model_name": "LayoutModel",
          "model_module_version": "1.2.0",
          "state": {
            "_model_module": "@jupyter-widgets/base",
            "_model_module_version": "1.2.0",
            "_model_name": "LayoutModel",
            "_view_count": null,
            "_view_module": "@jupyter-widgets/base",
            "_view_module_version": "1.2.0",
            "_view_name": "LayoutView",
            "align_content": null,
            "align_items": null,
            "align_self": null,
            "border": null,
            "bottom": null,
            "display": null,
            "flex": null,
            "flex_flow": null,
            "grid_area": null,
            "grid_auto_columns": null,
            "grid_auto_flow": null,
            "grid_auto_rows": null,
            "grid_column": null,
            "grid_gap": null,
            "grid_row": null,
            "grid_template_areas": null,
            "grid_template_columns": null,
            "grid_template_rows": null,
            "height": null,
            "justify_content": null,
            "justify_items": null,
            "left": null,
            "margin": null,
            "max_height": null,
            "max_width": null,
            "min_height": null,
            "min_width": null,
            "object_fit": null,
            "object_position": null,
            "order": null,
            "overflow": null,
            "overflow_x": null,
            "overflow_y": null,
            "padding": null,
            "right": null,
            "top": null,
            "visibility": null,
            "width": null
          }
        },
        "8fb571b6cb2849c785202dffaf85ce01": {
          "model_module": "@jupyter-widgets/controls",
          "model_name": "ProgressStyleModel",
          "model_module_version": "1.5.0",
          "state": {
            "_model_module": "@jupyter-widgets/controls",
            "_model_module_version": "1.5.0",
            "_model_name": "ProgressStyleModel",
            "_view_count": null,
            "_view_module": "@jupyter-widgets/base",
            "_view_module_version": "1.2.0",
            "_view_name": "StyleView",
            "bar_color": null,
            "description_width": ""
          }
        },
        "677698fdd8c7473da5d90bcaa7bec358": {
          "model_module": "@jupyter-widgets/base",
          "model_name": "LayoutModel",
          "model_module_version": "1.2.0",
          "state": {
            "_model_module": "@jupyter-widgets/base",
            "_model_module_version": "1.2.0",
            "_model_name": "LayoutModel",
            "_view_count": null,
            "_view_module": "@jupyter-widgets/base",
            "_view_module_version": "1.2.0",
            "_view_name": "LayoutView",
            "align_content": null,
            "align_items": null,
            "align_self": null,
            "border": null,
            "bottom": null,
            "display": null,
            "flex": null,
            "flex_flow": null,
            "grid_area": null,
            "grid_auto_columns": null,
            "grid_auto_flow": null,
            "grid_auto_rows": null,
            "grid_column": null,
            "grid_gap": null,
            "grid_row": null,
            "grid_template_areas": null,
            "grid_template_columns": null,
            "grid_template_rows": null,
            "height": null,
            "justify_content": null,
            "justify_items": null,
            "left": null,
            "margin": null,
            "max_height": null,
            "max_width": null,
            "min_height": null,
            "min_width": null,
            "object_fit": null,
            "object_position": null,
            "order": null,
            "overflow": null,
            "overflow_x": null,
            "overflow_y": null,
            "padding": null,
            "right": null,
            "top": null,
            "visibility": null,
            "width": null
          }
        },
        "e4cc116a52884bfbb06052520ff1f457": {
          "model_module": "@jupyter-widgets/controls",
          "model_name": "DescriptionStyleModel",
          "model_module_version": "1.5.0",
          "state": {
            "_model_module": "@jupyter-widgets/controls",
            "_model_module_version": "1.5.0",
            "_model_name": "DescriptionStyleModel",
            "_view_count": null,
            "_view_module": "@jupyter-widgets/base",
            "_view_module_version": "1.2.0",
            "_view_name": "StyleView",
            "description_width": ""
          }
        }
      }
    }
  },
  "nbformat": 4,
  "nbformat_minor": 0
}